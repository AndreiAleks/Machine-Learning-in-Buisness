{
 "cells": [
  {
   "cell_type": "markdown",
   "metadata": {},
   "source": [
    "<div class=\"alert alert-success\">\n",
    "<font size=\"4\"><b>✔️ Комментарий ревьюера V4</b></font>\n",
    "    <br /> \n",
    "    <font size=\"3\", color = \"black\">\n",
    "<br />\n",
    "Ещё раз добрый вечер!\n",
    "\n",
    "Проект готов к тому, чтобы быть принятым, ура! Кроме того, я рассказал тебе об одном трудноуловимом баге, который ты не допустил, в отличие от большинства студентов :)\n",
    "\n",
    "Так что теперь мне остаётся лишь пожелать успехов с последующими проектами!\n",
    "<br />\n",
    "    </font>\n",
    "</div>"
   ]
  },
  {
   "cell_type": "markdown",
   "metadata": {},
   "source": [
    "<div class=\"alert alert-info\">\n",
    "<font size=\"4\">🍕<b> Комментарий ревьюера V3</b></font>\n",
    "    <br /> \n",
    "    <font size=\"3\", color = \"black\">\n",
    "<br /> \n",
    "Приветствую снова!\n",
    "\n",
    "Стало намного лучше, и уже почти зачёт. Осталось только доразобраться с риском убытков. Я расписал тебе со ссылкой на ТЗ что такое риск убытков в текущем проекте, описал что нужно сделать, чтобы привести проект к состоянию полной готовности. Уверен, ты легко добъёшь эту работу ;)"
   ]
  },
  {
   "cell_type": "markdown",
   "metadata": {},
   "source": [
    "<div class=\"alert alert-info\">\n",
    "<font size=\"4\">🍕<b> Комментарий ревьюера V2</b></font>\n",
    "    <br /> \n",
    "    <font size=\"3\", color = \"black\">\n",
    "<br /> \n",
    "Приветствую ещё раз!\n",
    "\n",
    "Как и обещал, восстановил свои не только красные комментарии.\n",
    "\n",
    "Некоторые изменения к лучшему есть, тем не менее, ещё поработать нужно:\n",
    "\n",
    "+ Таки изменить метод расчёта прибыли в регионе\n",
    "+ Скорректировать бутстрапирование (в комментарии описал как)\n",
    "+ Поправить вычисление дов. интервала, добавить вычисление риска убытков\n",
    "\n",
    "На этом пока всё. Жду новую отправку!\n",
    "    </font>\n",
    "\n",
    "</div>"
   ]
  },
  {
   "cell_type": "markdown",
   "metadata": {},
   "source": [
    "<div class=\"alert alert-info\">\n",
    "<font size=\"4\"><b>Комментарий ревьюера</b></font>\n",
    "    <br /> \n",
    "    <font size=\"3\", color = \"black\">\n",
    "<br />\n",
    "    Привет, Андрей! Спасибо, что прислал задание :) <br>Меня зовут Никита Сон и я буду проверять твой проект. Предлагаю обращаться друг к другу на ты, как это принято в Практикуме, если ты не против. Но если хочешь на Вы - не буду возражать 🙂\n",
    "        \n",
    "Поехали 🚀\n",
    "\n",
    "**Важно**:<br>\n",
    "Сразу скажу, что по ходу проверки у меня отвалился сервер Практикума и комментарии не сохранились. Поэтому сейчас, пока не подошёл дедлайн проверки, я оставляю только красные (их всего 3 и твоя задача сейчас - поправить их), остальные напишу на следующей проверке. Не подумай, что у тебя ужасная работа, что только красное, просто случилось техническое недоразумение ((\n",
    "    <br />\n",
    "\n",
    "Мои комментарии обозначены пометкой <b>Комментарий ревьюера</b>. При внесении правок в проект, пожалуйста, не меняй и не удаляй их т.к. дальнейшая проверка будет происходить в том числе на основе того, исправлены замечания в комментариях или нет. Зато ты всегда можешь оставить свои комментарии для меня :)\n",
    "    </font>\n",
    "</div>\n",
    "\n",
    "<div class=\"alert alert-success\">\n",
    "<font size=\"4\"><b>✔️ Комментарий ревьюера</b></font>\n",
    "    <br /> \n",
    "    <font size=\"3\", color = \"black\">\n",
    "<br />\n",
    "В зелёных блоках будут позитивные комментарии\n",
    "<br />\n",
    "    </font>\n",
    "</div>\n",
    "\n",
    "<div class=\"alert alert-warning\">\n",
    "<font size=\"4\"><b>⚠️ Комментарий ревьюера</b></font>\n",
    "    <br /> \n",
    "    <font size=\"3\", color = \"black\">\n",
    "<br />\n",
    "В жёлтых - некритичные замечания\n",
    "    </font>\n",
    "</div>\n",
    "\n",
    "<div class=\"alert alert-danger\">\n",
    "<font size=\"4\"><b>❌ Комментарий ревьюера</b></font>\n",
    "    <br /> \n",
    "    <font size=\"3\", color = \"black\">\n",
    "<br /> \n",
    "В красных - важные замечания, которые надо обязательно устранить\n",
    "    </font>\n",
    "</div>\n",
    "\n",
    "<div class=\"alert alert-info\">\n",
    "<font size=\"4\">🍕<b> Комментарий ревьюера</b></font>\n",
    "    <br /> \n",
    "    <font size=\"3\", color = \"black\">\n",
    "<br /> \n",
    "В синих с пиццей - различные нейтральные сообщения, советы на будущее и прочее.\n",
    "    </font>\n",
    "</div>"
   ]
  },
  {
   "cell_type": "markdown",
   "metadata": {},
   "source": [
    "# Выбор локации для скважины"
   ]
  },
  {
   "cell_type": "markdown",
   "metadata": {},
   "source": [
    "Допустим, вы работаете в добывающей компании «ГлавРосГосНефть». Нужно решить, где бурить новую скважину.\n",
    "\n",
    "Вам предоставлены пробы нефти в трёх регионах: в каждом 10 000 месторождений, где измерили качество нефти и объём её запасов. Постройте модель машинного обучения, которая поможет определить регион, где добыча принесёт наибольшую прибыль. Проанализируйте возможную прибыль и риски техникой *Bootstrap.*\n",
    "\n",
    "Шаги для выбора локации:\n",
    "\n",
    "- В избранном регионе ищут месторождения, для каждого определяют значения признаков;\n",
    "- Строят модель и оценивают объём запасов;\n",
    "- Выбирают месторождения с самым высокими оценками значений. Количество месторождений зависит от бюджета компании и стоимости разработки одной скважины;\n",
    "- Прибыль равна суммарной прибыли отобранных месторождений."
   ]
  },
  {
   "cell_type": "markdown",
   "metadata": {},
   "source": [
    "## Технический блок"
   ]
  },
  {
   "cell_type": "markdown",
   "metadata": {},
   "source": [
    "#### Установка Библиотек"
   ]
  },
  {
   "cell_type": "code",
   "execution_count": 98,
   "metadata": {},
   "outputs": [
    {
     "name": "stdout",
     "output_type": "stream",
     "text": [
      "Requirement already satisfied: seaborn in /opt/conda/lib/python3.9/site-packages (0.13.2)\n",
      "Requirement already satisfied: numpy!=1.24.0,>=1.20 in /opt/conda/lib/python3.9/site-packages (from seaborn) (1.26.4)\n",
      "Requirement already satisfied: pandas>=1.2 in /opt/conda/lib/python3.9/site-packages (from seaborn) (2.2.2)\n",
      "Requirement already satisfied: matplotlib!=3.6.1,>=3.4 in /opt/conda/lib/python3.9/site-packages (from seaborn) (3.8.4)\n",
      "Requirement already satisfied: fonttools>=4.22.0 in /opt/conda/lib/python3.9/site-packages (from matplotlib!=3.6.1,>=3.4->seaborn) (4.51.0)\n",
      "Requirement already satisfied: kiwisolver>=1.3.1 in /opt/conda/lib/python3.9/site-packages (from matplotlib!=3.6.1,>=3.4->seaborn) (1.4.4)\n",
      "Requirement already satisfied: pillow>=8 in /opt/conda/lib/python3.9/site-packages (from matplotlib!=3.6.1,>=3.4->seaborn) (8.4.0)\n",
      "Requirement already satisfied: cycler>=0.10 in /opt/conda/lib/python3.9/site-packages (from matplotlib!=3.6.1,>=3.4->seaborn) (0.11.0)\n",
      "Requirement already satisfied: python-dateutil>=2.7 in /opt/conda/lib/python3.9/site-packages (from matplotlib!=3.6.1,>=3.4->seaborn) (2.9.0.post0)\n",
      "Requirement already satisfied: packaging>=20.0 in /opt/conda/lib/python3.9/site-packages (from matplotlib!=3.6.1,>=3.4->seaborn) (21.3)\n",
      "Requirement already satisfied: contourpy>=1.0.1 in /opt/conda/lib/python3.9/site-packages (from matplotlib!=3.6.1,>=3.4->seaborn) (1.2.1)\n",
      "Requirement already satisfied: pyparsing>=2.3.1 in /opt/conda/lib/python3.9/site-packages (from matplotlib!=3.6.1,>=3.4->seaborn) (2.4.7)\n",
      "Requirement already satisfied: importlib-resources>=3.2.0 in /opt/conda/lib/python3.9/site-packages (from matplotlib!=3.6.1,>=3.4->seaborn) (6.4.0)\n",
      "Requirement already satisfied: zipp>=3.1.0 in /opt/conda/lib/python3.9/site-packages (from importlib-resources>=3.2.0->matplotlib!=3.6.1,>=3.4->seaborn) (3.5.0)\n",
      "Requirement already satisfied: pytz>=2020.1 in /opt/conda/lib/python3.9/site-packages (from pandas>=1.2->seaborn) (2021.1)\n",
      "Requirement already satisfied: tzdata>=2022.7 in /opt/conda/lib/python3.9/site-packages (from pandas>=1.2->seaborn) (2024.1)\n",
      "Requirement already satisfied: six>=1.5 in /opt/conda/lib/python3.9/site-packages (from python-dateutil>=2.7->matplotlib!=3.6.1,>=3.4->seaborn) (1.16.0)\n",
      "Note: you may need to restart the kernel to use updated packages.\n"
     ]
    }
   ],
   "source": [
    " pip install -U seaborn"
   ]
  },
  {
   "cell_type": "code",
   "execution_count": 99,
   "metadata": {},
   "outputs": [
    {
     "name": "stdout",
     "output_type": "stream",
     "text": [
      "Requirement already satisfied: scikit-learn in /opt/conda/lib/python3.9/site-packages (1.4.2)\n",
      "Requirement already satisfied: threadpoolctl>=2.0.0 in /opt/conda/lib/python3.9/site-packages (from scikit-learn) (3.1.0)\n",
      "Requirement already satisfied: scipy>=1.6.0 in /opt/conda/lib/python3.9/site-packages (from scikit-learn) (1.13.0)\n",
      "Requirement already satisfied: numpy>=1.19.5 in /opt/conda/lib/python3.9/site-packages (from scikit-learn) (1.26.4)\n",
      "Requirement already satisfied: joblib>=1.2.0 in /opt/conda/lib/python3.9/site-packages (from scikit-learn) (1.4.0)\n",
      "Note: you may need to restart the kernel to use updated packages.\n"
     ]
    }
   ],
   "source": [
    " pip install -U scikit-learn"
   ]
  },
  {
   "cell_type": "code",
   "execution_count": 100,
   "metadata": {},
   "outputs": [
    {
     "name": "stdout",
     "output_type": "stream",
     "text": [
      "Requirement already satisfied: plotly in /opt/conda/lib/python3.9/site-packages (5.21.0)\n",
      "Requirement already satisfied: packaging in /opt/conda/lib/python3.9/site-packages (from plotly) (21.3)\n",
      "Requirement already satisfied: tenacity>=6.2.0 in /opt/conda/lib/python3.9/site-packages (from plotly) (8.0.1)\n",
      "Requirement already satisfied: pyparsing!=3.0.5,>=2.0.2 in /opt/conda/lib/python3.9/site-packages (from packaging->plotly) (2.4.7)\n",
      "Note: you may need to restart the kernel to use updated packages.\n"
     ]
    }
   ],
   "source": [
    " pip install -U plotly"
   ]
  },
  {
   "cell_type": "code",
   "execution_count": 101,
   "metadata": {},
   "outputs": [
    {
     "name": "stdout",
     "output_type": "stream",
     "text": [
      "Requirement already satisfied: phik in /opt/conda/lib/python3.9/site-packages (0.12.4)\n",
      "Requirement already satisfied: scipy>=1.5.2 in /opt/conda/lib/python3.9/site-packages (from phik) (1.13.0)\n",
      "Requirement already satisfied: matplotlib>=2.2.3 in /opt/conda/lib/python3.9/site-packages (from phik) (3.8.4)\n",
      "Requirement already satisfied: numpy>=1.18.0 in /opt/conda/lib/python3.9/site-packages (from phik) (1.26.4)\n",
      "Requirement already satisfied: joblib>=0.14.1 in /opt/conda/lib/python3.9/site-packages (from phik) (1.4.0)\n",
      "Requirement already satisfied: pandas>=0.25.1 in /opt/conda/lib/python3.9/site-packages (from phik) (2.2.2)\n",
      "Requirement already satisfied: python-dateutil>=2.7 in /opt/conda/lib/python3.9/site-packages (from matplotlib>=2.2.3->phik) (2.9.0.post0)\n",
      "Requirement already satisfied: packaging>=20.0 in /opt/conda/lib/python3.9/site-packages (from matplotlib>=2.2.3->phik) (21.3)\n",
      "Requirement already satisfied: cycler>=0.10 in /opt/conda/lib/python3.9/site-packages (from matplotlib>=2.2.3->phik) (0.11.0)\n",
      "Requirement already satisfied: contourpy>=1.0.1 in /opt/conda/lib/python3.9/site-packages (from matplotlib>=2.2.3->phik) (1.2.1)\n",
      "Requirement already satisfied: fonttools>=4.22.0 in /opt/conda/lib/python3.9/site-packages (from matplotlib>=2.2.3->phik) (4.51.0)\n",
      "Requirement already satisfied: pillow>=8 in /opt/conda/lib/python3.9/site-packages (from matplotlib>=2.2.3->phik) (8.4.0)\n",
      "Requirement already satisfied: pyparsing>=2.3.1 in /opt/conda/lib/python3.9/site-packages (from matplotlib>=2.2.3->phik) (2.4.7)\n",
      "Requirement already satisfied: importlib-resources>=3.2.0 in /opt/conda/lib/python3.9/site-packages (from matplotlib>=2.2.3->phik) (6.4.0)\n",
      "Requirement already satisfied: kiwisolver>=1.3.1 in /opt/conda/lib/python3.9/site-packages (from matplotlib>=2.2.3->phik) (1.4.4)\n",
      "Requirement already satisfied: zipp>=3.1.0 in /opt/conda/lib/python3.9/site-packages (from importlib-resources>=3.2.0->matplotlib>=2.2.3->phik) (3.5.0)\n",
      "Requirement already satisfied: pytz>=2020.1 in /opt/conda/lib/python3.9/site-packages (from pandas>=0.25.1->phik) (2021.1)\n",
      "Requirement already satisfied: tzdata>=2022.7 in /opt/conda/lib/python3.9/site-packages (from pandas>=0.25.1->phik) (2024.1)\n",
      "Requirement already satisfied: six>=1.5 in /opt/conda/lib/python3.9/site-packages (from python-dateutil>=2.7->matplotlib>=2.2.3->phik) (1.16.0)\n",
      "Note: you may need to restart the kernel to use updated packages.\n"
     ]
    }
   ],
   "source": [
    " pip install -U phik"
   ]
  },
  {
   "cell_type": "markdown",
   "metadata": {},
   "source": [
    "#### Импорт Библиотек"
   ]
  },
  {
   "cell_type": "code",
   "execution_count": 102,
   "metadata": {},
   "outputs": [],
   "source": [
    "import pandas as pd\n",
    "import numpy as np\n",
    "import time\n",
    "from sklearn.model_selection import train_test_split\n",
    "from sklearn.compose import ColumnTransformer\n",
    "from sklearn.preprocessing import StandardScaler\n",
    "from sklearn.linear_model import LinearRegression, Lasso, Ridge\n",
    "from sklearn.model_selection import GridSearchCV\n",
    "from sklearn.metrics import r2_score, root_mean_squared_error\n",
    "from sklearn.pipeline import Pipeline\n",
    "import matplotlib.pyplot as plt\n",
    "import plotly.express as px\n",
    "import phik\n",
    "import seaborn as sns"
   ]
  },
  {
   "cell_type": "markdown",
   "metadata": {},
   "source": [
    "<div class=\"alert alert-danger\">\n",
    "<font size=\"4\"><b>❌ Комментарий ревьюера</b></font>\n",
    "    <br /> \n",
    "    <font size=\"3\", color = \"black\">\n",
    "<br />\n",
    "Упс, код упал"
   ]
  },
  {
   "cell_type": "markdown",
   "metadata": {},
   "source": [
    "<div class=\"alert alert-info\"  style=\"border-radius: 15px; box-shadow: 4px 4px 4px; border: 1px solid \">\n",
    "    \n",
    "<font size=\"5\"><b>Комментарий студента: </b></font>\n",
    "\n",
    "\n",
    "Да, конечно он упал, я отправлял другую версию тетрадки, где были ячейки с установкой остальных библиотек("
   ]
  },
  {
   "cell_type": "code",
   "execution_count": 103,
   "metadata": {},
   "outputs": [],
   "source": [
    "RANDOM_STATE = 42\n",
    "state = np.random.RandomState(RANDOM_STATE)"
   ]
  },
  {
   "cell_type": "markdown",
   "metadata": {},
   "source": [
    "<div class=\"alert alert-success\">\n",
    "<font size=\"4\"><b>✔️ Комментарий ревьюера</b></font>\n",
    "    <br /> \n",
    "    <font size=\"3\", color = \"black\">\n",
    "<br />\n",
    "Задать сразу рандом стейт - отличный ход"
   ]
  },
  {
   "cell_type": "markdown",
   "metadata": {},
   "source": [
    "#### Функции"
   ]
  },
  {
   "cell_type": "code",
   "execution_count": 104,
   "metadata": {},
   "outputs": [],
   "source": [
    "def research_data(df, cat_columns, num_columns):\n",
    "    '''\n",
    "    Функция для анализа данных\n",
    "    Args:\n",
    "        df: pd.DataFrame\n",
    "        cat_columns: Список названий колонок с категориальными признаками\n",
    "        num_columns: Список названий колонок с численными признаками\n",
    "    Returns:\n",
    "        \n",
    "    '''\n",
    "    cat_columns = cat_columns\n",
    "    num_columns = num_columns\n",
    "    print('\\nСлучайные 5 строк данных\\n')\n",
    "    display(df.sample(5))\n",
    "    print('\\n-----------------------------\\n')\n",
    "    print('\\nINFO\\n')\n",
    "    display(df.info())\n",
    "    print('\\n-----------------------------\\n')\n",
    "    print('\\nОписание данных\\n')\n",
    "    display(df.describe(percentiles=[.05, .25, .5, .75, .95]))\n",
    "    print('\\n-----------------------------\\n')\n",
    "    print('\\nДубликаты\\n')\n",
    "    display(df[df.duplicated()])\n",
    "    print('\\n-----------------------------\\n')\n",
    "    print('\\nПропущенные значения\\n')\n",
    "    for c in cat_columns:\n",
    "        if df[df[c].isna()].shape[0] > 0:\n",
    "            display(df[df[c].isna()])\n",
    "    for n in num_columns:\n",
    "        if df[df[n].isna()].shape[0] > 0:\n",
    "            display(df[df[n].isna()])\n",
    "    print('\\n-----------------------------\\n')\n",
    "    for i in cat_columns:\n",
    "        _ = px.bar(df[i].value_counts(), opacity=0.75,orientation='h', text_auto=True, title=i)\n",
    "        _.update_traces(marker_color='#667998')\n",
    "        _.show()\n",
    "    for i in num_columns:\n",
    "        _ = px.histogram(df[i], opacity=0.75, marginal=\"box\", title=i)\n",
    "        _.update_traces(marker_color='#667998')\n",
    "        _.show()\n",
    "    print('\\n-----------------------------\\n')\n",
    "    _ = sns.PairGrid(df)\n",
    "    _.map_lower(sns.scatterplot)\n",
    "    _.map_diag(sns.histplot)\n",
    "    _.add_legend()\n",
    "    display(_)\n",
    "    print('\\n-----------------------------\\n')\n",
    "    print('Матрица Корреляции')\n",
    "    fig = px.imshow(\n",
    "        df.phik_matrix(interval_cols=num_columns), \n",
    "        title='Матрица Корреляции', \n",
    "        color_continuous_scale='inferno', \n",
    "        width=600, \n",
    "        height=600, \n",
    "        text_auto=True)\n",
    "    fig.layout.coloraxis.showscale = False\n",
    "    fig.show()\n"
   ]
  },
  {
   "cell_type": "code",
   "execution_count": 105,
   "metadata": {},
   "outputs": [],
   "source": [
    "def x_xsquare_compasion(data, int_feature, target_feature,):\n",
    "\n",
    "    '''\n",
    "    Функция сравнивает зависимости между одним вводным признаком \n",
    "    в первой степени и целевым признаком в первом случае и \n",
    "    между тем же вводным признаком во второй степени и \n",
    "    целевым признаком во втором случае\n",
    "    Args:\n",
    "        data: pd.DataFrame\n",
    "        int_feature: Имя колонки вводного признака\n",
    "        target_feature: Имя колонки целевого признака\n",
    "    Returns:\n",
    "        Графики с диаграммами рассеяния и линейной регрессии для каждой связи\n",
    "        Коэффициенты детерминации для каждой регрессии\n",
    "    '''\n",
    "    x = data[[int_feature]]\n",
    "    y = data[[target_feature]]\n",
    "    model = LinearRegression()\n",
    "    model.fit(x, y)\n",
    "    \n",
    "    x = data[int_feature]\n",
    "    y = data[target_feature]\n",
    "    x_range = np.linspace(x.min(), x.max(), num=len(x))\n",
    "    a = model.coef_[0]\n",
    "    b = model.intercept_\n",
    "    y_pred = a * x + b\n",
    "\n",
    "    fig, ax = plt.subplots(nrows= 2, ncols= 1, figsize=(11, 11))\n",
    "    \n",
    "    sns.scatterplot(x=x, y=y, alpha=0.5, ax=ax[0])\n",
    "    sns.lineplot(x=x_range, y=y_pred.sort_values(), color='r', ax=ax[0])\n",
    "    \n",
    "    x = data[[int_feature]] **2\n",
    "    y = data[[target_feature]]\n",
    "    model1 = LinearRegression()\n",
    "    model1.fit(x, y)\n",
    "    \n",
    "    x1 = data[int_feature] **2\n",
    "    y1 = data[target_feature]\n",
    "    x_range1 = np.linspace(x1.min(), x1.max(), num=len(x1))\n",
    "    a1 = model1.coef_[0]\n",
    "    b1 = model1.intercept_\n",
    "    y_pred1 = a1 * x1 + b1\n",
    "    \n",
    "    sns.scatterplot(x=x1, y=y1, alpha=0.5, ax=ax[1])\n",
    "    sns.lineplot(x=x_range1, y=y_pred1.sort_values(), color='r', ax=ax[1])\n",
    "\n",
    "    plt.show()\n",
    "    r2_1 = r2_score(y, y_pred.sort_values())\n",
    "    r2_2 = r2_score(y1, y_pred1.sort_values())\n",
    "    print(f'''\n",
    "    Коэффициент детерминации r2 при {int_feature} в первой степени = {r2_1}\n",
    "    Коэффициент детерминации r2 при {int_feature} во второй степени = {r2_2}\n",
    "    Разница между ними = {(r2_2 - r2_1)}\n",
    "    ''')"
   ]
  },
  {
   "cell_type": "code",
   "execution_count": 106,
   "metadata": {},
   "outputs": [],
   "source": [
    "def show_coef(X_train, model_lr, positive=False):\n",
    "    '''\n",
    "    Функция для получения и визуализации коэффициентов обученной модели на графике\n",
    "    Args:\n",
    "        X_train: training sample\n",
    "        model_lr: linear regression model\n",
    "    Returns:\n",
    "        sns.barplot\n",
    "    '''\n",
    "    for feature_number, feature_name in enumerate(X_train.columns):\n",
    "        weight = model_lr.coef_[feature_number]\n",
    "        print(f\"{feature_name:<20}: {weight:+.6f}\") \n",
    "    \n",
    "    tmp_df = pd.Series(index=X_train.columns, data=model_lr.coef_).sort_values(ascending=False)\n",
    "    if positive:\n",
    "        sns.barplot(x=abs(tmp_df.values), y=tmp_df.index)\n",
    "    else:\n",
    "        sns.barplot(x=tmp_df.values, y=tmp_df.index)\n",
    "    plt.tight_layout\n",
    "    plt.show()"
   ]
  },
  {
   "cell_type": "markdown",
   "metadata": {},
   "source": [
    "#### Дополнительные настройки"
   ]
  },
  {
   "cell_type": "code",
   "execution_count": 107,
   "metadata": {},
   "outputs": [],
   "source": [
    "sns.set_style(\"whitegrid\",\n",
    "              rc={'grid.color': '#a0a0a0', 'grid.linestyle': '--'})\n",
    "sns.set_palette(palette='deep', n_colors=5, desat=0.5)\n",
    "sns.set_color_codes(\"deep\")"
   ]
  },
  {
   "cell_type": "markdown",
   "metadata": {},
   "source": [
    "## Загрузка и подготовка данных"
   ]
  },
  {
   "cell_type": "markdown",
   "metadata": {},
   "source": [
    "Нам передали три датафрейма с данными из трех разных регионов."
   ]
  },
  {
   "cell_type": "code",
   "execution_count": 108,
   "metadata": {},
   "outputs": [],
   "source": [
    "try:\n",
    "    geo_0 = pd.read_csv(\n",
    "        '/Users/andreyalekseev/Documents_local/Yandex.Disk.localized/Practicum/7. ML in buisness/Project/geo_data_0.csv')\n",
    "except:\n",
    "    geo_0 = pd.read_csv('/datasets/geo_data_0.csv')\n",
    "try:\n",
    "    geo_1 = pd.read_csv(\n",
    "        '/Users/andreyalekseev/Documents_local/Yandex.Disk.localized/Practicum/7. ML in buisness/Project/geo_data_1.csv')\n",
    "except:\n",
    "    geo_1 = pd.read_csv('/datasets/geo_data_1.csv')\n",
    "try:\n",
    "    geo_2 = pd.read_csv(\n",
    "        '/Users/andreyalekseev/Documents_local/Yandex.Disk.localized/Practicum/7. ML in buisness/Project/geo_data_2.csv')\n",
    "except:\n",
    "    geo_2 = pd.read_csv('/datasets/geo_data_2.csv')"
   ]
  },
  {
   "cell_type": "markdown",
   "metadata": {},
   "source": [
    "<div class=\"alert alert-success\">\n",
    "<font size=\"4\"><b>✔️ Комментарий ревьюера</b></font>\n",
    "    <br /> \n",
    "    <font size=\"3\", color = \"black\">\n",
    "<br />\n",
    "Безопасная загрузка данных через try except - тоже отличное решение"
   ]
  },
  {
   "cell_type": "markdown",
   "metadata": {},
   "source": [
    "#### Изучение данных `geo_0`"
   ]
  },
  {
   "cell_type": "code",
   "execution_count": null,
   "metadata": {},
   "outputs": [],
   "source": [
    "research_data(\n",
    "    geo_0, \n",
    "    cat_columns=[], \n",
    "    num_columns=['f0', 'f1', 'f2', 'product']\n",
    ")"
   ]
  },
  {
   "cell_type": "markdown",
   "metadata": {},
   "source": [
    "<div class=\"alert alert-success\">\n",
    "<font size=\"4\"><b>✔️ Комментарий ревьюера</b></font>\n",
    "    <br /> \n",
    "    <font size=\"3\", color = \"black\">\n",
    "<br />\n",
    "Я ревьюер простой: вижу гистограммы и боксплоты признаков - пишу зелёный комментарий."
   ]
  },
  {
   "cell_type": "markdown",
   "metadata": {},
   "source": [
    "В датасете geo_0:\n",
    "- 100 000 строк;\n",
    "- Нет пропущенных значений;\n",
    "- Нет дубликатов;\n",
    "- Признак `f0`:\n",
    "    - Значения от -1.408605 до 2.362331;\n",
    "    - Среднее 0.500419;\n",
    "    - Медиана 0.502360;\n",
    "    - Выбросы отсутствуют;\n",
    "    - Большая часть значений находятся в отрезке между 1-м и 3-м квартилем от -0.7 до 1.07;\n",
    "    - На гистограмме видны четыре \"гребня\" на отметках -1, 0, 1 и 2(есть некая закономерность по всплеску данных);\n",
    "    - Имеет сильную корреляцию с `id` и `f1`;\n",
    "    - Имеет слабую корреляцию с `product`;\n",
    "    - Не имеет корреляции с `f2`;\n",
    "    - На диаграмме рассеяния с признаком `f1` видны 2 \"подковы\";\n",
    "    - На диаграмме рассеяния с признаком `f2` равномерное распределение;\n",
    "    - На диаграмме рассеяния с признаком `product` видны ступеньки;\n",
    "- Признак `f1`:\n",
    "    - Значения от -0.848218 до 1.343769;\n",
    "    - Среднее 0.250143;\n",
    "    - Медиана 0.250252;\n",
    "    - Выбросы отсутствуют;\n",
    "    - Большая часть значений находятся в отрезке между 1-м и 3-м квартилем от -0.2 до 0.7;\n",
    "    - На гистограмме видны два \"гребня\" вне ящика на отметках -0.4 и 0.9;\n",
    "    - Имеет сильную корреляцию с `id` и `f0`;\n",
    "    - Имеет слабую корреляцию с `product`;\n",
    "    - Не имеет корреляции с `f2`;\n",
    "    - На диаграмме рассеяния с признаком `f0` видны 2 \"подковы\";\n",
    "    - На диаграмме рассеяния с признаком `f2` равномерное распределение;\n",
    "    - На диаграмме рассеяния с признаком `product` видны ступеньки;\n",
    "- Признак `f2`:\n",
    "    - Значения от -12.088328 до 16.003790;\n",
    "    - Среднее 2.502647;\n",
    "    - Медиана 2.515969;\n",
    "    - Присутствуют выбросы ниже -6.35 и выше 11.35;\n",
    "    - Большая часть значений находятся в отрезке между 1-м и 3-м квартилем от 0.2877 до 4.7;\n",
    "    - Не имеет корреляции с `id`, `f0` и `f1`;\n",
    "    - Имеет среднюю корреляцию с `product`;\n",
    "    - На диаграмме рассеяния с признакоми `f0` и `f1` равномерное распределение;\n",
    "    - На диаграмме рассеяния с признаком `product` просматривается линейная зависимость, но с большой дисперсией. Возможно там присутствует квадратичная зависимость. Проверим в следующей ячейке;\n",
    "- Целевой признак `product`:\n",
    "    - Значения от 0 до 185.364347;\n",
    "    - Среднее 92.5;\n",
    "    - Медиана 91.849972;\n",
    "    - Выбросы отсутствуют;\n",
    "    - Большая часть значений находятся в отрезке между 1-м и 3-м квартилем от 56.5 до 128.56;\n",
    "    - Данные разложены на кластеры(видно на гистограмме)\n",
    "    - Имеет сильную корреляцию с `id`;\n",
    "    - Имеет слабую корреляцию с `f0` и `f1`;\n",
    "    - Имеет среднюю корреляцию с `f2`;\n",
    "    - На диаграмме рассеяния с признаком `f0` и `f1` видны ступеньки;\n",
    "    - На диаграмме рассеяния с признаком `f2` просматривается линейная зависимость, но с большой дисперсией. Возможно там присутствует квадратичная зависимость. Проверим в следующей ячейке;\n"
   ]
  },
  {
   "cell_type": "code",
   "execution_count": null,
   "metadata": {},
   "outputs": [],
   "source": [
    "x_xsquare_compasion(geo_0, 'f2', 'product')"
   ]
  },
  {
   "cell_type": "markdown",
   "metadata": {},
   "source": [
    "Коэффициент детерминации r2 повысился! Квадратичная зависимость присутствует, введем новый признак `f2_square`"
   ]
  },
  {
   "cell_type": "code",
   "execution_count": 109,
   "metadata": {},
   "outputs": [],
   "source": [
    "geo_0['f2_square'] = geo_0['f2']**2"
   ]
  },
  {
   "cell_type": "markdown",
   "metadata": {},
   "source": [
    "#### Изучение данных `geo_1`"
   ]
  },
  {
   "cell_type": "code",
   "execution_count": null,
   "metadata": {},
   "outputs": [],
   "source": [
    "research_data(geo_1, cat_columns=[], num_columns=['f0', 'f1', 'f2', 'product'])"
   ]
  },
  {
   "cell_type": "markdown",
   "metadata": {},
   "source": [
    "В датасете geo_1:\n",
    "- 100 000 строк;\n",
    "- Нет пропущенных значений;\n",
    "- Нет дубликатов;\n",
    "- Признак `f0`:\n",
    "    - Значения от -31.609576 до 29.421755;\n",
    "    - Среднее 1.141296;\n",
    "    - Медиана 1.153055;\n",
    "    - Есть один выброс на отметке -31.6;\n",
    "    - Большая часть значений находятся в отрезке между 1-м и 3-м квартилем от -6.3 до 8.6;\n",
    "    - На гистограмме видны два \"бугра\" на отметках 1-го и 3-го квартиля;\n",
    "    - Имеет среднюю корреляцию с `id`;\n",
    "    - Имеет слабую корреляцию с `f1`;\n",
    "    - Имеет высокую корреляцию с `product`;\n",
    "    - Не имеет корреляции с `f2`;\n",
    "    - На диаграмме рассеяния с признаком `f1` равномерное распределение;\n",
    "    - На диаграмме рассеяния с признаком `f2` и `product` 6 кластеров, похожих на категории;\n",
    "- Признак `f1`:\n",
    "    - Значения от -26.358598 до 18.734063;\n",
    "    - Среднее -4.796579;\n",
    "    - Медиана -4.813172;\n",
    "    - Выбросы ниже -18.67 и выше 9.05;\n",
    "    - Большая часть значений находятся в отрезке между 1-м и 3-м квартилем от -8.27 до -1.33;\n",
    "    - На гистограмме видно нормальное распределение;\n",
    "    - Имеет сильную корреляцию с `id`;\n",
    "    - Имеет слабую корреляцию с `f0` и `product`;\n",
    "    - Не имеет корреляции с `f2`;\n",
    "    - На диаграмме рассеяния с признаком `f0` отсутствует какая либо взаимосвязь;\n",
    "    - На диаграмме рассеяния с признаком `f2` и `product` 6 кластеров, похожих на категории;\n",
    "- Признак `f2`:\n",
    "    - Значения от -0.018144 до 5.019721;\n",
    "    - Среднее 2.494541;\n",
    "    - Медиана 2.011479;\n",
    "    - Выбросы отсутствуют;\n",
    "    - Большая часть значений находятся в отрезке между 1-м и 3-м квартилем от 1 до 4;\n",
    "    - На гистограмме 6 столбиков(как категории)\n",
    "    - Имеет сильную корреляцию с `id` и `product`;\n",
    "    - Не имеет корреляции с `f0` и `f1`\n",
    "    - На диаграмме рассеяния с признакоми `f0` и `f1` 6 кластеров, похожих на категории;\n",
    "    - На диаграмме рассеяния с признаком `product` есть линейная зависимость;\n",
    "- Целевой признак `product`:\n",
    "    - Значения от 0 до 137.945408;\n",
    "    - Среднее 68.825;\n",
    "    - Медиана 57.085625;\n",
    "    - Выбросы отсутствуют;\n",
    "    - Большая часть значений находятся в отрезке между 1-м и 3-м квартилем от 26.95 до 107.81;\n",
    "    - Данные разложены на кластеры(видно на гистограмме)\n",
    "    - Имеет сильную корреляцию с `f2`;\n",
    "    - Имеет слабую корреляцию с `f1`;\n",
    "    - Имеет среднюю корреляцию с `f0` и `id`;\n",
    "    - На диаграмме рассеяния с признаком `f0` и `f1` 6 кластеров, похожих на категории;\n",
    "    - На диаграмме рассеяния с признаком `f2` есть линейная зависимость;\n"
   ]
  },
  {
   "cell_type": "markdown",
   "metadata": {},
   "source": [
    "#### Изучение данных `geo_2`"
   ]
  },
  {
   "cell_type": "code",
   "execution_count": null,
   "metadata": {},
   "outputs": [],
   "source": [
    "research_data(geo_2, cat_columns=[], num_columns=['f0', 'f1', 'f2', 'product'])"
   ]
  },
  {
   "cell_type": "markdown",
   "metadata": {},
   "source": [
    "В датасете geo_2:\n",
    "- 100 000 строк;\n",
    "- Нет пропущенных значений;\n",
    "- Нет дубликатов;\n",
    "- Признак `f0`:\n",
    "    - Значения от -8.760004 до 7.238262;\n",
    "    - Среднее 0.002023;\n",
    "    - Медиана 0.009424;\n",
    "    - Выбросы ниже -4.64 и выше 4.64;\n",
    "    - Большая часть значений находятся в отрезке между 1-м и 3-м квартилем от -1.16 до 1.16;\n",
    "    - На гистограмме нормальное распределение;\n",
    "    - Имеет сильную корреляцию с `id`;\n",
    "    - Не имеет корреляции с `f1` и `f2`;\n",
    "    - Имеет слабую корреляцию с `product`;\n",
    "    - На диаграмме рассеяния с признаком `f1` и `f2` равномерное распределение;\n",
    "    - На диаграмме рассеяния с признаком  `product` 1 кластер с малой дисперсией до значения `product` ~25, дальше дисперсия больше;\n",
    "- Признак `f1`:\n",
    "    - Значения от -7.084020 до 16.739402;\n",
    "    - Среднее -0.002081;\n",
    "    - Медиана -0.009482;\n",
    "    - Выбросы ниже -4.68 и выше 4.67;\n",
    "    - Большая часть значений находятся в отрезке между 1-м и 3-м квартилем от -1.17 до -1.16;\n",
    "    - На гистограмме видно нормальное распределение;\n",
    "    - Имеет сильную корреляцию с `id`;\n",
    "    - Имеет слабую корреляцию с `product`;\n",
    "    - Не имеет корреляции с `f0` и `f2`;\n",
    "    - На диаграмме рассеяния с признаком `f0` и `f2` равномерное распределение;\n",
    "    - На диаграмме рассеяния с признаком `product` 1 кластер с малой дисперсией до значения `product` ~25, дальше дисперсия больше;\n",
    "- Признак `f2`:\n",
    "    - Значения от -11.970335 до 5.019721;\n",
    "    - Среднее 2.495128;\n",
    "    - Медиана 2.484236;\n",
    "    - Выбросы ниже -6.9 и выше 11.9;\n",
    "    - Большая часть значений находятся в отрезке между 1-м и 3-м квартилем от 0.13 до 4.86;\n",
    "    - На гистограмме видно нормальное распределение;\n",
    "    - Имеет сильную корреляцию с `id` и `product`;\n",
    "    - Не имеет корреляции с `f0` и `f1`;\n",
    "    - Имеет среднюю корреляцию с `product`;\n",
    "    - На диаграмме рассеяния с признакоми `f0` и `f1` равномерное распределение;\n",
    "    - На диаграмме рассеяния с признаком `product` просматривается линейная зависимость, но с большой дисперсией. Возможно там присутствует квадратичная зависимость. Проверим в следующей ячейке;\n",
    "- Целевой признак `product`:\n",
    "    - Значения от 0 до 190.029838;\n",
    "    - Среднее 95;\n",
    "    - Медиана 94.925613;\n",
    "    - Выбросы отсутствуют;\n",
    "    - Большая часть значений находятся в отрезке между 1-м и 3-м квартилем от 59.45 до 130.59;\n",
    "    - Данные разложены на кластеры(видно на гистограмме)\n",
    "    - Не имеет корреляции с `id`;\n",
    "    - Имеет слабую корреляцию с `f0` и `f1`;\n",
    "    - Имеет среднюю корреляцию с `f2`;\n",
    "    - На диаграмме рассеяния с признаком `f0` и `f1` 1 кластер с малой дисперсией до значения `product` ~25, дальше дисперсия больше;\n",
    "    - На диаграмме рассеяния с признаком `f2` просматривается линейная зависимость, но с большой дисперсией. Возможно там присутствует квадратичная зависимость. Проверим в следующей ячейке;\n"
   ]
  },
  {
   "cell_type": "code",
   "execution_count": null,
   "metadata": {},
   "outputs": [],
   "source": [
    "x_xsquare_compasion(geo_2, 'f2', 'product')"
   ]
  },
  {
   "cell_type": "markdown",
   "metadata": {},
   "source": [
    "Коэффициент детерминации r2 повысился! Квадратичная зависимость присутствует, введем новый признак `f2_square`"
   ]
  },
  {
   "cell_type": "code",
   "execution_count": 110,
   "metadata": {},
   "outputs": [],
   "source": [
    "geo_2['f2_square'] = geo_2['f2']**2"
   ]
  },
  {
   "cell_type": "markdown",
   "metadata": {},
   "source": [
    "Так же для удобства работы с данными в каждом датафрейме колонку `id` сделаем индексом."
   ]
  },
  {
   "cell_type": "code",
   "execution_count": 111,
   "metadata": {},
   "outputs": [],
   "source": [
    "geo_0 = geo_0.set_index('id')"
   ]
  },
  {
   "cell_type": "code",
   "execution_count": 112,
   "metadata": {},
   "outputs": [],
   "source": [
    "geo_1 = geo_1.set_index('id')"
   ]
  },
  {
   "cell_type": "code",
   "execution_count": 113,
   "metadata": {},
   "outputs": [],
   "source": [
    "geo_2 = geo_2.set_index('id')"
   ]
  },
  {
   "cell_type": "markdown",
   "metadata": {},
   "source": [
    "### Вывод"
   ]
  },
  {
   "cell_type": "markdown",
   "metadata": {},
   "source": [
    "- Мы загрузили переданные нам данные по трем регионам;\n",
    "- Изучили отдельно данные по каждому региону;\n",
    "- Данные синтетические, поэтому интерпретировать их не возможно. Известно только, что целевой признак - это запас в тыс баррелей;\n",
    "- В регионе `geo_0`:\n",
    "  - Максимальный запас сырья в скважине 185.364347 тыс. баррелей;\n",
    "  - Средний запас сырья в скважине 92.5 тыс. баррелей;\n",
    "- В регионе `geo_1`:\n",
    "  - Максимальный запас сырья в скважине 137.945408 тыс. баррелей;\n",
    "  - Средний запас сырья в скважине 68.825 тыс. баррелей;\n",
    "- В регионе `geo_2`:\n",
    "  - Максимальный запас сырья в скважине 190.029838 тыс. баррелей;\n",
    "  - Средний запас сырья в скважине 95 тыс. баррелей;\n",
    "- Регион `geo_2` кажется самым перспективным, посмотрим, что покажет наше исследование;\n",
    "- Взаимосвязь данных в каждом регионе разная, но в каждом выделяется прихнак `f2`. Между ним и целевым признаком есть линейная зависимость. В `geo_0` и `geo_2` квадратичная линейная зависимость. Поэтому мы добавили дополнительный признак `f2_square`;\n",
    "- В датафреймах индексами сделали `id`"
   ]
  },
  {
   "cell_type": "markdown",
   "metadata": {},
   "source": [
    "## Обучение и проверка модели"
   ]
  },
  {
   "cell_type": "markdown",
   "metadata": {},
   "source": [
    "Разобьем данные на обучающую и валидационную выборки в соотношении 75:25."
   ]
  },
  {
   "cell_type": "code",
   "execution_count": 114,
   "metadata": {},
   "outputs": [],
   "source": [
    "X0_train, X0_test, y0_train, y0_test = train_test_split(\n",
    "    geo_0.drop('product', axis=1),\n",
    "    geo_0['product'],\n",
    "    test_size = 0.25, \n",
    "    random_state = RANDOM_STATE,\n",
    "    # random_state = 42,\n",
    "    # Хотел стратифицировать, но выдает ошибку, так и не понял почему\n",
    "    #stratify=geo_0['product']\n",
    ")"
   ]
  },
  {
   "cell_type": "markdown",
   "metadata": {},
   "source": [
    "<div class=\"alert alert-warning\">\n",
    "<font size=\"4\"><b>⚠️ Комментарий ревьюера</b></font>\n",
    "    <br /> \n",
    "    <font size=\"3\", color = \"black\">\n",
    "<br />\n",
    "А как ты себе представляешь стратификацию в задаче регрессии?\n",
    "\n",
    "И для того ли ты сохранял рандом стейт в глобальную константу, чтобы затем вписывать число, а не эту константу?"
   ]
  },
  {
   "cell_type": "markdown",
   "metadata": {},
   "source": [
    "<div class=\"alert alert-info\"  style=\"border-radius: 15px; box-shadow: 4px 4px 4px; border: 1px solid \">\n",
    "    \n",
    "<font size=\"5\"><b>Комментарий студента: </b></font>\n",
    "\n",
    "\n",
    "Спасибо, что увидел это! Про стратификацию понял потом, про константу тоже. "
   ]
  },
  {
   "cell_type": "code",
   "execution_count": 115,
   "metadata": {},
   "outputs": [],
   "source": [
    "X1_train, X1_test, y1_train, y1_test = train_test_split(\n",
    "    geo_1.drop('product', axis=1),\n",
    "    geo_1['product'],\n",
    "    test_size = 0.25, \n",
    "    random_state = RANDOM_STATE,\n",
    "    # random_state = 42,\n",
    ")"
   ]
  },
  {
   "cell_type": "code",
   "execution_count": 116,
   "metadata": {},
   "outputs": [],
   "source": [
    "X2_train, X2_test, y2_train, y2_test = train_test_split(\n",
    "    geo_2.drop('product', axis=1),\n",
    "    geo_2['product'],\n",
    "    test_size = 0.25, \n",
    "    random_state = RANDOM_STATE,\n",
    "    # random_state = 42,\n",
    ")"
   ]
  },
  {
   "cell_type": "markdown",
   "metadata": {},
   "source": [
    "Сделаем пайплайн в котором будем перебирать модели линейной регрессии без штрафов и со штрафами."
   ]
  },
  {
   "cell_type": "code",
   "execution_count": 117,
   "metadata": {},
   "outputs": [
    {
     "data": {
      "text/html": [
       "<style>#sk-container-id-3 {\n",
       "  /* Definition of color scheme common for light and dark mode */\n",
       "  --sklearn-color-text: black;\n",
       "  --sklearn-color-line: gray;\n",
       "  /* Definition of color scheme for unfitted estimators */\n",
       "  --sklearn-color-unfitted-level-0: #fff5e6;\n",
       "  --sklearn-color-unfitted-level-1: #f6e4d2;\n",
       "  --sklearn-color-unfitted-level-2: #ffe0b3;\n",
       "  --sklearn-color-unfitted-level-3: chocolate;\n",
       "  /* Definition of color scheme for fitted estimators */\n",
       "  --sklearn-color-fitted-level-0: #f0f8ff;\n",
       "  --sklearn-color-fitted-level-1: #d4ebff;\n",
       "  --sklearn-color-fitted-level-2: #b3dbfd;\n",
       "  --sklearn-color-fitted-level-3: cornflowerblue;\n",
       "\n",
       "  /* Specific color for light theme */\n",
       "  --sklearn-color-text-on-default-background: var(--sg-text-color, var(--theme-code-foreground, var(--jp-content-font-color1, black)));\n",
       "  --sklearn-color-background: var(--sg-background-color, var(--theme-background, var(--jp-layout-color0, white)));\n",
       "  --sklearn-color-border-box: var(--sg-text-color, var(--theme-code-foreground, var(--jp-content-font-color1, black)));\n",
       "  --sklearn-color-icon: #696969;\n",
       "\n",
       "  @media (prefers-color-scheme: dark) {\n",
       "    /* Redefinition of color scheme for dark theme */\n",
       "    --sklearn-color-text-on-default-background: var(--sg-text-color, var(--theme-code-foreground, var(--jp-content-font-color1, white)));\n",
       "    --sklearn-color-background: var(--sg-background-color, var(--theme-background, var(--jp-layout-color0, #111)));\n",
       "    --sklearn-color-border-box: var(--sg-text-color, var(--theme-code-foreground, var(--jp-content-font-color1, white)));\n",
       "    --sklearn-color-icon: #878787;\n",
       "  }\n",
       "}\n",
       "\n",
       "#sk-container-id-3 {\n",
       "  color: var(--sklearn-color-text);\n",
       "}\n",
       "\n",
       "#sk-container-id-3 pre {\n",
       "  padding: 0;\n",
       "}\n",
       "\n",
       "#sk-container-id-3 input.sk-hidden--visually {\n",
       "  border: 0;\n",
       "  clip: rect(1px 1px 1px 1px);\n",
       "  clip: rect(1px, 1px, 1px, 1px);\n",
       "  height: 1px;\n",
       "  margin: -1px;\n",
       "  overflow: hidden;\n",
       "  padding: 0;\n",
       "  position: absolute;\n",
       "  width: 1px;\n",
       "}\n",
       "\n",
       "#sk-container-id-3 div.sk-dashed-wrapped {\n",
       "  border: 1px dashed var(--sklearn-color-line);\n",
       "  margin: 0 0.4em 0.5em 0.4em;\n",
       "  box-sizing: border-box;\n",
       "  padding-bottom: 0.4em;\n",
       "  background-color: var(--sklearn-color-background);\n",
       "}\n",
       "\n",
       "#sk-container-id-3 div.sk-container {\n",
       "  /* jupyter's `normalize.less` sets `[hidden] { display: none; }`\n",
       "     but bootstrap.min.css set `[hidden] { display: none !important; }`\n",
       "     so we also need the `!important` here to be able to override the\n",
       "     default hidden behavior on the sphinx rendered scikit-learn.org.\n",
       "     See: https://github.com/scikit-learn/scikit-learn/issues/21755 */\n",
       "  display: inline-block !important;\n",
       "  position: relative;\n",
       "}\n",
       "\n",
       "#sk-container-id-3 div.sk-text-repr-fallback {\n",
       "  display: none;\n",
       "}\n",
       "\n",
       "div.sk-parallel-item,\n",
       "div.sk-serial,\n",
       "div.sk-item {\n",
       "  /* draw centered vertical line to link estimators */\n",
       "  background-image: linear-gradient(var(--sklearn-color-text-on-default-background), var(--sklearn-color-text-on-default-background));\n",
       "  background-size: 2px 100%;\n",
       "  background-repeat: no-repeat;\n",
       "  background-position: center center;\n",
       "}\n",
       "\n",
       "/* Parallel-specific style estimator block */\n",
       "\n",
       "#sk-container-id-3 div.sk-parallel-item::after {\n",
       "  content: \"\";\n",
       "  width: 100%;\n",
       "  border-bottom: 2px solid var(--sklearn-color-text-on-default-background);\n",
       "  flex-grow: 1;\n",
       "}\n",
       "\n",
       "#sk-container-id-3 div.sk-parallel {\n",
       "  display: flex;\n",
       "  align-items: stretch;\n",
       "  justify-content: center;\n",
       "  background-color: var(--sklearn-color-background);\n",
       "  position: relative;\n",
       "}\n",
       "\n",
       "#sk-container-id-3 div.sk-parallel-item {\n",
       "  display: flex;\n",
       "  flex-direction: column;\n",
       "}\n",
       "\n",
       "#sk-container-id-3 div.sk-parallel-item:first-child::after {\n",
       "  align-self: flex-end;\n",
       "  width: 50%;\n",
       "}\n",
       "\n",
       "#sk-container-id-3 div.sk-parallel-item:last-child::after {\n",
       "  align-self: flex-start;\n",
       "  width: 50%;\n",
       "}\n",
       "\n",
       "#sk-container-id-3 div.sk-parallel-item:only-child::after {\n",
       "  width: 0;\n",
       "}\n",
       "\n",
       "/* Serial-specific style estimator block */\n",
       "\n",
       "#sk-container-id-3 div.sk-serial {\n",
       "  display: flex;\n",
       "  flex-direction: column;\n",
       "  align-items: center;\n",
       "  background-color: var(--sklearn-color-background);\n",
       "  padding-right: 1em;\n",
       "  padding-left: 1em;\n",
       "}\n",
       "\n",
       "\n",
       "/* Toggleable style: style used for estimator/Pipeline/ColumnTransformer box that is\n",
       "clickable and can be expanded/collapsed.\n",
       "- Pipeline and ColumnTransformer use this feature and define the default style\n",
       "- Estimators will overwrite some part of the style using the `sk-estimator` class\n",
       "*/\n",
       "\n",
       "/* Pipeline and ColumnTransformer style (default) */\n",
       "\n",
       "#sk-container-id-3 div.sk-toggleable {\n",
       "  /* Default theme specific background. It is overwritten whether we have a\n",
       "  specific estimator or a Pipeline/ColumnTransformer */\n",
       "  background-color: var(--sklearn-color-background);\n",
       "}\n",
       "\n",
       "/* Toggleable label */\n",
       "#sk-container-id-3 label.sk-toggleable__label {\n",
       "  cursor: pointer;\n",
       "  display: block;\n",
       "  width: 100%;\n",
       "  margin-bottom: 0;\n",
       "  padding: 0.5em;\n",
       "  box-sizing: border-box;\n",
       "  text-align: center;\n",
       "}\n",
       "\n",
       "#sk-container-id-3 label.sk-toggleable__label-arrow:before {\n",
       "  /* Arrow on the left of the label */\n",
       "  content: \"▸\";\n",
       "  float: left;\n",
       "  margin-right: 0.25em;\n",
       "  color: var(--sklearn-color-icon);\n",
       "}\n",
       "\n",
       "#sk-container-id-3 label.sk-toggleable__label-arrow:hover:before {\n",
       "  color: var(--sklearn-color-text);\n",
       "}\n",
       "\n",
       "/* Toggleable content - dropdown */\n",
       "\n",
       "#sk-container-id-3 div.sk-toggleable__content {\n",
       "  max-height: 0;\n",
       "  max-width: 0;\n",
       "  overflow: hidden;\n",
       "  text-align: left;\n",
       "  /* unfitted */\n",
       "  background-color: var(--sklearn-color-unfitted-level-0);\n",
       "}\n",
       "\n",
       "#sk-container-id-3 div.sk-toggleable__content.fitted {\n",
       "  /* fitted */\n",
       "  background-color: var(--sklearn-color-fitted-level-0);\n",
       "}\n",
       "\n",
       "#sk-container-id-3 div.sk-toggleable__content pre {\n",
       "  margin: 0.2em;\n",
       "  border-radius: 0.25em;\n",
       "  color: var(--sklearn-color-text);\n",
       "  /* unfitted */\n",
       "  background-color: var(--sklearn-color-unfitted-level-0);\n",
       "}\n",
       "\n",
       "#sk-container-id-3 div.sk-toggleable__content.fitted pre {\n",
       "  /* unfitted */\n",
       "  background-color: var(--sklearn-color-fitted-level-0);\n",
       "}\n",
       "\n",
       "#sk-container-id-3 input.sk-toggleable__control:checked~div.sk-toggleable__content {\n",
       "  /* Expand drop-down */\n",
       "  max-height: 200px;\n",
       "  max-width: 100%;\n",
       "  overflow: auto;\n",
       "}\n",
       "\n",
       "#sk-container-id-3 input.sk-toggleable__control:checked~label.sk-toggleable__label-arrow:before {\n",
       "  content: \"▾\";\n",
       "}\n",
       "\n",
       "/* Pipeline/ColumnTransformer-specific style */\n",
       "\n",
       "#sk-container-id-3 div.sk-label input.sk-toggleable__control:checked~label.sk-toggleable__label {\n",
       "  color: var(--sklearn-color-text);\n",
       "  background-color: var(--sklearn-color-unfitted-level-2);\n",
       "}\n",
       "\n",
       "#sk-container-id-3 div.sk-label.fitted input.sk-toggleable__control:checked~label.sk-toggleable__label {\n",
       "  background-color: var(--sklearn-color-fitted-level-2);\n",
       "}\n",
       "\n",
       "/* Estimator-specific style */\n",
       "\n",
       "/* Colorize estimator box */\n",
       "#sk-container-id-3 div.sk-estimator input.sk-toggleable__control:checked~label.sk-toggleable__label {\n",
       "  /* unfitted */\n",
       "  background-color: var(--sklearn-color-unfitted-level-2);\n",
       "}\n",
       "\n",
       "#sk-container-id-3 div.sk-estimator.fitted input.sk-toggleable__control:checked~label.sk-toggleable__label {\n",
       "  /* fitted */\n",
       "  background-color: var(--sklearn-color-fitted-level-2);\n",
       "}\n",
       "\n",
       "#sk-container-id-3 div.sk-label label.sk-toggleable__label,\n",
       "#sk-container-id-3 div.sk-label label {\n",
       "  /* The background is the default theme color */\n",
       "  color: var(--sklearn-color-text-on-default-background);\n",
       "}\n",
       "\n",
       "/* On hover, darken the color of the background */\n",
       "#sk-container-id-3 div.sk-label:hover label.sk-toggleable__label {\n",
       "  color: var(--sklearn-color-text);\n",
       "  background-color: var(--sklearn-color-unfitted-level-2);\n",
       "}\n",
       "\n",
       "/* Label box, darken color on hover, fitted */\n",
       "#sk-container-id-3 div.sk-label.fitted:hover label.sk-toggleable__label.fitted {\n",
       "  color: var(--sklearn-color-text);\n",
       "  background-color: var(--sklearn-color-fitted-level-2);\n",
       "}\n",
       "\n",
       "/* Estimator label */\n",
       "\n",
       "#sk-container-id-3 div.sk-label label {\n",
       "  font-family: monospace;\n",
       "  font-weight: bold;\n",
       "  display: inline-block;\n",
       "  line-height: 1.2em;\n",
       "}\n",
       "\n",
       "#sk-container-id-3 div.sk-label-container {\n",
       "  text-align: center;\n",
       "}\n",
       "\n",
       "/* Estimator-specific */\n",
       "#sk-container-id-3 div.sk-estimator {\n",
       "  font-family: monospace;\n",
       "  border: 1px dotted var(--sklearn-color-border-box);\n",
       "  border-radius: 0.25em;\n",
       "  box-sizing: border-box;\n",
       "  margin-bottom: 0.5em;\n",
       "  /* unfitted */\n",
       "  background-color: var(--sklearn-color-unfitted-level-0);\n",
       "}\n",
       "\n",
       "#sk-container-id-3 div.sk-estimator.fitted {\n",
       "  /* fitted */\n",
       "  background-color: var(--sklearn-color-fitted-level-0);\n",
       "}\n",
       "\n",
       "/* on hover */\n",
       "#sk-container-id-3 div.sk-estimator:hover {\n",
       "  /* unfitted */\n",
       "  background-color: var(--sklearn-color-unfitted-level-2);\n",
       "}\n",
       "\n",
       "#sk-container-id-3 div.sk-estimator.fitted:hover {\n",
       "  /* fitted */\n",
       "  background-color: var(--sklearn-color-fitted-level-2);\n",
       "}\n",
       "\n",
       "/* Specification for estimator info (e.g. \"i\" and \"?\") */\n",
       "\n",
       "/* Common style for \"i\" and \"?\" */\n",
       "\n",
       ".sk-estimator-doc-link,\n",
       "a:link.sk-estimator-doc-link,\n",
       "a:visited.sk-estimator-doc-link {\n",
       "  float: right;\n",
       "  font-size: smaller;\n",
       "  line-height: 1em;\n",
       "  font-family: monospace;\n",
       "  background-color: var(--sklearn-color-background);\n",
       "  border-radius: 1em;\n",
       "  height: 1em;\n",
       "  width: 1em;\n",
       "  text-decoration: none !important;\n",
       "  margin-left: 1ex;\n",
       "  /* unfitted */\n",
       "  border: var(--sklearn-color-unfitted-level-1) 1pt solid;\n",
       "  color: var(--sklearn-color-unfitted-level-1);\n",
       "}\n",
       "\n",
       ".sk-estimator-doc-link.fitted,\n",
       "a:link.sk-estimator-doc-link.fitted,\n",
       "a:visited.sk-estimator-doc-link.fitted {\n",
       "  /* fitted */\n",
       "  border: var(--sklearn-color-fitted-level-1) 1pt solid;\n",
       "  color: var(--sklearn-color-fitted-level-1);\n",
       "}\n",
       "\n",
       "/* On hover */\n",
       "div.sk-estimator:hover .sk-estimator-doc-link:hover,\n",
       ".sk-estimator-doc-link:hover,\n",
       "div.sk-label-container:hover .sk-estimator-doc-link:hover,\n",
       ".sk-estimator-doc-link:hover {\n",
       "  /* unfitted */\n",
       "  background-color: var(--sklearn-color-unfitted-level-3);\n",
       "  color: var(--sklearn-color-background);\n",
       "  text-decoration: none;\n",
       "}\n",
       "\n",
       "div.sk-estimator.fitted:hover .sk-estimator-doc-link.fitted:hover,\n",
       ".sk-estimator-doc-link.fitted:hover,\n",
       "div.sk-label-container:hover .sk-estimator-doc-link.fitted:hover,\n",
       ".sk-estimator-doc-link.fitted:hover {\n",
       "  /* fitted */\n",
       "  background-color: var(--sklearn-color-fitted-level-3);\n",
       "  color: var(--sklearn-color-background);\n",
       "  text-decoration: none;\n",
       "}\n",
       "\n",
       "/* Span, style for the box shown on hovering the info icon */\n",
       ".sk-estimator-doc-link span {\n",
       "  display: none;\n",
       "  z-index: 9999;\n",
       "  position: relative;\n",
       "  font-weight: normal;\n",
       "  right: .2ex;\n",
       "  padding: .5ex;\n",
       "  margin: .5ex;\n",
       "  width: min-content;\n",
       "  min-width: 20ex;\n",
       "  max-width: 50ex;\n",
       "  color: var(--sklearn-color-text);\n",
       "  box-shadow: 2pt 2pt 4pt #999;\n",
       "  /* unfitted */\n",
       "  background: var(--sklearn-color-unfitted-level-0);\n",
       "  border: .5pt solid var(--sklearn-color-unfitted-level-3);\n",
       "}\n",
       "\n",
       ".sk-estimator-doc-link.fitted span {\n",
       "  /* fitted */\n",
       "  background: var(--sklearn-color-fitted-level-0);\n",
       "  border: var(--sklearn-color-fitted-level-3);\n",
       "}\n",
       "\n",
       ".sk-estimator-doc-link:hover span {\n",
       "  display: block;\n",
       "}\n",
       "\n",
       "/* \"?\"-specific style due to the `<a>` HTML tag */\n",
       "\n",
       "#sk-container-id-3 a.estimator_doc_link {\n",
       "  float: right;\n",
       "  font-size: 1rem;\n",
       "  line-height: 1em;\n",
       "  font-family: monospace;\n",
       "  background-color: var(--sklearn-color-background);\n",
       "  border-radius: 1rem;\n",
       "  height: 1rem;\n",
       "  width: 1rem;\n",
       "  text-decoration: none;\n",
       "  /* unfitted */\n",
       "  color: var(--sklearn-color-unfitted-level-1);\n",
       "  border: var(--sklearn-color-unfitted-level-1) 1pt solid;\n",
       "}\n",
       "\n",
       "#sk-container-id-3 a.estimator_doc_link.fitted {\n",
       "  /* fitted */\n",
       "  border: var(--sklearn-color-fitted-level-1) 1pt solid;\n",
       "  color: var(--sklearn-color-fitted-level-1);\n",
       "}\n",
       "\n",
       "/* On hover */\n",
       "#sk-container-id-3 a.estimator_doc_link:hover {\n",
       "  /* unfitted */\n",
       "  background-color: var(--sklearn-color-unfitted-level-3);\n",
       "  color: var(--sklearn-color-background);\n",
       "  text-decoration: none;\n",
       "}\n",
       "\n",
       "#sk-container-id-3 a.estimator_doc_link.fitted:hover {\n",
       "  /* fitted */\n",
       "  background-color: var(--sklearn-color-fitted-level-3);\n",
       "}\n",
       "</style><div id=\"sk-container-id-3\" class=\"sk-top-container\"><div class=\"sk-text-repr-fallback\"><pre>Pipeline(steps=[(&#x27;preprocessor&#x27;, StandardScaler()),\n",
       "                (&#x27;models&#x27;, LinearRegression(n_jobs=-1))])</pre><b>In a Jupyter environment, please rerun this cell to show the HTML representation or trust the notebook. <br />On GitHub, the HTML representation is unable to render, please try loading this page with nbviewer.org.</b></div><div class=\"sk-container\" hidden><div class=\"sk-item sk-dashed-wrapped\"><div class=\"sk-label-container\"><div class=\"sk-label  sk-toggleable\"><input class=\"sk-toggleable__control sk-hidden--visually\" id=\"sk-estimator-id-7\" type=\"checkbox\" ><label for=\"sk-estimator-id-7\" class=\"sk-toggleable__label  sk-toggleable__label-arrow \">&nbsp;&nbsp;Pipeline<a class=\"sk-estimator-doc-link \" rel=\"noreferrer\" target=\"_blank\" href=\"https://scikit-learn.org/1.4/modules/generated/sklearn.pipeline.Pipeline.html\">?<span>Documentation for Pipeline</span></a><span class=\"sk-estimator-doc-link \">i<span>Not fitted</span></span></label><div class=\"sk-toggleable__content \"><pre>Pipeline(steps=[(&#x27;preprocessor&#x27;, StandardScaler()),\n",
       "                (&#x27;models&#x27;, LinearRegression(n_jobs=-1))])</pre></div> </div></div><div class=\"sk-serial\"><div class=\"sk-item\"><div class=\"sk-estimator  sk-toggleable\"><input class=\"sk-toggleable__control sk-hidden--visually\" id=\"sk-estimator-id-8\" type=\"checkbox\" ><label for=\"sk-estimator-id-8\" class=\"sk-toggleable__label  sk-toggleable__label-arrow \">&nbsp;StandardScaler<a class=\"sk-estimator-doc-link \" rel=\"noreferrer\" target=\"_blank\" href=\"https://scikit-learn.org/1.4/modules/generated/sklearn.preprocessing.StandardScaler.html\">?<span>Documentation for StandardScaler</span></a></label><div class=\"sk-toggleable__content \"><pre>StandardScaler()</pre></div> </div></div><div class=\"sk-item\"><div class=\"sk-estimator  sk-toggleable\"><input class=\"sk-toggleable__control sk-hidden--visually\" id=\"sk-estimator-id-9\" type=\"checkbox\" ><label for=\"sk-estimator-id-9\" class=\"sk-toggleable__label  sk-toggleable__label-arrow \">&nbsp;LinearRegression<a class=\"sk-estimator-doc-link \" rel=\"noreferrer\" target=\"_blank\" href=\"https://scikit-learn.org/1.4/modules/generated/sklearn.linear_model.LinearRegression.html\">?<span>Documentation for LinearRegression</span></a></label><div class=\"sk-toggleable__content \"><pre>LinearRegression(n_jobs=-1)</pre></div> </div></div></div></div></div></div>"
      ],
      "text/plain": [
       "Pipeline(steps=[('preprocessor', StandardScaler()),\n",
       "                ('models', LinearRegression(n_jobs=-1))])"
      ]
     },
     "execution_count": 117,
     "metadata": {},
     "output_type": "execute_result"
    }
   ],
   "source": [
    "pipeline = Pipeline([\n",
    "    ('preprocessor', StandardScaler()),\n",
    "    ('models', LinearRegression(n_jobs=-1))\n",
    "])\n",
    "pipeline"
   ]
  },
  {
   "cell_type": "code",
   "execution_count": 118,
   "metadata": {},
   "outputs": [],
   "source": [
    "param_grid = [\n",
    "    # словарь для модели Lasso()\n",
    "    {\n",
    "        'models': [Lasso(random_state=RANDOM_STATE)] \n",
    "    },\n",
    "    \n",
    "    # словарь для модели Ridge() \n",
    "    {\n",
    "        'models': [Ridge(random_state=RANDOM_STATE)]  \n",
    "    }\n",
    "]"
   ]
  },
  {
   "cell_type": "markdown",
   "metadata": {},
   "source": [
    "Обучим модели и сделаем предсказания на валидационной выборке.\n",
    "\n",
    "Начнем с региона `geo_0`"
   ]
  },
  {
   "cell_type": "code",
   "execution_count": 119,
   "metadata": {},
   "outputs": [
    {
     "name": "stdout",
     "output_type": "stream",
     "text": [
      "Метрика лучшей модели на тренировочной выборке: -37.67188270310174\n",
      "Время поиска 2.064732074737549\n",
      "Лучшая модель: Ridge(random_state=42)\n"
     ]
    }
   ],
   "source": [
    "start = time.time()\n",
    "\n",
    "grid_search0 = GridSearchCV(\n",
    "    pipeline, \n",
    "    param_grid, \n",
    "    cv=5,\n",
    "    scoring='neg_root_mean_squared_error',\n",
    "    n_jobs=-1\n",
    ")\n",
    "grid_search0.fit(X0_train, y0_train)\n",
    "\n",
    "print ('Метрика лучшей модели на тренировочной выборке:', grid_search0.best_score_)\n",
    "grid_search_time = time.time() - start\n",
    "print('Время поиска', grid_search_time)\n",
    "print('Лучшая модель:',grid_search0.best_estimator_.named_steps['models'])"
   ]
  },
  {
   "cell_type": "markdown",
   "metadata": {},
   "source": [
    "Учитывая, что среднее значение в этом регионе 92.5, RMSE равный 37.7 кажется очень большим! Посмотрим на коэффициенты модели."
   ]
  },
  {
   "cell_type": "code",
   "execution_count": 120,
   "metadata": {},
   "outputs": [
    {
     "name": "stdout",
     "output_type": "stream",
     "text": [
      "f0                  : +3.343632\n",
      "f1                  : -7.180852\n",
      "f2                  : +21.204734\n",
      "f2_square           : +0.292371\n"
     ]
    },
    {
     "data": {
      "image/png": "[encoded data removed]",
      "text/plain": [
       "<Figure size 432x288 with 1 Axes>"
      ]
     },
     "metadata": {},
     "output_type": "display_data"
    }
   ],
   "source": [
    "show_coef(X0_train, grid_search0.best_estimator_.named_steps['models'], positive=False)"
   ]
  },
  {
   "cell_type": "markdown",
   "metadata": {},
   "source": [
    "Самый сильный вес у признака `f2` а вот квадрат этого признака никак не влияет на предсказания модели."
   ]
  },
  {
   "cell_type": "code",
   "execution_count": 121,
   "metadata": {},
   "outputs": [
    {
     "name": "stdout",
     "output_type": "stream",
     "text": [
      "Средний запас предсказанного сырья: 92.39845756809436\n",
      "Метрика RMSE на тестовой выборке: 37.75560822123564\n",
      "Коэффициент детерминации R2: 0.2728669480292921\n"
     ]
    }
   ],
   "source": [
    "y0_test_pred = grid_search0.predict(X0_test)\n",
    "print(f'Средний запас предсказанного сырья: {y0_test_pred.mean()}')\n",
    "print(f'Метрика RMSE на тестовой выборке: {root_mean_squared_error(y0_test, y0_test_pred)}')\n",
    "print(f'Коэффициент детерминации R2: {r2_score(y0_test, y0_test_pred)}')"
   ]
  },
  {
   "cell_type": "markdown",
   "metadata": {},
   "source": [
    "- Средний запас предсказанного сырья оказался близок к среднему истинного значения;\n",
    "- Метрика RMSE на валидационной выборке так же плоха как и на обучающей;\n",
    "- Коэффициент детерминации R2 показывает, что модель дает правильные предсказания в 27% случаев, что очень мало."
   ]
  },
  {
   "cell_type": "code",
   "execution_count": 122,
   "metadata": {},
   "outputs": [
    {
     "data": {
      "text/html": [
       "<div>\n",
       "<style scoped>\n",
       "    .dataframe tbody tr th:only-of-type {\n",
       "        vertical-align: middle;\n",
       "    }\n",
       "\n",
       "    .dataframe tbody tr th {\n",
       "        vertical-align: top;\n",
       "    }\n",
       "\n",
       "    .dataframe thead th {\n",
       "        text-align: right;\n",
       "    }\n",
       "</style>\n",
       "<table border=\"1\" class=\"dataframe\">\n",
       "  <thead>\n",
       "    <tr style=\"text-align: right;\">\n",
       "      <th></th>\n",
       "      <th>f0</th>\n",
       "      <th>f1</th>\n",
       "      <th>f2</th>\n",
       "      <th>f2_square</th>\n",
       "      <th>product</th>\n",
       "      <th>y_pred</th>\n",
       "    </tr>\n",
       "    <tr>\n",
       "      <th>id</th>\n",
       "      <th></th>\n",
       "      <th></th>\n",
       "      <th></th>\n",
       "      <th></th>\n",
       "      <th></th>\n",
       "      <th></th>\n",
       "    </tr>\n",
       "  </thead>\n",
       "  <tbody>\n",
       "    <tr>\n",
       "      <th>7C6bA</th>\n",
       "      <td>0.599283</td>\n",
       "      <td>-0.557623</td>\n",
       "      <td>2.121187</td>\n",
       "      <td>4.499433</td>\n",
       "      <td>122.073350</td>\n",
       "      <td>101.759746</td>\n",
       "    </tr>\n",
       "    <tr>\n",
       "      <th>dVxsn</th>\n",
       "      <td>0.739017</td>\n",
       "      <td>-0.463156</td>\n",
       "      <td>-1.347584</td>\n",
       "      <td>1.815984</td>\n",
       "      <td>48.738540</td>\n",
       "      <td>78.274884</td>\n",
       "    </tr>\n",
       "    <tr>\n",
       "      <th>1Gm3l</th>\n",
       "      <td>1.422743</td>\n",
       "      <td>-0.534917</td>\n",
       "      <td>3.718798</td>\n",
       "      <td>13.829459</td>\n",
       "      <td>131.338088</td>\n",
       "      <td>115.143992</td>\n",
       "    </tr>\n",
       "    <tr>\n",
       "      <th>Nzg1t</th>\n",
       "      <td>1.580244</td>\n",
       "      <td>-0.238458</td>\n",
       "      <td>2.805149</td>\n",
       "      <td>7.868859</td>\n",
       "      <td>88.327757</td>\n",
       "      <td>105.478193</td>\n",
       "    </tr>\n",
       "    <tr>\n",
       "      <th>Z7b4F</th>\n",
       "      <td>0.918974</td>\n",
       "      <td>0.023961</td>\n",
       "      <td>2.598575</td>\n",
       "      <td>6.752593</td>\n",
       "      <td>36.959266</td>\n",
       "      <td>97.838573</td>\n",
       "    </tr>\n",
       "    <tr>\n",
       "      <th>...</th>\n",
       "      <td>...</td>\n",
       "      <td>...</td>\n",
       "      <td>...</td>\n",
       "      <td>...</td>\n",
       "      <td>...</td>\n",
       "      <td>...</td>\n",
       "    </tr>\n",
       "    <tr>\n",
       "      <th>pXFCs</th>\n",
       "      <td>0.754647</td>\n",
       "      <td>-0.512213</td>\n",
       "      <td>2.610771</td>\n",
       "      <td>6.816124</td>\n",
       "      <td>148.821520</td>\n",
       "      <td>104.934014</td>\n",
       "    </tr>\n",
       "    <tr>\n",
       "      <th>tf6nq</th>\n",
       "      <td>-0.062056</td>\n",
       "      <td>0.516884</td>\n",
       "      <td>0.714446</td>\n",
       "      <td>0.510434</td>\n",
       "      <td>123.454003</td>\n",
       "      <td>74.669931</td>\n",
       "    </tr>\n",
       "    <tr>\n",
       "      <th>pv8T0</th>\n",
       "      <td>0.593769</td>\n",
       "      <td>-0.425260</td>\n",
       "      <td>-0.525017</td>\n",
       "      <td>0.275643</td>\n",
       "      <td>91.945213</td>\n",
       "      <td>82.525265</td>\n",
       "    </tr>\n",
       "    <tr>\n",
       "      <th>nol4A</th>\n",
       "      <td>0.198209</td>\n",
       "      <td>0.453940</td>\n",
       "      <td>1.497557</td>\n",
       "      <td>2.242676</td>\n",
       "      <td>149.295563</td>\n",
       "      <td>81.699001</td>\n",
       "    </tr>\n",
       "    <tr>\n",
       "      <th>MUye1</th>\n",
       "      <td>-0.246727</td>\n",
       "      <td>1.013025</td>\n",
       "      <td>4.678275</td>\n",
       "      <td>21.886253</td>\n",
       "      <td>57.244039</td>\n",
       "      <td>93.043117</td>\n",
       "    </tr>\n",
       "  </tbody>\n",
       "</table>\n",
       "<p>25000 rows × 6 columns</p>\n",
       "</div>"
      ],
      "text/plain": [
       "             f0        f1        f2  f2_square     product      y_pred\n",
       "id                                                                    \n",
       "7C6bA  0.599283 -0.557623  2.121187   4.499433  122.073350  101.759746\n",
       "dVxsn  0.739017 -0.463156 -1.347584   1.815984   48.738540   78.274884\n",
       "1Gm3l  1.422743 -0.534917  3.718798  13.829459  131.338088  115.143992\n",
       "Nzg1t  1.580244 -0.238458  2.805149   7.868859   88.327757  105.478193\n",
       "Z7b4F  0.918974  0.023961  2.598575   6.752593   36.959266   97.838573\n",
       "...         ...       ...       ...        ...         ...         ...\n",
       "pXFCs  0.754647 -0.512213  2.610771   6.816124  148.821520  104.934014\n",
       "tf6nq -0.062056  0.516884  0.714446   0.510434  123.454003   74.669931\n",
       "pv8T0  0.593769 -0.425260 -0.525017   0.275643   91.945213   82.525265\n",
       "nol4A  0.198209  0.453940  1.497557   2.242676  149.295563   81.699001\n",
       "MUye1 -0.246727  1.013025  4.678275  21.886253   57.244039   93.043117\n",
       "\n",
       "[25000 rows x 6 columns]"
      ]
     },
     "execution_count": 122,
     "metadata": {},
     "output_type": "execute_result"
    }
   ],
   "source": [
    "geo_0_test = X0_test.merge(y0_test, on='id')\n",
    "geo_0_test['y_pred'] = y0_test_pred\n",
    "geo_0_test"
   ]
  },
  {
   "cell_type": "markdown",
   "metadata": {},
   "source": [
    "Обучим модель и сделаем предсказания на валидационной выборке для региона `geo_1`"
   ]
  },
  {
   "cell_type": "code",
   "execution_count": 123,
   "metadata": {},
   "outputs": [
    {
     "name": "stdout",
     "output_type": "stream",
     "text": [
      "Метрика лучшей модели на тренировочной выборке: -0.8904562679518498\n",
      "Время поиска 2.577319383621216\n",
      "Лучшая модель: Ridge(random_state=42)\n"
     ]
    }
   ],
   "source": [
    "start = time.time()\n",
    "\n",
    "grid_search1 = GridSearchCV(\n",
    "    pipeline, \n",
    "    param_grid, \n",
    "    cv=5,\n",
    "    scoring='neg_root_mean_squared_error',\n",
    "    n_jobs=-1\n",
    ")\n",
    "grid_search1.fit(X1_train, y1_train)\n",
    "\n",
    "print ('Метрика лучшей модели на тренировочной выборке:', grid_search1.best_score_)\n",
    "grid_search_time = time.time() - start\n",
    "print('Время поиска', grid_search_time)\n",
    "print('Лучшая модель:',grid_search1.best_estimator_.named_steps['models'])"
   ]
  },
  {
   "cell_type": "markdown",
   "metadata": {},
   "source": [
    "Очень хорошая метрика на тренировочных данных. Посмотрим на коэффициенты модели."
   ]
  },
  {
   "cell_type": "code",
   "execution_count": 124,
   "metadata": {},
   "outputs": [
    {
     "name": "stdout",
     "output_type": "stream",
     "text": [
      "f0                  : -1.298940\n",
      "f1                  : -0.110914\n",
      "f2                  : +45.912718\n"
     ]
    },
    {
     "data": {
      "image/png": "[encoded data removed]",
      "text/plain": [
       "<Figure size 432x288 with 1 Axes>"
      ]
     },
     "metadata": {},
     "output_type": "display_data"
    }
   ],
   "source": [
    "show_coef(X1_train, grid_search1.best_estimator_.named_steps['models'], positive=False)"
   ]
  },
  {
   "cell_type": "markdown",
   "metadata": {},
   "source": [
    "Очень большой вес у признака `f2`. Оно и не удивительно, там ярковыраженная линейная взаимосвязь с целевым признаком."
   ]
  },
  {
   "cell_type": "code",
   "execution_count": 125,
   "metadata": {},
   "outputs": [
    {
     "name": "stdout",
     "output_type": "stream",
     "text": [
      "Средний запас предсказанного сырья: 68.712879939875\n",
      "Метрика RMSE на тестовой выборке: 0.8902736110787504\n",
      "Коэффициент детерминации R2: 0.9996245286737337\n"
     ]
    }
   ],
   "source": [
    "y1_test_pred = grid_search1.predict(X1_test)\n",
    "print(f'Средний запас предсказанного сырья: {y1_test_pred.mean()}')\n",
    "print(f'Метрика RMSE на тестовой выборке: {root_mean_squared_error(y1_test, y1_test_pred)}')\n",
    "print(f'Коэффициент детерминации R2: {r2_score(y1_test, y1_test_pred)}')"
   ]
  },
  {
   "cell_type": "markdown",
   "metadata": {},
   "source": [
    "- Метрика на валидационной выборке такая же хорошая как и на обучающей;\n",
    "- Коэффициент детерминации почти идеальный - 99.9% верных предсказаний;\n",
    "- Среднее значение такое же как и истинное. Такое же низкое."
   ]
  },
  {
   "cell_type": "code",
   "execution_count": 126,
   "metadata": {},
   "outputs": [
    {
     "data": {
      "text/html": [
       "<div>\n",
       "<style scoped>\n",
       "    .dataframe tbody tr th:only-of-type {\n",
       "        vertical-align: middle;\n",
       "    }\n",
       "\n",
       "    .dataframe tbody tr th {\n",
       "        vertical-align: top;\n",
       "    }\n",
       "\n",
       "    .dataframe thead th {\n",
       "        text-align: right;\n",
       "    }\n",
       "</style>\n",
       "<table border=\"1\" class=\"dataframe\">\n",
       "  <thead>\n",
       "    <tr style=\"text-align: right;\">\n",
       "      <th></th>\n",
       "      <th>f0</th>\n",
       "      <th>f1</th>\n",
       "      <th>f2</th>\n",
       "      <th>product</th>\n",
       "      <th>y_pred</th>\n",
       "    </tr>\n",
       "    <tr>\n",
       "      <th>id</th>\n",
       "      <th></th>\n",
       "      <th></th>\n",
       "      <th></th>\n",
       "      <th></th>\n",
       "      <th></th>\n",
       "    </tr>\n",
       "  </thead>\n",
       "  <tbody>\n",
       "    <tr>\n",
       "      <th>fYVDK</th>\n",
       "      <td>6.078076</td>\n",
       "      <td>0.084568</td>\n",
       "      <td>0.002957</td>\n",
       "      <td>0.000000</td>\n",
       "      <td>0.845640</td>\n",
       "    </tr>\n",
       "    <tr>\n",
       "      <th>3SQcq</th>\n",
       "      <td>16.462386</td>\n",
       "      <td>2.712946</td>\n",
       "      <td>1.993030</td>\n",
       "      <td>53.906522</td>\n",
       "      <td>52.921817</td>\n",
       "    </tr>\n",
       "    <tr>\n",
       "      <th>hQ1gJ</th>\n",
       "      <td>7.051898</td>\n",
       "      <td>0.766983</td>\n",
       "      <td>4.990194</td>\n",
       "      <td>134.766305</td>\n",
       "      <td>135.109496</td>\n",
       "    </tr>\n",
       "    <tr>\n",
       "      <th>Y4vux</th>\n",
       "      <td>-0.240045</td>\n",
       "      <td>-0.380804</td>\n",
       "      <td>3.999693</td>\n",
       "      <td>107.813044</td>\n",
       "      <td>109.494318</td>\n",
       "    </tr>\n",
       "    <tr>\n",
       "      <th>H1NUw</th>\n",
       "      <td>13.350111</td>\n",
       "      <td>-8.558281</td>\n",
       "      <td>0.002010</td>\n",
       "      <td>0.000000</td>\n",
       "      <td>-0.046371</td>\n",
       "    </tr>\n",
       "    <tr>\n",
       "      <th>...</th>\n",
       "      <td>...</td>\n",
       "      <td>...</td>\n",
       "      <td>...</td>\n",
       "      <td>...</td>\n",
       "      <td>...</td>\n",
       "    </tr>\n",
       "    <tr>\n",
       "      <th>Vn3pL</th>\n",
       "      <td>8.141417</td>\n",
       "      <td>-0.832158</td>\n",
       "      <td>4.001976</td>\n",
       "      <td>107.813044</td>\n",
       "      <td>108.351069</td>\n",
       "    </tr>\n",
       "    <tr>\n",
       "      <th>zZe7H</th>\n",
       "      <td>16.601751</td>\n",
       "      <td>-8.141232</td>\n",
       "      <td>2.010371</td>\n",
       "      <td>53.906522</td>\n",
       "      <td>53.604254</td>\n",
       "    </tr>\n",
       "    <tr>\n",
       "      <th>iefIy</th>\n",
       "      <td>14.674777</td>\n",
       "      <td>-5.633890</td>\n",
       "      <td>1.004171</td>\n",
       "      <td>26.953261</td>\n",
       "      <td>26.709296</td>\n",
       "    </tr>\n",
       "    <tr>\n",
       "      <th>CFT5B</th>\n",
       "      <td>-1.381118</td>\n",
       "      <td>-5.464254</td>\n",
       "      <td>4.001648</td>\n",
       "      <td>110.992147</td>\n",
       "      <td>109.822542</td>\n",
       "    </tr>\n",
       "    <tr>\n",
       "      <th>cQudG</th>\n",
       "      <td>8.390836</td>\n",
       "      <td>-2.782887</td>\n",
       "      <td>5.007094</td>\n",
       "      <td>134.766305</td>\n",
       "      <td>135.447890</td>\n",
       "    </tr>\n",
       "  </tbody>\n",
       "</table>\n",
       "<p>25000 rows × 5 columns</p>\n",
       "</div>"
      ],
      "text/plain": [
       "              f0        f1        f2     product      y_pred\n",
       "id                                                          \n",
       "fYVDK   6.078076  0.084568  0.002957    0.000000    0.845640\n",
       "3SQcq  16.462386  2.712946  1.993030   53.906522   52.921817\n",
       "hQ1gJ   7.051898  0.766983  4.990194  134.766305  135.109496\n",
       "Y4vux  -0.240045 -0.380804  3.999693  107.813044  109.494318\n",
       "H1NUw  13.350111 -8.558281  0.002010    0.000000   -0.046371\n",
       "...          ...       ...       ...         ...         ...\n",
       "Vn3pL   8.141417 -0.832158  4.001976  107.813044  108.351069\n",
       "zZe7H  16.601751 -8.141232  2.010371   53.906522   53.604254\n",
       "iefIy  14.674777 -5.633890  1.004171   26.953261   26.709296\n",
       "CFT5B  -1.381118 -5.464254  4.001648  110.992147  109.822542\n",
       "cQudG   8.390836 -2.782887  5.007094  134.766305  135.447890\n",
       "\n",
       "[25000 rows x 5 columns]"
      ]
     },
     "execution_count": 126,
     "metadata": {},
     "output_type": "execute_result"
    }
   ],
   "source": [
    "geo_1_test = X1_test.merge(y1_test, on='id')\n",
    "geo_1_test['y_pred'] = y1_test_pred\n",
    "geo_1_test"
   ]
  },
  {
   "cell_type": "markdown",
   "metadata": {},
   "source": [
    "Обучим модель и сделаем предсказания на валидационной выборке для региона `geo_2`"
   ]
  },
  {
   "cell_type": "code",
   "execution_count": 127,
   "metadata": {},
   "outputs": [
    {
     "name": "stdout",
     "output_type": "stream",
     "text": [
      "Метрика лучшей модели на тренировочной выборке: -40.02713669016663\n",
      "Время поиска 2.3466317653656006\n",
      "Лучшая модель: Ridge(random_state=42)\n"
     ]
    }
   ],
   "source": [
    "start = time.time()\n",
    "\n",
    "grid_search2 = GridSearchCV(\n",
    "    pipeline, \n",
    "    param_grid, \n",
    "    cv=5,\n",
    "    scoring='neg_root_mean_squared_error',\n",
    "    n_jobs=-1\n",
    ")\n",
    "grid_search2.fit(X2_train, y2_train)\n",
    "\n",
    "print ('Метрика лучшей модели на тренировочной выборке:', grid_search2.best_score_)\n",
    "grid_search_time = time.time() - start\n",
    "print('Время поиска', grid_search_time)\n",
    "print('Лучшая модель:',grid_search2.best_estimator_.named_steps['models'])"
   ]
  },
  {
   "cell_type": "markdown",
   "metadata": {},
   "source": [
    "Самая худшая метрика на обучении."
   ]
  },
  {
   "cell_type": "code",
   "execution_count": 128,
   "metadata": {},
   "outputs": [
    {
     "name": "stdout",
     "output_type": "stream",
     "text": [
      "f0                  : -0.145437\n",
      "f1                  : -0.026784\n",
      "f2                  : +19.938659\n",
      "f2_square           : +0.068265\n"
     ]
    },
    {
     "data": {
      "image/png": "[encoded data removed]",
      "text/plain": [
       "<Figure size 432x288 with 1 Axes>"
      ]
     },
     "metadata": {},
     "output_type": "display_data"
    }
   ],
   "source": [
    "show_coef(X2_train, grid_search2.best_estimator_.named_steps['models'], positive=False)"
   ]
  },
  {
   "cell_type": "markdown",
   "metadata": {},
   "source": [
    "Единственный весомый признак у этой модели - это `f2`. А `f2_square` оказался так же не нужен. Как и остальные признаки в целом."
   ]
  },
  {
   "cell_type": "code",
   "execution_count": 129,
   "metadata": {},
   "outputs": [
    {
     "name": "stdout",
     "output_type": "stream",
     "text": [
      "Средний запас предсказанного сырья: 94.77081741133998\n",
      "Метрика RMSE на тестовой выборке: 40.145827132196466\n",
      "Кщэффициент детерминации R2: 0.1963488685930278\n"
     ]
    }
   ],
   "source": [
    "y2_test_pred = grid_search2.predict(X2_test)\n",
    "print(f'Средний запас предсказанного сырья: {y2_test_pred.mean()}')\n",
    "print(f'Метрика RMSE на тестовой выборке: {root_mean_squared_error(y2_test, y2_test_pred)}')\n",
    "print(f'Кщэффициент детерминации R2: {r2_score(y2_test, y2_test_pred)}')"
   ]
  },
  {
   "cell_type": "markdown",
   "metadata": {},
   "source": [
    "<div class=\"alert alert-success\">\n",
    "<font size=\"4\"><b>✔️ Комментарий ревьюера</b></font>\n",
    "    <br /> \n",
    "    <font size=\"3\", color = \"black\">\n",
    "<br />    \n",
    "Получены адекватные модели\n",
    "<br />"
   ]
  },
  {
   "cell_type": "markdown",
   "metadata": {},
   "source": [
    "- В среднее значение попали, настоящее - 95;\n",
    "- Метрика RMSE велика на столько, что немного не хватает до стандартного отклонения, которое равно 45. Скорее всего на угад можно сделать такие же предсказания."
   ]
  },
  {
   "cell_type": "code",
   "execution_count": 130,
   "metadata": {},
   "outputs": [
    {
     "data": {
      "text/html": [
       "<div>\n",
       "<style scoped>\n",
       "    .dataframe tbody tr th:only-of-type {\n",
       "        vertical-align: middle;\n",
       "    }\n",
       "\n",
       "    .dataframe tbody tr th {\n",
       "        vertical-align: top;\n",
       "    }\n",
       "\n",
       "    .dataframe thead th {\n",
       "        text-align: right;\n",
       "    }\n",
       "</style>\n",
       "<table border=\"1\" class=\"dataframe\">\n",
       "  <thead>\n",
       "    <tr style=\"text-align: right;\">\n",
       "      <th></th>\n",
       "      <th>f0</th>\n",
       "      <th>f1</th>\n",
       "      <th>f2</th>\n",
       "      <th>f2_square</th>\n",
       "      <th>product</th>\n",
       "      <th>y_pred</th>\n",
       "    </tr>\n",
       "    <tr>\n",
       "      <th>id</th>\n",
       "      <th></th>\n",
       "      <th></th>\n",
       "      <th></th>\n",
       "      <th></th>\n",
       "      <th></th>\n",
       "      <th></th>\n",
       "    </tr>\n",
       "  </thead>\n",
       "  <tbody>\n",
       "    <tr>\n",
       "      <th>sPjbT</th>\n",
       "      <td>2.111118</td>\n",
       "      <td>-1.679773</td>\n",
       "      <td>3.112240</td>\n",
       "      <td>9.686036</td>\n",
       "      <td>117.441301</td>\n",
       "      <td>98.269151</td>\n",
       "    </tr>\n",
       "    <tr>\n",
       "      <th>1u4uo</th>\n",
       "      <td>0.734759</td>\n",
       "      <td>0.747788</td>\n",
       "      <td>3.670879</td>\n",
       "      <td>13.475356</td>\n",
       "      <td>47.841249</td>\n",
       "      <td>101.562266</td>\n",
       "    </tr>\n",
       "    <tr>\n",
       "      <th>kZ6HO</th>\n",
       "      <td>-2.513109</td>\n",
       "      <td>0.844631</td>\n",
       "      <td>-4.922889</td>\n",
       "      <td>24.234838</td>\n",
       "      <td>45.883483</td>\n",
       "      <td>52.570577</td>\n",
       "    </tr>\n",
       "    <tr>\n",
       "      <th>gCZGK</th>\n",
       "      <td>-2.035301</td>\n",
       "      <td>-1.522988</td>\n",
       "      <td>5.072839</td>\n",
       "      <td>25.733696</td>\n",
       "      <td>139.014608</td>\n",
       "      <td>109.906268</td>\n",
       "    </tr>\n",
       "    <tr>\n",
       "      <th>rqJHx</th>\n",
       "      <td>2.744145</td>\n",
       "      <td>1.429952</td>\n",
       "      <td>-1.372661</td>\n",
       "      <td>1.884198</td>\n",
       "      <td>84.004276</td>\n",
       "      <td>72.420703</td>\n",
       "    </tr>\n",
       "    <tr>\n",
       "      <th>...</th>\n",
       "      <td>...</td>\n",
       "      <td>...</td>\n",
       "      <td>...</td>\n",
       "      <td>...</td>\n",
       "      <td>...</td>\n",
       "      <td>...</td>\n",
       "    </tr>\n",
       "    <tr>\n",
       "      <th>hMnQH</th>\n",
       "      <td>-1.532677</td>\n",
       "      <td>0.365315</td>\n",
       "      <td>3.840436</td>\n",
       "      <td>14.748951</td>\n",
       "      <td>40.797226</td>\n",
       "      <td>102.734851</td>\n",
       "    </tr>\n",
       "    <tr>\n",
       "      <th>KGq37</th>\n",
       "      <td>1.381244</td>\n",
       "      <td>1.168552</td>\n",
       "      <td>2.262261</td>\n",
       "      <td>5.117824</td>\n",
       "      <td>87.144239</td>\n",
       "      <td>93.398104</td>\n",
       "    </tr>\n",
       "    <tr>\n",
       "      <th>CKCjb</th>\n",
       "      <td>2.902487</td>\n",
       "      <td>0.839203</td>\n",
       "      <td>-2.817721</td>\n",
       "      <td>7.939549</td>\n",
       "      <td>52.039812</td>\n",
       "      <td>64.144826</td>\n",
       "    </tr>\n",
       "    <tr>\n",
       "      <th>ANcQx</th>\n",
       "      <td>0.942093</td>\n",
       "      <td>-1.424641</td>\n",
       "      <td>0.567559</td>\n",
       "      <td>0.322123</td>\n",
       "      <td>136.961454</td>\n",
       "      <td>83.740855</td>\n",
       "    </tr>\n",
       "    <tr>\n",
       "      <th>AarNF</th>\n",
       "      <td>1.015823</td>\n",
       "      <td>-1.600172</td>\n",
       "      <td>1.054157</td>\n",
       "      <td>1.111248</td>\n",
       "      <td>109.173206</td>\n",
       "      <td>86.530705</td>\n",
       "    </tr>\n",
       "  </tbody>\n",
       "</table>\n",
       "<p>25000 rows × 6 columns</p>\n",
       "</div>"
      ],
      "text/plain": [
       "             f0        f1        f2  f2_square     product      y_pred\n",
       "id                                                                    \n",
       "sPjbT  2.111118 -1.679773  3.112240   9.686036  117.441301   98.269151\n",
       "1u4uo  0.734759  0.747788  3.670879  13.475356   47.841249  101.562266\n",
       "kZ6HO -2.513109  0.844631 -4.922889  24.234838   45.883483   52.570577\n",
       "gCZGK -2.035301 -1.522988  5.072839  25.733696  139.014608  109.906268\n",
       "rqJHx  2.744145  1.429952 -1.372661   1.884198   84.004276   72.420703\n",
       "...         ...       ...       ...        ...         ...         ...\n",
       "hMnQH -1.532677  0.365315  3.840436  14.748951   40.797226  102.734851\n",
       "KGq37  1.381244  1.168552  2.262261   5.117824   87.144239   93.398104\n",
       "CKCjb  2.902487  0.839203 -2.817721   7.939549   52.039812   64.144826\n",
       "ANcQx  0.942093 -1.424641  0.567559   0.322123  136.961454   83.740855\n",
       "AarNF  1.015823 -1.600172  1.054157   1.111248  109.173206   86.530705\n",
       "\n",
       "[25000 rows x 6 columns]"
      ]
     },
     "execution_count": 130,
     "metadata": {},
     "output_type": "execute_result"
    }
   ],
   "source": [
    "geo_2_test = X2_test.merge(y2_test, on='id')\n",
    "geo_2_test['y_pred'] = y2_test_pred\n",
    "geo_2_test"
   ]
  },
  {
   "cell_type": "markdown",
   "metadata": {},
   "source": [
    "## Подготовка к расчёту прибыли"
   ]
  },
  {
   "cell_type": "markdown",
   "metadata": {},
   "source": [
    "Добавим переменные где будут ключевые значения для рассчетов:\n",
    "- `boreholes_quantity` итоговое количество скважин для разведки - 200 штук;\n",
    "- `budget` бюджет на разработку скважин 10 млрд. рублей;\n",
    "- `cost` стоимость 1 тыс баррелей - 450 тыс рублей;\n",
    "- `losses_risk` риск убытков 2.5%;\n",
    "- `budget_and_risk` бюджет с учетом рисков рассчитаем добавив 2.5% рисков из бюджета(потому что прибыль от скважин должна в итоге его превысить с учетом рисков)."
   ]
  },
  {
   "cell_type": "code",
   "execution_count": 131,
   "metadata": {},
   "outputs": [],
   "source": [
    "BOREHOLES_QUANTITY = 200\n",
    "BUDGET = 10_000_000_000\n",
    "COST = 450_000\n",
    "LOSSES_RISK = 0.025\n",
    "budget_and_risk = BUDGET + BUDGET * LOSSES_RISK"
   ]
  },
  {
   "cell_type": "code",
   "execution_count": 132,
   "metadata": {},
   "outputs": [],
   "source": [
    "# boreholes_quantity = 200\n",
    "# budget = 10000000000\n",
    "# cost = 450000\n",
    "# losses_risk = 0.025\n",
    "# budget_and_risk = budget + budget * losses_risk"
   ]
  },
  {
   "cell_type": "markdown",
   "metadata": {},
   "source": [
    "<div class=\"alert alert-info\">\n",
    "<font size=\"4\">🍕<b> Комментарий ревьюера</b></font>\n",
    "    <br /> \n",
    "    <font size=\"3\", color = \"black\">\n",
    "<br /> \n",
    "Стандарт PEP8 рекомендует константы именовать КАПСОМ. Кроме того, есть смысл использовать разделение разрядов, если число большое. Например:\n",
    "\n",
    "`BUDGET = 10_000_000_000`\n",
    "    </font>\n",
    "\n",
    "</div>"
   ]
  },
  {
   "cell_type": "markdown",
   "metadata": {},
   "source": [
    "<div class=\"alert alert-info\"  style=\"border-radius: 15px; box-shadow: 4px 4px 4px; border: 1px solid \">\n",
    "    \n",
    "<font size=\"5\"><b>Комментарий студента: </b></font>\n",
    "\n",
    "\n",
    "Принял. Спасибо!"
   ]
  },
  {
   "cell_type": "markdown",
   "metadata": {},
   "source": [
    "Рассчитаем сколько тыс баррелей надо в среднем с каждой скважины, что бы окупить разработку."
   ]
  },
  {
   "cell_type": "code",
   "execution_count": 133,
   "metadata": {},
   "outputs": [
    {
     "data": {
      "text/plain": [
       "111.11111111111111"
      ]
     },
     "execution_count": 133,
     "metadata": {},
     "output_type": "execute_result"
    }
   ],
   "source": [
    "# average_stock = budget_and_risk / cost / boreholes_quantity\n",
    "# average_stock\n",
    "\n",
    "average_stock = BUDGET / COST / BOREHOLES_QUANTITY\n",
    "average_stock"
   ]
  },
  {
   "cell_type": "markdown",
   "metadata": {},
   "source": [
    "<div class=\"alert alert-danger\">\n",
    "<font size=\"4\"><b>❌ Комментарий ревьюера</b></font>\n",
    "    <br /> \n",
    "    <font size=\"3\", color = \"black\">\n",
    "<br />\n",
    "Количество необходимой для безубыточности нефти не зависит от уровня рисков. Тут надо использовать просто `budget`"
   ]
  },
  {
   "cell_type": "markdown",
   "metadata": {},
   "source": [
    "<div class=\"alert alert-info\"  style=\"border-radius: 15px; box-shadow: 4px 4px 4px; border: 1px solid \">\n",
    "    \n",
    "<font size=\"5\"><b>Комментарий студента: </b></font>\n",
    "\n",
    "\n",
    "Ок, спасибо! Старый код закомментировал, новый написал ниже."
   ]
  },
  {
   "cell_type": "markdown",
   "metadata": {},
   "source": [
    "~~Почти 114 тыс баррелей надо получить в среднем с каждой скажины, что бы разработка окупилась.\n",
    "Сравним это значение со средними данными по регионам.~~\n",
    "\n",
    "111 тыс баррелей надо получить в среднем с каждой скажины, что бы разработка окупилась.\n",
    "Сравним это значение со средними данными по регионам."
   ]
  },
  {
   "cell_type": "code",
   "execution_count": 134,
   "metadata": {},
   "outputs": [
    {
     "name": "stdout",
     "output_type": "stream",
     "text": [
      "\n",
      "    Средний запас предсказанного сырья в регионе geo_0: 92.39845756809436\n",
      "    Средний запас предсказанного сырья в регионе geo_1: 68.712879939875\n",
      "    Средний запас предсказанного сырья в регионе geo_2: 94.77081741133998\n",
      "    \n"
     ]
    }
   ],
   "source": [
    "print(\n",
    "    f'''\n",
    "    Средний запас предсказанного сырья в регионе geo_0: {y0_test_pred.mean()}\n",
    "    Средний запас предсказанного сырья в регионе geo_1: {y1_test_pred.mean()}\n",
    "    Средний запас предсказанного сырья в регионе geo_2: {y2_test_pred.mean()}\n",
    "    '''\n",
    ")"
   ]
  },
  {
   "cell_type": "markdown",
   "metadata": {},
   "source": [
    "В каждом регионе среднее значение меньше нужного. Но надо не забывать, что скажин там много и в каком нибудь мы должны найти 200 скважин, где будет нужный нам запас сырья."
   ]
  },
  {
   "cell_type": "markdown",
   "metadata": {},
   "source": [
    "<div class=\"alert alert-warning\">\n",
    "<font size=\"4\"><b>⚠️ Комментарий ревьюера</b></font>\n",
    "    <br /> \n",
    "    <font size=\"3\", color = \"black\">\n",
    "<br />\n",
    "А вот тут ты как бы прав, но как бы и не до конца. Каждый регион в среднем убыточен <b>с точки зрения модели</b>. А модель иногда может и ошибаться. А вот таргеты валидационной выборки - это истина в последней инстанции. Поэтому и сравнивать надо не с предсказанным, а с истинным средним запасом. Бизнес же интересует прибыль, а прибыль вычисляется по таргетам. Предсказания бизнесу интересны исключительно постольку, поскольку могут ли они увеличить прибыль.\n",
    "\n",
    "Ну и когда выведешь средние истинные запасы, вот тебе контрольный вопрос на засыпку: лишь в одном регионе RMSE низкая, а среднее предсказание очень близко среднему истинному запасу во всех. Как так? Получается, что RMSE может быть высокой, а модель всё равно качественной? Интересно почитать твои мысли на этот счёт."
   ]
  },
  {
   "cell_type": "code",
   "execution_count": 135,
   "metadata": {},
   "outputs": [
    {
     "name": "stdout",
     "output_type": "stream",
     "text": [
      "\n",
      "    Средний запас истинного сырья в регионе geo_0: 92.32595637084387\n",
      "    Средний запас истинного сырья в регионе geo_1: 68.72538074722745\n",
      "    Средний запас истинного сырья в регионе geo_2: 95.15099907171961\n",
      "    \n"
     ]
    }
   ],
   "source": [
    "print(\n",
    "    f'''\n",
    "    Средний запас истинного сырья в регионе geo_0: {y0_test.mean()}\n",
    "    Средний запас истинного сырья в регионе geo_1: {y1_test.mean()}\n",
    "    Средний запас истинного сырья в регионе geo_2: {y2_test.mean()}\n",
    "    '''\n",
    ")"
   ]
  },
  {
   "cell_type": "markdown",
   "metadata": {},
   "source": [
    "<div class=\"alert alert-info\"  style=\"border-radius: 15px; box-shadow: 4px 4px 4px; border: 1px solid \">\n",
    "    \n",
    "<font size=\"5\"><b>Комментарий студента: </b></font>\n",
    "\n",
    "\n",
    "Среднее значение у таргета и предсказаний на валидационной выборке почти равны не смотря на RMSE, потому что это линейная регрессия и у признаков как и у таргета присутствует нормальное распределение. Чем больше экспериментов тем больше среднее стремится к \"идеальному\" среднему. Конечно может быть смещение колокола по оси х, но при условии наличия выбросов, которые перетянут в положительную или отрицательную значение среднего, но у нас с этим все в порядке вроде. \n",
    "\n",
    "В общет так своими словами понимаю, почему несмотря на корень среднеквадратичной ошибки у нас предсказанные средние почти равны истинным."
   ]
  },
  {
   "cell_type": "markdown",
   "metadata": {},
   "source": [
    "<div class=\"alert alert-info\">\n",
    "<font size=\"4\">🍕<b> Комментарий ревьюера V3</b></font>\n",
    "    <br /> \n",
    "    <font size=\"3\", color = \"black\">\n",
    "<br />\n",
    "Суть ответа кроется в весьма тривиальной арифметике: модель может ошибаться как в одну, так и в другую сторону, давать прогноз больше или меньше, чем правильный ответ. Когда мы предсказания усредняме, то ошибки разного рода друг друга как бы компенсируют. А вот когда мы вычисляем MSE, то ошибка возводится в квадрат, и поэтому знак её не важен.\n",
    "\n",
    "Пример: 2 скважины, в каждой истинный запас по 100. Модель выдала соответственно 20 и 180. Очевидно, модель не очень качественная, RMSE == 80. Зато среднее предсказание в точности равно среднему таргету.\n",
    "\n",
    "Близость среднего предсказания среднему таргету - не то чтобы совсем бесполезная информация, мы по ней можем судить, что полученная модель является <a href=\"https://academy.yandex.ru/handbook/ml/article/bias-variance-decomposition#:~:text=%D0%A1%D0%BC%D0%B5%D1%89%D0%B5%D0%BD%D0%B8%D0%B5%20%D0%BF%D0%BE%D0%BA%D0%B0%D0%B7%D1%8B%D0%B2%D0%B0%D0%B5%D1%82%2C%20%D0%BD%D0%B0%D1%81%D0%BA%D0%BE%D0%BB%D1%8C%D0%BA%D0%BE%20%D1%85%D0%BE%D1%80%D0%BE%D1%88%D0%BE%20%D1%81,%D0%BA%20%D0%B8%D0%B7%D0%BC%D0%B5%D0%BD%D0%B5%D0%BD%D0%B8%D1%8F%D0%BC%20%D0%B2%20%D0%BE%D0%B1%D1%83%D1%87%D0%B0%D1%8E%D1%89%D0%B5%D0%B9%20%D0%B2%D1%8B%D0%B1%D0%BE%D1%80%D0%BA%D0%B5.\">несмещённой</a>, но о качестве модели мы по ней судить всё-таки не можем."
   ]
  },
  {
   "cell_type": "markdown",
   "metadata": {},
   "source": [
    "<div class=\"alert alert-info\"  style=\"border-radius: 15px; box-shadow: 4px 4px 4px; border: 1px solid \">\n",
    "    \n",
    "<font size=\"5\"><b>Комментарий студента: </b></font>\n",
    "\n",
    "\n",
    "Два раза до этого читал эту статью и все равно только с практикой приходит понимание... Спасибо, что разжевал!"
   ]
  },
  {
   "cell_type": "markdown",
   "metadata": {},
   "source": [
    "### Вывод"
   ]
  },
  {
   "cell_type": "markdown",
   "metadata": {},
   "source": [
    "Мы рассчитали, сколько в среднем нужно получить сырья со скважины с условиями установленных бюджета, количества скважини рисками.\n",
    "\n",
    "Вычисленное значение оказалось выше среднего значения по регионам, но очевидно, что скважин там много и в полне вероятно, что из них можно выбрать 200 скважин подходящих нам по объему сырья."
   ]
  },
  {
   "cell_type": "markdown",
   "metadata": {},
   "source": [
    "## Расчёт прибыли и рисков "
   ]
  },
  {
   "cell_type": "markdown",
   "metadata": {},
   "source": [
    "Напишем функцию для расчета прибыли."
   ]
  },
  {
   "cell_type": "code",
   "execution_count": 136,
   "metadata": {},
   "outputs": [],
   "source": [
    "def profit_calculation(product_volume, cost, budget):# losses_risk):\n",
    "    profit = product_volume * cost\n",
    "    # profit -= profit * losses_risk\n",
    "    income = profit - budget\n",
    "    return round(income)"
   ]
  },
  {
   "cell_type": "markdown",
   "metadata": {},
   "source": [
    "<div class=\"alert alert-success\">\n",
    "<font size=\"4\"><b>✔️ Комментарий ревьюера V4</b></font>\n",
    "    <br /> \n",
    "    <font size=\"3\", color = \"black\">\n",
    "<br />\n",
    "Не могу не похвалить за то, что ты избежал один очень популярный баг в расчёте прибыли. В самом конце тетрадки расскажу о нём подробно.\n",
    "<br />\n",
    "    </font>\n",
    "</div>"
   ]
  },
  {
   "cell_type": "markdown",
   "metadata": {},
   "source": [
    "<div class=\"alert alert-danger\">\n",
    "<font size=\"4\"><b>❌ Комментарий ревьюера V3</b></font>\n",
    "    <br /> \n",
    "    <font size=\"3\", color = \"black\">\n",
    "<br />\n",
    "Давай ещё раз обратимся к ТЗ проекта:\n",
    "\n",
    "> 5.2. Найдите среднюю прибыль, 95%-й доверительный интервал и **риск убытков. Убыток — это отрицательная прибыль.**\n",
    "\n",
    "Таким образом, для приведение проекта в состояние \"готов к зачёту\" тебе нужно сделать 2 шага:\n",
    "\n",
    "1. Во-первых, тебе собственно надо находить не доход, а прибыль. Доход - это полученные компанией деньги, прибыль = доход - расход. Что такое расход? Это бюджет на разработку. Собственно, вычитать из дохода надо именно BUDGET, а не profit * losses_risk\n",
    "\n",
    "2. Ты получаешь 1000 выборочных прибылей. В соотвествтии с ТЗ риск убытков - это просто количество отрицательных прибылей / размер выборки. То есть берёшь свои выборочные прибыли, считаешь сколько из них в убытке, делишь на тысячу - это и есть оценка риска убытков. И заказчик нам в ТЗ говорит, что хочет, чтобы этот риск был не больше 2.5% - по этому критерию 2/3 регионов отсекутся ;)"
   ]
  },
  {
   "cell_type": "markdown",
   "metadata": {},
   "source": [
    "<div class=\"alert alert-danger\">\n",
    "<font size=\"4\"><b>❌ Комментарий ревьюера</b></font>\n",
    "    <br /> \n",
    "    <font size=\"3\", color = \"black\">\n",
    "<br />\n",
    "Тут самая критически важная ошибка: ты неверно вычисляешь прибыль. Описанный алгоритм в ТЗ:\n",
    "\n",
    "+ Берём топ скважин по предсказанным запасам\n",
    "+ Считаем прибыль по реальным запасам\n",
    "\n",
    "У тебя же реальные запасы вообще не участвуют в расчётах. Приведи, пожалуйста, в соответствие с ТЗ расчёт прибыли."
   ]
  },
  {
   "cell_type": "markdown",
   "metadata": {},
   "source": [
    "<div class=\"alert alert-info\"  style=\"border-radius: 15px; box-shadow: 4px 4px 4px; border: 1px solid \">\n",
    "    \n",
    "<font size=\"5\"><b>Комментарий студента: </b></font>\n",
    "\n",
    "\n",
    "Вот текст ТЗ.. Не вижу там таких строк(\n",
    "\n",
    "4. Напишите функцию для расчёта прибыли по выбранным скважинам и предсказаниям модели:\n",
    " 1. Выберите скважины с максимальными значениями предсказаний. \n",
    " 2. Просуммируйте целевое значение объёма сырья, соответствующее этим предсказаниям.\n",
    " 3. Рассчитайте прибыль для полученного объёма сырья.\n",
    "5. Посчитайте риски и прибыль для каждого региона:\n",
    " 1. Примените технику Bootstrap с 1000 выборок, чтобы найти распределение прибыли.\n",
    " 2. Найдите среднюю прибыль, 95%-й доверительный интервал и риск убытков. Убыток — это отрицательная прибыль.\n",
    " 3. Напишите выводы: предложите регион для разработки скважин и обоснуйте выбор.\n",
    "\n",
    "\n",
    "Я исправил код и сумму посчитал по реальным запасам. В остальном не очень понимаю, что нужно исправить. Напиши пожалуйста или укажи на ТЗ. Если есть другое ТЗ - напиши его пожалуйста"
   ]
  },
  {
   "cell_type": "markdown",
   "metadata": {},
   "source": [
    "<div class=\"alert alert-danger\">\n",
    "<font size=\"4\"><b>❌ Комментарий ревьюера V2</b></font>\n",
    "    <br /> \n",
    "    <font size=\"3\", color = \"black\">\n",
    "<br />\n",
    "\n",
    "> Просуммируйте целевое значение объёма сырья, соответствующее этим предсказаниям.\n",
    "\n",
    "Ну так а что такое по твоему `целевое значение объёма сырья`? Это и есть истинные запасы. То, что я написал тебе - это то же самое, что ты скопировал из ТЗ, только описанное короче.\n",
    "\n",
    "Давай для лучшего понимания представим ситуацию: к тебе подходит представитель заказчика, спрашивает \"какие 200 скважин ваша модель рекомендует для разработки?\", ты прогнал данные через модель, сказал: \"вот по этим 200 скважинам модель прогнозирует прибыль 1.5 миллиарда\". Они ушли добывать, спустя месяц пишут: \"мы разработали эти 200 скважин, прибыль оказалась ниже вашего прогноза, 1.2 миллиарда, но всё равно огромное спасибо, без вас мы бы были в убытках\".\n",
    "\n",
    "Вот именно это имитирует расчёт прибыли в проекте: модель выбирает топ-200 скважин по предсказаниям, но прибыль мы считаем не по ним, а **по тому, что на самом деле оказалось в этих скважинах**. У тебя же `целевое значение объёма сырья` не участвует сейчас в расчёте вообще. Модель предсказала, что в скважине куча нефти, а в ней оказалось 2 капли? Пофиг, считаем, что модель не ошиблась, и у нас куча денег )\n",
    "\n",
    "Вообще это в целом надо принять как факт: в расчёте любой метрики, будь то метрика из машинного обучения или финансовая от заказчика, участвуют как предсказание, так и верные ответы. Ты никаких выводов не можешь делать только по предсказаниям, потому что модель - не идеальна, она иногда ошибается.\n",
    "\n",
    "Надеюсь, удалось подробнее мысль развернуть.\n",
    "\n",
    "Ну и собственно тк целевое значение у тебя в расчёте не участвует, то и картина у тебя получилась красивой: прибыль везде и всегда. Реальность чуть более сурова."
   ]
  },
  {
   "cell_type": "markdown",
   "metadata": {},
   "source": [
    "Выберем скважины с максимальными значениями предсказаний. "
   ]
  },
  {
   "cell_type": "code",
   "execution_count": 137,
   "metadata": {},
   "outputs": [],
   "source": [
    "geo_0_top = geo_0_test.sort_values(by='y_pred', ascending=False)[:200]"
   ]
  },
  {
   "cell_type": "code",
   "execution_count": 138,
   "metadata": {},
   "outputs": [],
   "source": [
    "geo_1_top = geo_1_test.sort_values(by='y_pred', ascending=False)[:200]"
   ]
  },
  {
   "cell_type": "code",
   "execution_count": 139,
   "metadata": {},
   "outputs": [],
   "source": [
    "geo_2_top = geo_2_test.sort_values(by='y_pred', ascending=False)[:200]"
   ]
  },
  {
   "cell_type": "markdown",
   "metadata": {},
   "source": [
    "Просуммируем целевое значение объёма сырья, соответствующее этим предсказаниям."
   ]
  },
  {
   "cell_type": "code",
   "execution_count": 140,
   "metadata": {},
   "outputs": [],
   "source": [
    "# Old Cell\n",
    "# geo_0_top_sum = round(geo_0_top['y_pred'].sum(), 2)\n",
    "\n",
    "# geo_1_top_sum = round(geo_1_top['y_pred'].sum(), 2)\n",
    "\n",
    "# geo_2_top_sum = round(geo_2_top['y_pred'].sum(), 2)"
   ]
  },
  {
   "cell_type": "code",
   "execution_count": 141,
   "metadata": {},
   "outputs": [],
   "source": [
    "geo_0_top_sum = round(geo_0_top['product'].sum(), 2)\n",
    "\n",
    "geo_1_top_sum = round(geo_1_top['product'].sum(), 2)\n",
    "\n",
    "geo_2_top_sum = round(geo_2_top['product'].sum(), 2)"
   ]
  },
  {
   "cell_type": "markdown",
   "metadata": {},
   "source": [
    "Рассчитаем прибыль для полученного объёма сырья."
   ]
  },
  {
   "cell_type": "code",
   "execution_count": 142,
   "metadata": {},
   "outputs": [
    {
     "name": "stdout",
     "output_type": "stream",
     "text": [
      "Прибыль для полученного объема сырья в регионе geo_0: 3341582000\n",
      "Прибыль для полученного объема сырья в регионе geo_1: 2415086000\n",
      "Прибыль для полученного объема сырья в регионе geo_2: 2598573500\n"
     ]
    }
   ],
   "source": [
    "geo_0_profit = profit_calculation(geo_0_top_sum, COST, BUDGET)\n",
    "print(f'Прибыль для полученного объема сырья в регионе geo_0: {geo_0_profit}')\n",
    "\n",
    "geo_1_profit = profit_calculation(geo_1_top_sum, COST, BUDGET)\n",
    "print(f'Прибыль для полученного объема сырья в регионе geo_1: {geo_1_profit}')\n",
    "\n",
    "geo_2_profit = profit_calculation(geo_2_top_sum, COST, BUDGET)\n",
    "print(f'Прибыль для полученного объема сырья в регионе geo_2: {geo_2_profit}')"
   ]
  },
  {
   "cell_type": "markdown",
   "metadata": {},
   "source": [
    "Выбрав 200 лучших скважин в каждом регионе мы рассчитали прибыль от них и она оказалась более 10 млрд рублей. Большей по прибыли оказался регион `geo_0`"
   ]
  },
  {
   "cell_type": "markdown",
   "metadata": {},
   "source": [
    "## Расчет рисков и прибыли для каждого региона:"
   ]
  },
  {
   "cell_type": "markdown",
   "metadata": {},
   "source": [
    "<div class=\"alert alert-info\"  style=\"border-radius: 15px; box-shadow: 4px 4px 4px; border: 1px solid \">\n",
    "    \n",
    "<font size=\"5\"><b>Комментарий студента: </b></font>\n",
    "\n",
    "\n",
    "Привет. С бутстрепом не очень уверен. Сделал распределение, в нем нашел среднее. Распределение с учетом риска 2.5%. Правильно ли? Есть сомнение. Жду комментариев, которые помогут довести это дело до конца. Спасибо заранее)\n",
    "\n",
    "Вывод напишу конечно, но позже, как разберусь с бутстрепом."
   ]
  },
  {
   "cell_type": "markdown",
   "metadata": {},
   "source": [
    "С помощью бутстрепа мы нашли распределение прибыли."
   ]
  },
  {
   "cell_type": "code",
   "execution_count": 143,
   "metadata": {},
   "outputs": [
    {
     "name": "stdout",
     "output_type": "stream",
     "text": [
      "Максимальные потери которые могут быть получены с 200 точек выбранных из 500: -115_709_290.07 рублей\n",
      "\n",
      "Максимальная средняя прибыль которая может быть получена с 200 точек выбранных из 500 с учетом рисков: 893_637_731.32 рублей\n",
      "Средняя прибыль которая может быть получена с 200 точек выбранных из 500 с учетом рисков: 388_964_220.62 рублей\n",
      "    \n",
      "Риск убытков в этом регионе 5.8999999999999995% - это больше 2.5%. Этот регион нам не подходит!\n"
     ]
    }
   ],
   "source": [
    "# geo_0_top_500 = geo_0_test.sort_values(by='y_pred', ascending=False)[:500]\n",
    "\n",
    "values = []\n",
    "\n",
    "for i in range(1000):\n",
    "    # subsample = geo_0_top_500['y_pred'].sample(200, replace=True, random_state=state)\n",
    "\n",
    "    subsample = geo_0_test.sample(500, replace=True, random_state=state)\n",
    "    subsample = subsample.sort_values(by='y_pred', ascending=False)[:200]['product']\n",
    "    \n",
    "    values.append(profit_calculation(subsample.sum(), COST, BUDGET))\n",
    "\n",
    "values = pd.Series(values) \n",
    "    \n",
    "# lower = values.quantile(0.0125) \n",
    "# upper = values.quantile(0.9875)\n",
    "lower = values.quantile(0.025) \n",
    "upper = values.quantile(0.975)\n",
    "mean = (lower + upper) / 2\n",
    "# geo_0_risk = BUDGET - lower\n",
    "\n",
    "if lower > 0:\n",
    "    print(f'Минимальная средняя прибыль которая может быть получена с 200 точек выбранных из 500: {round(lower, 2):_} рублей')\n",
    "else:\n",
    "    print(f'Максимальные потери которые могут быть получены с 200 точек выбранных из 500: {round(lower, 2):_} рублей')\n",
    "\n",
    "print(\n",
    "    f'''\n",
    "Максимальная средняя прибыль которая может быть получена с 200 точек выбранных из 500 с учетом рисков: {round(upper, 2):_} рублей\n",
    "Средняя прибыль которая может быть получена с 200 точек выбранных из 500 с учетом рисков: {round(mean, 2):_} рублей\n",
    "    '''\n",
    ")\n",
    "\n",
    "risk_values = []\n",
    "\n",
    "for i in values:\n",
    "    if i < 0:\n",
    "        risk_values.append(i)\n",
    "\n",
    "if LOSSES_RISK >= len(risk_values)/1000:\n",
    "    print(f'Риск убытков в этом регионе {len(risk_values)/1000*100}% - это меньше 2.5%. Этот регион нам подходит!')\n",
    "else:\n",
    "    print(f'Риск убытков в этом регионе {len(risk_values)/1000*100}% - это больше 2.5%. Этот регион нам не подходит!')"
   ]
  },
  {
   "cell_type": "markdown",
   "metadata": {},
   "source": [
    "<div class=\"alert alert-danger\">\n",
    "<font size=\"4\"><b>❌ Комментарий ревьюера V2</b></font>\n",
    "    <br /> \n",
    "    <font size=\"3\", color = \"black\">\n",
    "<br /> \n",
    "Опять же, посмотри ТЗ внимательнее. Оно явно описывает, что мы сначала генерируем сэмпл размером 500, а из этих 500 отбираем 200 лучших по предсказанию модели скважин. Ты же сделал с точностью да наоборот: сначала отбор 500 лучших по запасам, а потом из них сэмпл размером 200.\n",
    "\n",
    "Также ТЗ просит явно оценивать риск убытков в регионе, чего я у тебя сейчас не вижу."
   ]
  },
  {
   "cell_type": "code",
   "execution_count": 144,
   "metadata": {},
   "outputs": [
    {
     "data": {
      "text/plain": [
       "0.9750000000000001"
      ]
     },
     "execution_count": 144,
     "metadata": {},
     "output_type": "execute_result"
    }
   ],
   "source": [
    "# КОД РЕВЬЮЕРА\n",
    "0.9875 - 0.0125"
   ]
  },
  {
   "cell_type": "markdown",
   "metadata": {},
   "source": [
    "<div class=\"alert alert-danger\">\n",
    "<font size=\"4\"><b>❌ Комментарий ревьюера V2</b></font>\n",
    "    <br /> \n",
    "    <font size=\"3\", color = \"black\">\n",
    "<br /> \n",
    "Я точно помню, что писал этот комментарий уже после того, как комментарии не сохранились, возможно опять какой-то баг подпортил жизнь, но я всегда готов повториться: ты вычислил интервал 97.5%, а ТЗ просит интервал 95%"
   ]
  },
  {
   "cell_type": "markdown",
   "metadata": {},
   "source": [
    "<div class=\"alert alert-info\"  style=\"border-radius: 15px; box-shadow: 4px 4px 4px; border: 1px solid \">\n",
    "    \n",
    "<font size=\"5\"><b>Комментарий студента: </b></font>\n",
    "\n",
    "\n",
    "Сделал сэмпл из 500 и по ним отбор 200 лучших, потом взял истинные значения этих 200 и по ним вычислил доверительный интервал и среднее этого доверительного интервала. \n",
    "\n",
    "В формуле же у меня уже был рассчет с учетом рисков? или это не правильно? \n",
    "\n",
    "В формуле я взял сумму объема сырья, умножил на стоимость и вычел из этого риск 2.5%"
   ]
  },
  {
   "cell_type": "code",
   "execution_count": 145,
   "metadata": {},
   "outputs": [
    {
     "name": "stdout",
     "output_type": "stream",
     "text": [
      "Минимальная средняя прибыль которая может быть получена с 200 точек выбранных из 500: 52_309_409.5 рублей\n",
      "\n",
      "Максимальная средняя прибыль которая может быть получена с 200 точек выбранных из 500 с учетом рисков: 830_146_312.92 рублей\n",
      "Средняя прибыль которая может быть получена с 200 точек выбранных из 500 с учетом рисков: 441_227_861.21 рублей\n",
      "    \n",
      "Риск убытков в этом регионе 0.8999999999999999% - это меньше 2.5%. Этот регион нам подходит!\n"
     ]
    }
   ],
   "source": [
    "# geo_1_top_500 = geo_1_test.sort_values(by='y_pred', ascending=False)[:500]\n",
    "\n",
    "values = []\n",
    "\n",
    "for i in range(1000):\n",
    "    # subsample = geo_1_top_500['y_pred'].sample(200, replace=True, random_state=state)\n",
    "    subsample = geo_1_test.sample(500, replace=True, random_state=state)\n",
    "    subsample = subsample.sort_values(by='y_pred', ascending=False)[:200]['product']\n",
    "    \n",
    "    values.append(profit_calculation(subsample.sum(), COST, BUDGET))\n",
    "\n",
    "values = pd.Series(values) \n",
    "    \n",
    "# lower = values.quantile(0.0125) \n",
    "# upper = values.quantile(0.9875)\n",
    "lower = values.quantile(0.025) \n",
    "upper = values.quantile(0.975)\n",
    "mean = (lower + upper) / 2\n",
    "# geo_1_risk = BUDGET - lower\n",
    "\n",
    "if lower > 0:\n",
    "    print(f'Минимальная средняя прибыль которая может быть получена с 200 точек выбранных из 500: {round(lower, 2):_} рублей')\n",
    "else:\n",
    "    print(f'Максимальные потери которые могут быть получены с 200 точек выбранных из 500: {round(lower, 2):_} рублей')\n",
    "\n",
    "print(\n",
    "    f'''\n",
    "Максимальная средняя прибыль которая может быть получена с 200 точек выбранных из 500 с учетом рисков: {round(upper, 2):_} рублей\n",
    "Средняя прибыль которая может быть получена с 200 точек выбранных из 500 с учетом рисков: {round(mean, 2):_} рублей\n",
    "    '''\n",
    ")\n",
    "\n",
    "risk_values = []\n",
    "\n",
    "for i in values:\n",
    "    if i < 0:\n",
    "        risk_values.append(i)\n",
    "\n",
    "if LOSSES_RISK >= len(risk_values)/1000:\n",
    "    print(f'Риск убытков в этом регионе {len(risk_values)/1000*100}% - это меньше 2.5%. Этот регион нам подходит!')\n",
    "else:\n",
    "    print(f'Риск убытков в этом регионе {len(risk_values)/1000*100}% - это больше 2.5%. Этот регион нам не подходит!')"
   ]
  },
  {
   "cell_type": "code",
   "execution_count": 146,
   "metadata": {},
   "outputs": [
    {
     "name": "stdout",
     "output_type": "stream",
     "text": [
      "Максимальные потери которые могут быть получены с 200 точек выбранных из 500: -127_779_434.68 рублей\n",
      "\n",
      "Максимальная средняя прибыль которая может быть получена с 200 точек выбранных из 500 с учетом рисков: 907_923_483.67 рублей\n",
      "Средняя прибыль которая может быть получена с 200 точек выбранных из 500 с учетом рисков: 390_072_024.5 рублей\n",
      "    \n",
      "Риск убытков в этом регионе 7.5% - это больше 2.5%. Этот регион нам не подходит!\n"
     ]
    }
   ],
   "source": [
    "# geo_2_top_500 = geo_2_test.sort_values(by='y_pred', ascending=False)[:500]\n",
    "\n",
    "values = []\n",
    "\n",
    "for i in range(1000):\n",
    "    # subsample = geo_2_top_500['y_pred'].sample(200, replace=True, random_state=state)\n",
    "    subsample = geo_2_test.sample(500, replace=True, random_state=state)\n",
    "    subsample = subsample.sort_values(by='y_pred', ascending=False)[:200]['product']\n",
    "    \n",
    "    values.append(profit_calculation(subsample.sum(), COST, BUDGET))\n",
    "\n",
    "values = pd.Series(values) \n",
    "    \n",
    "# lower = values.quantile(0.0125) \n",
    "# upper = values.quantile(0.9875)\n",
    "lower = values.quantile(0.025) \n",
    "upper = values.quantile(0.975)\n",
    "mean = (lower + upper) / 2\n",
    "# geo_2_risk = BUDGET - lower\n",
    "\n",
    "if lower > 0:\n",
    "    print(f'Минимальная средняя прибыль которая может быть получена с 200 точек выбранных из 500: {round(lower, 2):_} рублей')\n",
    "else:\n",
    "    print(f'Максимальные потери которые могут быть получены с 200 точек выбранных из 500: {round(lower, 2):_} рублей')\n",
    "\n",
    "print(\n",
    "    f'''\n",
    "Максимальная средняя прибыль которая может быть получена с 200 точек выбранных из 500 с учетом рисков: {round(upper, 2):_} рублей\n",
    "Средняя прибыль которая может быть получена с 200 точек выбранных из 500 с учетом рисков: {round(mean, 2):_} рублей\n",
    "    '''\n",
    ")\n",
    "\n",
    "risk_values = []\n",
    "\n",
    "for i in values:\n",
    "    if i < 0:\n",
    "        risk_values.append(i)\n",
    "\n",
    "if LOSSES_RISK >= len(risk_values)/1000:\n",
    "    print(f'Риск убытков в этом регионе {len(risk_values)/1000*100}% - это меньше 2.5%. Этот регион нам подходит!')\n",
    "else:\n",
    "    print(f'Риск убытков в этом регионе {len(risk_values)/1000*100}% - это больше 2.5%. Этот регион нам не подходит!')"
   ]
  },
  {
   "cell_type": "code",
   "execution_count": 147,
   "metadata": {},
   "outputs": [],
   "source": [
    "# print(f'''\n",
    "#     Максимальные возможные риски потерь в регионе geo_0: {round(geo_0_risk, 2)} рублей\n",
    "#     Максимальные возможные риски потерь в регионе geo_1: {round(geo_1_risk, 2)} рублей\n",
    "#     Максимальные возможные риски потерь в регионе geo_2: {round(geo_2_risk, 2)} рублей\n",
    "#     Минимальные максимальные риски: {round(np.array([geo_0_risk, geo_1_risk, geo_2_risk]).min())}\n",
    "# ''')"
   ]
  },
  {
   "cell_type": "markdown",
   "metadata": {},
   "source": [
    "~~Вычислив максимальные возможные риски в трех регионах, с минимальным показателем оказался регион `geo_1` В нем максимальные риски равны почти 202 млн. рублей~~"
   ]
  },
  {
   "cell_type": "markdown",
   "metadata": {},
   "source": [
    "### Вывод"
   ]
  },
  {
   "cell_type": "markdown",
   "metadata": {},
   "source": [
    "- Результаты показали, что регион `geo_1` подходит нам по уровню риска;\n",
    "- Модель показывает прибыль от ~20 до ~800 млн. рублей;\n",
    "- Риски до 2.5%;\n",
    "- Так же плюсом этого региона является хорошо обученная модель, которая в 99% случаев на валидационной выборке дала правильные предсказания;\n",
    "- Не смтря на то что средний запас сырья в этом регионе был самый низкий и ниже рассчитанного минимума, у компании получится окупить разработку и заработать."
   ]
  },
  {
   "cell_type": "markdown",
   "metadata": {},
   "source": [
    "<div class=\"alert alert-info\"  style=\"border-radius: 15px; box-shadow: 4px 4px 4px; border: 1px solid \">\n",
    "    \n",
    "<font size=\"5\"><b>Комментарий студента: </b></font>\n",
    "\n",
    "\n",
    "Вроде все получилось и надеюсь похоже на правду. Если все так, то хочу сказать спасибо, потому что потом не получится! Спасибо за помощь!"
   ]
  },
  {
   "cell_type": "markdown",
   "metadata": {},
   "source": [
    "<div class=\"alert alert-info\"  style=\"border-radius: 15px; box-shadow: 4px 4px 4px; border: 1px solid \">\n",
    "    \n",
    "<font size=\"5\"><b>Комментарий студента: </b></font>\n",
    "\n",
    "\n",
    "Отправлял эту версию! Правда. Отправляю сразу ее, а ту которую, ты мне прислал."
   ]
  },
  {
   "cell_type": "markdown",
   "metadata": {},
   "source": [
    "## Чек-лист готовности проекта"
   ]
  },
  {
   "cell_type": "markdown",
   "metadata": {},
   "source": [
    "Поставьте 'x' в выполненных пунктах. Далее нажмите Shift+Enter."
   ]
  },
  {
   "cell_type": "markdown",
   "metadata": {},
   "source": [
    "- [x]  Jupyter Notebook открыт\n",
    "- [x]  Весь код выполняется без ошибок\n",
    "- [x]  Ячейки с кодом расположены в порядке исполнения\n",
    "- [x]  Выполнен шаг 1: данные подготовлены\n",
    "- [x]  Выполнен шаг 2: модели обучены и проверены\n",
    "    - [x]  Данные корректно разбиты на обучающую и валидационную выборки\n",
    "    - [x]  Модели обучены, предсказания сделаны\n",
    "    - [x]  Предсказания и правильные ответы на валидационной выборке сохранены\n",
    "    - [x]  На экране напечатаны результаты\n",
    "    - [x]  Сделаны выводы\n",
    "- [x]  Выполнен шаг 3: проведена подготовка к расчёту прибыли\n",
    "    - [x]  Для всех ключевых значений созданы константы Python\n",
    "    - [x]  Посчитано минимальное среднее количество продукта в месторождениях региона, достаточное для разработки\n",
    "    - [x]  По предыдущему пункту сделаны выводы\n",
    "    - [x]  Написана функция расчёта прибыли\n",
    "- [x]  Выполнен шаг 4: посчитаны риски и прибыль\n",
    "    - [x]  Проведена процедура *Bootstrap*\n",
    "    - [x]  Все параметры бутстрепа соответствуют условию\n",
    "    - [x]  Найдены все нужные величины\n",
    "    - [x]  Предложен регион для разработки месторождения\n",
    "    - [x]  Выбор региона обоснован"
   ]
  },
  {
   "cell_type": "markdown",
   "metadata": {},
   "source": [
    "<div class=\"alert alert-info\">\n",
    "<font size=\"4\">🍕<b> Комментарий ревьюера V4</b></font>\n",
    "    <br /> \n",
    "    <font size=\"3\", color = \"black\">\n",
    "<br />\n",
    "Обещанный рассказ про недопущенный баг.\n",
    "\n",
    "У многих студентов в функции прибыли есть один ну очень неочевидный баг. Настолько неочевидный, что без бутстрапа функция бы была абсолютно корректной, а вот с ним есть нюансы. Они хранят предсказания и таргеты в виде `pandas.Series` и сэмплируют предсказания, но, в отличие от тебя, в функцию расчёта прибыли передают не все таргеты, а берут по индексам часть таргетов, которая соответствует сэмплу предсказаний. И в этом их фатальная ошибка. Сейчас покажу что у них получается на небольшом синтетическом примере:"
   ]
  },
  {
   "cell_type": "code",
   "execution_count": 148,
   "metadata": {},
   "outputs": [
    {
     "data": {
      "text/plain": [
       "3    3\n",
       "3    3\n",
       "3    3\n",
       "3    3\n",
       "3    3\n",
       "3    3\n",
       "3    3\n",
       "3    3\n",
       "3    3\n",
       "2    2\n",
       "2    2\n",
       "2    2\n",
       "2    2\n",
       "dtype: int64"
      ]
     },
     "metadata": {},
     "output_type": "display_data"
    }
   ],
   "source": [
    "# КОД РЕВЬЮЕРА\n",
    "# предположим, у нас есть небольшой сэмпл из 5 предсказаний и 5 соответствующих таргетов\n",
    "_target = pd.Series([2, 2, 3, 3, 3], index=[2, 2, 3, 3, 3])\n",
    "_preds = pd.Series([2, 2, 3, 3, 3], index=[2, 2, 3, 3, 3]).sort_values(ascending=False)\n",
    "\n",
    "\n",
    "# берём таргеты по индексам предсказаний:\n",
    "\n",
    "display(_target.loc[_preds.index])"
   ]
  },
  {
   "cell_type": "markdown",
   "metadata": {},
   "source": [
    "<div class=\"alert alert-info\">\n",
    "<font size=\"4\"></font>\n",
    "    <font size=\"3\", color = \"black\">\n",
    "Как так? Почему предсказаний 5, а таргетов аж 13? На самом деле, всё очень просто. На примере элементов с индексом и значением 2. Когда мы попросили у пандаса взять таргеты по индексам предсказаний, и у нас и там и там 2 одинаковых элемента, он отнюдь должен вернуть не 2. Он для каждого запрошенного индекса предсказаний выдаёт все таргеты с таким индексом. Таким образом, мы запросили 2 раза элемента с индексом 2 - оба раза пандас отдал нам 2 таких элемента из таргетов - всего 4 элемента. А если бы у нас было и там, и там по 3 одинаковых элемента, то в итоге было бы 9. Логика, надеюсь, ясна. И вот поэтому почти всегда у студентов получается, что когда берут таргеты по индексам 500 предсказаний, получают в итоге более чем 500 таргетов. Благодаря бутстрапу в выборках есть идентичные элементы, с одинаковыми индексами, и они каждый раз вот таким образом \"множатся\" при вычислении прибыли.\n",
    "\n",
    "Если же хранить предсказания и таргеты хранить в едином датафрейме, то и не надо ничего брать по индексам, и ошибки нет."
   ]
  },
  {
   "cell_type": "code",
   "execution_count": null,
   "metadata": {},
   "outputs": [],
   "source": []
  }
 ],
 "metadata": {
  "ExecuteTimeLog": [
   {
    "duration": 1172,
    "start_time": "2024-04-21T21:48:22.188Z"
   },
   {
    "duration": 0,
    "start_time": "2024-04-21T21:48:23.364Z"
   },
   {
    "duration": 0,
    "start_time": "2024-04-21T21:48:23.365Z"
   },
   {
    "duration": 0,
    "start_time": "2024-04-21T21:48:23.366Z"
   },
   {
    "duration": 0,
    "start_time": "2024-04-21T21:48:23.368Z"
   },
   {
    "duration": 0,
    "start_time": "2024-04-21T21:48:23.369Z"
   },
   {
    "duration": 0,
    "start_time": "2024-04-21T21:48:23.370Z"
   },
   {
    "duration": 0,
    "start_time": "2024-04-21T21:48:23.371Z"
   },
   {
    "duration": 0,
    "start_time": "2024-04-21T21:48:23.372Z"
   },
   {
    "duration": 0,
    "start_time": "2024-04-21T21:48:23.374Z"
   },
   {
    "duration": 0,
    "start_time": "2024-04-21T21:48:23.393Z"
   },
   {
    "duration": 0,
    "start_time": "2024-04-21T21:48:23.394Z"
   },
   {
    "duration": 0,
    "start_time": "2024-04-21T21:48:23.395Z"
   },
   {
    "duration": 0,
    "start_time": "2024-04-21T21:48:23.396Z"
   },
   {
    "duration": 0,
    "start_time": "2024-04-21T21:48:23.397Z"
   },
   {
    "duration": 0,
    "start_time": "2024-04-21T21:48:23.398Z"
   },
   {
    "duration": 0,
    "start_time": "2024-04-21T21:48:23.399Z"
   },
   {
    "duration": 0,
    "start_time": "2024-04-21T21:48:23.400Z"
   },
   {
    "duration": 0,
    "start_time": "2024-04-21T21:48:23.401Z"
   },
   {
    "duration": 0,
    "start_time": "2024-04-21T21:48:23.402Z"
   },
   {
    "duration": 0,
    "start_time": "2024-04-21T21:48:23.403Z"
   },
   {
    "duration": 0,
    "start_time": "2024-04-21T21:48:23.405Z"
   },
   {
    "duration": 0,
    "start_time": "2024-04-21T21:48:23.406Z"
   },
   {
    "duration": 0,
    "start_time": "2024-04-21T21:48:23.407Z"
   },
   {
    "duration": 0,
    "start_time": "2024-04-21T21:48:23.409Z"
   },
   {
    "duration": 0,
    "start_time": "2024-04-21T21:48:23.410Z"
   },
   {
    "duration": 0,
    "start_time": "2024-04-21T21:48:23.411Z"
   },
   {
    "duration": 0,
    "start_time": "2024-04-21T21:48:23.412Z"
   },
   {
    "duration": 0,
    "start_time": "2024-04-21T21:48:23.414Z"
   },
   {
    "duration": 0,
    "start_time": "2024-04-21T21:48:23.415Z"
   },
   {
    "duration": 0,
    "start_time": "2024-04-21T21:48:23.417Z"
   },
   {
    "duration": 0,
    "start_time": "2024-04-21T21:48:23.418Z"
   },
   {
    "duration": 0,
    "start_time": "2024-04-21T21:48:23.420Z"
   },
   {
    "duration": 0,
    "start_time": "2024-04-21T21:48:23.421Z"
   },
   {
    "duration": 0,
    "start_time": "2024-04-21T21:48:23.422Z"
   },
   {
    "duration": 0,
    "start_time": "2024-04-21T21:48:23.424Z"
   },
   {
    "duration": 1,
    "start_time": "2024-04-21T21:48:23.425Z"
   },
   {
    "duration": 0,
    "start_time": "2024-04-21T21:48:23.427Z"
   },
   {
    "duration": 0,
    "start_time": "2024-04-21T21:48:23.429Z"
   },
   {
    "duration": 0,
    "start_time": "2024-04-21T21:48:23.494Z"
   },
   {
    "duration": 0,
    "start_time": "2024-04-21T21:48:23.495Z"
   },
   {
    "duration": 0,
    "start_time": "2024-04-21T21:48:23.496Z"
   },
   {
    "duration": 0,
    "start_time": "2024-04-21T21:48:23.497Z"
   },
   {
    "duration": 0,
    "start_time": "2024-04-21T21:48:23.498Z"
   },
   {
    "duration": 0,
    "start_time": "2024-04-21T21:48:23.499Z"
   },
   {
    "duration": 0,
    "start_time": "2024-04-21T21:48:23.500Z"
   },
   {
    "duration": 0,
    "start_time": "2024-04-21T21:48:23.501Z"
   },
   {
    "duration": 0,
    "start_time": "2024-04-21T21:48:23.502Z"
   },
   {
    "duration": 0,
    "start_time": "2024-04-21T21:48:23.503Z"
   },
   {
    "duration": 0,
    "start_time": "2024-04-21T21:48:23.505Z"
   },
   {
    "duration": 0,
    "start_time": "2024-04-21T21:48:23.506Z"
   },
   {
    "duration": 0,
    "start_time": "2024-04-21T21:48:23.507Z"
   },
   {
    "duration": 9218,
    "start_time": "2024-04-21T21:49:58.747Z"
   },
   {
    "duration": 10226,
    "start_time": "2024-04-22T21:24:49.818Z"
   },
   {
    "duration": 1916,
    "start_time": "2024-04-22T21:25:00.046Z"
   },
   {
    "duration": 0,
    "start_time": "2024-04-22T21:25:01.965Z"
   },
   {
    "duration": 0,
    "start_time": "2024-04-22T21:25:01.966Z"
   },
   {
    "duration": 0,
    "start_time": "2024-04-22T21:25:01.967Z"
   },
   {
    "duration": 0,
    "start_time": "2024-04-22T21:25:01.968Z"
   },
   {
    "duration": 0,
    "start_time": "2024-04-22T21:25:01.969Z"
   },
   {
    "duration": 0,
    "start_time": "2024-04-22T21:25:01.970Z"
   },
   {
    "duration": 0,
    "start_time": "2024-04-22T21:25:01.971Z"
   },
   {
    "duration": 0,
    "start_time": "2024-04-22T21:25:01.972Z"
   },
   {
    "duration": 0,
    "start_time": "2024-04-22T21:25:01.973Z"
   },
   {
    "duration": 0,
    "start_time": "2024-04-22T21:25:01.974Z"
   },
   {
    "duration": 0,
    "start_time": "2024-04-22T21:25:01.975Z"
   },
   {
    "duration": 0,
    "start_time": "2024-04-22T21:25:01.976Z"
   },
   {
    "duration": 0,
    "start_time": "2024-04-22T21:25:01.977Z"
   },
   {
    "duration": 0,
    "start_time": "2024-04-22T21:25:01.977Z"
   },
   {
    "duration": 0,
    "start_time": "2024-04-22T21:25:01.978Z"
   },
   {
    "duration": 0,
    "start_time": "2024-04-22T21:25:01.979Z"
   },
   {
    "duration": 0,
    "start_time": "2024-04-22T21:25:01.980Z"
   },
   {
    "duration": 0,
    "start_time": "2024-04-22T21:25:01.981Z"
   },
   {
    "duration": 0,
    "start_time": "2024-04-22T21:25:01.982Z"
   },
   {
    "duration": 0,
    "start_time": "2024-04-22T21:25:01.983Z"
   },
   {
    "duration": 0,
    "start_time": "2024-04-22T21:25:01.984Z"
   },
   {
    "duration": 0,
    "start_time": "2024-04-22T21:25:01.985Z"
   },
   {
    "duration": 0,
    "start_time": "2024-04-22T21:25:01.987Z"
   },
   {
    "duration": 0,
    "start_time": "2024-04-22T21:25:01.988Z"
   },
   {
    "duration": 0,
    "start_time": "2024-04-22T21:25:01.989Z"
   },
   {
    "duration": 0,
    "start_time": "2024-04-22T21:25:01.990Z"
   },
   {
    "duration": 0,
    "start_time": "2024-04-22T21:25:01.991Z"
   },
   {
    "duration": 0,
    "start_time": "2024-04-22T21:25:01.992Z"
   },
   {
    "duration": 0,
    "start_time": "2024-04-22T21:25:01.993Z"
   },
   {
    "duration": 0,
    "start_time": "2024-04-22T21:25:01.994Z"
   },
   {
    "duration": 0,
    "start_time": "2024-04-22T21:25:01.994Z"
   },
   {
    "duration": 0,
    "start_time": "2024-04-22T21:25:01.995Z"
   },
   {
    "duration": 0,
    "start_time": "2024-04-22T21:25:01.996Z"
   },
   {
    "duration": 0,
    "start_time": "2024-04-22T21:25:01.997Z"
   },
   {
    "duration": 0,
    "start_time": "2024-04-22T21:25:01.998Z"
   },
   {
    "duration": 0,
    "start_time": "2024-04-22T21:25:01.998Z"
   },
   {
    "duration": 0,
    "start_time": "2024-04-22T21:25:01.999Z"
   },
   {
    "duration": 0,
    "start_time": "2024-04-22T21:25:02.000Z"
   },
   {
    "duration": 0,
    "start_time": "2024-04-22T21:25:02.001Z"
   },
   {
    "duration": 0,
    "start_time": "2024-04-22T21:25:02.002Z"
   },
   {
    "duration": 0,
    "start_time": "2024-04-22T21:25:02.003Z"
   },
   {
    "duration": 0,
    "start_time": "2024-04-22T21:25:02.004Z"
   },
   {
    "duration": 1,
    "start_time": "2024-04-22T21:25:02.060Z"
   },
   {
    "duration": 0,
    "start_time": "2024-04-22T21:25:02.063Z"
   },
   {
    "duration": 0,
    "start_time": "2024-04-22T21:25:02.064Z"
   },
   {
    "duration": 0,
    "start_time": "2024-04-22T21:25:02.066Z"
   },
   {
    "duration": 0,
    "start_time": "2024-04-22T21:25:02.067Z"
   },
   {
    "duration": 0,
    "start_time": "2024-04-22T21:25:02.068Z"
   },
   {
    "duration": 0,
    "start_time": "2024-04-22T21:25:02.069Z"
   },
   {
    "duration": 0,
    "start_time": "2024-04-22T21:25:02.069Z"
   },
   {
    "duration": 0,
    "start_time": "2024-04-22T21:25:02.070Z"
   },
   {
    "duration": 12215,
    "start_time": "2024-04-23T07:45:01.888Z"
   },
   {
    "duration": 1504,
    "start_time": "2024-04-23T07:45:14.107Z"
   },
   {
    "duration": 0,
    "start_time": "2024-04-23T07:45:15.614Z"
   },
   {
    "duration": 0,
    "start_time": "2024-04-23T07:45:15.615Z"
   },
   {
    "duration": 0,
    "start_time": "2024-04-23T07:45:15.617Z"
   },
   {
    "duration": 0,
    "start_time": "2024-04-23T07:45:15.618Z"
   },
   {
    "duration": 0,
    "start_time": "2024-04-23T07:45:15.619Z"
   },
   {
    "duration": 0,
    "start_time": "2024-04-23T07:45:15.620Z"
   },
   {
    "duration": 0,
    "start_time": "2024-04-23T07:45:15.621Z"
   },
   {
    "duration": 0,
    "start_time": "2024-04-23T07:45:15.623Z"
   },
   {
    "duration": 0,
    "start_time": "2024-04-23T07:45:15.624Z"
   },
   {
    "duration": 0,
    "start_time": "2024-04-23T07:45:15.625Z"
   },
   {
    "duration": 0,
    "start_time": "2024-04-23T07:45:15.644Z"
   },
   {
    "duration": 0,
    "start_time": "2024-04-23T07:45:15.646Z"
   },
   {
    "duration": 0,
    "start_time": "2024-04-23T07:45:15.647Z"
   },
   {
    "duration": 1,
    "start_time": "2024-04-23T07:45:15.648Z"
   },
   {
    "duration": 0,
    "start_time": "2024-04-23T07:45:15.650Z"
   },
   {
    "duration": 0,
    "start_time": "2024-04-23T07:45:15.651Z"
   },
   {
    "duration": 0,
    "start_time": "2024-04-23T07:45:15.652Z"
   },
   {
    "duration": 0,
    "start_time": "2024-04-23T07:45:15.653Z"
   },
   {
    "duration": 0,
    "start_time": "2024-04-23T07:45:15.655Z"
   },
   {
    "duration": 0,
    "start_time": "2024-04-23T07:45:15.656Z"
   },
   {
    "duration": 0,
    "start_time": "2024-04-23T07:45:15.657Z"
   },
   {
    "duration": 0,
    "start_time": "2024-04-23T07:45:15.658Z"
   },
   {
    "duration": 0,
    "start_time": "2024-04-23T07:45:15.660Z"
   },
   {
    "duration": 0,
    "start_time": "2024-04-23T07:45:15.662Z"
   },
   {
    "duration": 0,
    "start_time": "2024-04-23T07:45:15.663Z"
   },
   {
    "duration": 0,
    "start_time": "2024-04-23T07:45:15.664Z"
   },
   {
    "duration": 0,
    "start_time": "2024-04-23T07:45:15.665Z"
   },
   {
    "duration": 0,
    "start_time": "2024-04-23T07:45:15.666Z"
   },
   {
    "duration": 0,
    "start_time": "2024-04-23T07:45:15.668Z"
   },
   {
    "duration": 0,
    "start_time": "2024-04-23T07:45:15.669Z"
   },
   {
    "duration": 0,
    "start_time": "2024-04-23T07:45:15.670Z"
   },
   {
    "duration": 0,
    "start_time": "2024-04-23T07:45:15.671Z"
   },
   {
    "duration": 0,
    "start_time": "2024-04-23T07:45:15.672Z"
   },
   {
    "duration": 0,
    "start_time": "2024-04-23T07:45:15.674Z"
   },
   {
    "duration": 0,
    "start_time": "2024-04-23T07:45:15.675Z"
   },
   {
    "duration": 0,
    "start_time": "2024-04-23T07:45:15.676Z"
   },
   {
    "duration": 0,
    "start_time": "2024-04-23T07:45:15.677Z"
   },
   {
    "duration": 0,
    "start_time": "2024-04-23T07:45:15.679Z"
   },
   {
    "duration": 0,
    "start_time": "2024-04-23T07:45:15.680Z"
   },
   {
    "duration": 0,
    "start_time": "2024-04-23T07:45:15.681Z"
   },
   {
    "duration": 0,
    "start_time": "2024-04-23T07:45:15.682Z"
   },
   {
    "duration": 0,
    "start_time": "2024-04-23T07:45:15.683Z"
   },
   {
    "duration": 0,
    "start_time": "2024-04-23T07:45:15.684Z"
   },
   {
    "duration": 0,
    "start_time": "2024-04-23T07:45:15.685Z"
   },
   {
    "duration": 0,
    "start_time": "2024-04-23T07:45:15.686Z"
   },
   {
    "duration": 0,
    "start_time": "2024-04-23T07:45:15.687Z"
   },
   {
    "duration": 0,
    "start_time": "2024-04-23T07:45:15.688Z"
   },
   {
    "duration": 0,
    "start_time": "2024-04-23T07:45:15.750Z"
   },
   {
    "duration": 0,
    "start_time": "2024-04-23T07:45:15.751Z"
   },
   {
    "duration": 0,
    "start_time": "2024-04-23T07:45:15.752Z"
   },
   {
    "duration": 0,
    "start_time": "2024-04-23T07:45:15.753Z"
   },
   {
    "duration": 3196,
    "start_time": "2024-04-23T07:46:21.879Z"
   },
   {
    "duration": 1305,
    "start_time": "2024-04-23T07:46:25.077Z"
   },
   {
    "duration": 0,
    "start_time": "2024-04-23T07:46:26.385Z"
   },
   {
    "duration": 0,
    "start_time": "2024-04-23T07:46:26.386Z"
   },
   {
    "duration": 0,
    "start_time": "2024-04-23T07:46:26.387Z"
   },
   {
    "duration": 0,
    "start_time": "2024-04-23T07:46:26.388Z"
   },
   {
    "duration": 0,
    "start_time": "2024-04-23T07:46:26.389Z"
   },
   {
    "duration": 0,
    "start_time": "2024-04-23T07:46:26.390Z"
   },
   {
    "duration": 0,
    "start_time": "2024-04-23T07:46:26.391Z"
   },
   {
    "duration": 0,
    "start_time": "2024-04-23T07:46:26.392Z"
   },
   {
    "duration": 0,
    "start_time": "2024-04-23T07:46:26.393Z"
   },
   {
    "duration": 0,
    "start_time": "2024-04-23T07:46:26.394Z"
   },
   {
    "duration": 0,
    "start_time": "2024-04-23T07:46:26.396Z"
   },
   {
    "duration": 0,
    "start_time": "2024-04-23T07:46:26.397Z"
   },
   {
    "duration": 0,
    "start_time": "2024-04-23T07:46:26.398Z"
   },
   {
    "duration": 0,
    "start_time": "2024-04-23T07:46:26.399Z"
   },
   {
    "duration": 0,
    "start_time": "2024-04-23T07:46:26.401Z"
   },
   {
    "duration": 0,
    "start_time": "2024-04-23T07:46:26.402Z"
   },
   {
    "duration": 0,
    "start_time": "2024-04-23T07:46:26.404Z"
   },
   {
    "duration": 0,
    "start_time": "2024-04-23T07:46:26.405Z"
   },
   {
    "duration": 0,
    "start_time": "2024-04-23T07:46:26.406Z"
   },
   {
    "duration": 0,
    "start_time": "2024-04-23T07:46:26.407Z"
   },
   {
    "duration": 0,
    "start_time": "2024-04-23T07:46:26.446Z"
   },
   {
    "duration": 0,
    "start_time": "2024-04-23T07:46:26.447Z"
   },
   {
    "duration": 0,
    "start_time": "2024-04-23T07:46:26.449Z"
   },
   {
    "duration": 0,
    "start_time": "2024-04-23T07:46:26.451Z"
   },
   {
    "duration": 0,
    "start_time": "2024-04-23T07:46:26.451Z"
   },
   {
    "duration": 0,
    "start_time": "2024-04-23T07:46:26.452Z"
   },
   {
    "duration": 0,
    "start_time": "2024-04-23T07:46:26.453Z"
   },
   {
    "duration": 0,
    "start_time": "2024-04-23T07:46:26.454Z"
   },
   {
    "duration": 0,
    "start_time": "2024-04-23T07:46:26.454Z"
   },
   {
    "duration": 0,
    "start_time": "2024-04-23T07:46:26.457Z"
   },
   {
    "duration": 0,
    "start_time": "2024-04-23T07:46:26.458Z"
   },
   {
    "duration": 0,
    "start_time": "2024-04-23T07:46:26.459Z"
   },
   {
    "duration": 0,
    "start_time": "2024-04-23T07:46:26.461Z"
   },
   {
    "duration": 0,
    "start_time": "2024-04-23T07:46:26.462Z"
   },
   {
    "duration": 0,
    "start_time": "2024-04-23T07:46:26.464Z"
   },
   {
    "duration": 0,
    "start_time": "2024-04-23T07:46:26.473Z"
   },
   {
    "duration": 0,
    "start_time": "2024-04-23T07:46:26.477Z"
   },
   {
    "duration": 0,
    "start_time": "2024-04-23T07:46:26.478Z"
   },
   {
    "duration": 0,
    "start_time": "2024-04-23T07:46:26.479Z"
   },
   {
    "duration": 0,
    "start_time": "2024-04-23T07:46:26.480Z"
   },
   {
    "duration": 0,
    "start_time": "2024-04-23T07:46:26.481Z"
   },
   {
    "duration": 0,
    "start_time": "2024-04-23T07:46:26.483Z"
   },
   {
    "duration": 0,
    "start_time": "2024-04-23T07:46:26.484Z"
   },
   {
    "duration": 0,
    "start_time": "2024-04-23T07:46:26.484Z"
   },
   {
    "duration": 0,
    "start_time": "2024-04-23T07:46:26.486Z"
   },
   {
    "duration": 0,
    "start_time": "2024-04-23T07:46:26.486Z"
   },
   {
    "duration": 0,
    "start_time": "2024-04-23T07:46:26.487Z"
   },
   {
    "duration": 0,
    "start_time": "2024-04-23T07:46:26.488Z"
   },
   {
    "duration": 0,
    "start_time": "2024-04-23T07:46:26.489Z"
   },
   {
    "duration": 0,
    "start_time": "2024-04-23T07:46:26.554Z"
   },
   {
    "duration": 0,
    "start_time": "2024-04-23T07:46:26.555Z"
   },
   {
    "duration": 3,
    "start_time": "2024-04-23T09:44:43.623Z"
   },
   {
    "duration": 9923,
    "start_time": "2024-04-23T20:31:41.479Z"
   },
   {
    "duration": 6491,
    "start_time": "2024-04-23T20:31:51.405Z"
   },
   {
    "duration": 20433,
    "start_time": "2024-04-23T20:31:57.898Z"
   },
   {
    "duration": 3300,
    "start_time": "2024-04-23T20:32:18.333Z"
   },
   {
    "duration": 1778,
    "start_time": "2024-04-23T20:33:21.107Z"
   },
   {
    "duration": 3,
    "start_time": "2024-04-23T20:33:28.630Z"
   },
   {
    "duration": 9,
    "start_time": "2024-04-23T20:33:57.677Z"
   },
   {
    "duration": 7,
    "start_time": "2024-04-23T20:34:06.937Z"
   },
   {
    "duration": 4,
    "start_time": "2024-04-23T20:34:07.567Z"
   },
   {
    "duration": 4,
    "start_time": "2024-04-23T20:34:08.604Z"
   },
   {
    "duration": 1696,
    "start_time": "2024-04-23T20:34:11.263Z"
   },
   {
    "duration": 1550,
    "start_time": "2024-04-23T20:37:09.842Z"
   },
   {
    "duration": 3,
    "start_time": "2024-04-23T20:37:13.410Z"
   },
   {
    "duration": 8,
    "start_time": "2024-04-23T20:37:15.750Z"
   },
   {
    "duration": 8,
    "start_time": "2024-04-23T20:37:16.147Z"
   },
   {
    "duration": 4,
    "start_time": "2024-04-23T20:37:17.446Z"
   },
   {
    "duration": 6,
    "start_time": "2024-04-23T20:37:18.453Z"
   },
   {
    "duration": 412,
    "start_time": "2024-04-23T20:37:20.467Z"
   },
   {
    "duration": 6,
    "start_time": "2024-04-23T20:37:25.209Z"
   },
   {
    "duration": 3,
    "start_time": "2024-04-23T20:37:32.462Z"
   },
   {
    "duration": 9,
    "start_time": "2024-04-23T20:37:34.445Z"
   },
   {
    "duration": 9,
    "start_time": "2024-04-23T20:37:34.817Z"
   },
   {
    "duration": 9,
    "start_time": "2024-04-23T20:37:35.271Z"
   },
   {
    "duration": 49,
    "start_time": "2024-04-23T20:37:41.399Z"
   },
   {
    "duration": 39,
    "start_time": "2024-04-23T20:37:41.971Z"
   },
   {
    "duration": 49,
    "start_time": "2024-04-23T20:37:42.461Z"
   },
   {
    "duration": 11,
    "start_time": "2024-04-23T20:38:30.633Z"
   },
   {
    "duration": 3,
    "start_time": "2024-04-23T20:38:31.511Z"
   },
   {
    "duration": 1935,
    "start_time": "2024-04-23T20:38:36.189Z"
   },
   {
    "duration": 322,
    "start_time": "2024-04-23T20:38:50.963Z"
   },
   {
    "duration": 95,
    "start_time": "2024-04-23T20:38:54.321Z"
   },
   {
    "duration": 34,
    "start_time": "2024-04-23T20:38:55.636Z"
   },
   {
    "duration": 2095,
    "start_time": "2024-04-23T20:38:57.121Z"
   },
   {
    "duration": 272,
    "start_time": "2024-04-23T20:39:00.521Z"
   },
   {
    "duration": 83,
    "start_time": "2024-04-23T20:39:01.433Z"
   },
   {
    "duration": 30,
    "start_time": "2024-04-23T20:39:02.136Z"
   },
   {
    "duration": 2315,
    "start_time": "2024-04-23T20:39:03.301Z"
   },
   {
    "duration": 334,
    "start_time": "2024-04-23T20:39:06.408Z"
   },
   {
    "duration": 19,
    "start_time": "2024-04-23T20:39:07.796Z"
   },
   {
    "duration": 34,
    "start_time": "2024-04-23T20:39:08.944Z"
   },
   {
    "duration": 2,
    "start_time": "2024-04-23T20:39:10.972Z"
   },
   {
    "duration": 4,
    "start_time": "2024-04-23T20:39:11.769Z"
   },
   {
    "duration": 4,
    "start_time": "2024-04-23T20:39:19.446Z"
   },
   {
    "duration": 3,
    "start_time": "2024-04-23T20:39:26.823Z"
   },
   {
    "duration": 11,
    "start_time": "2024-04-23T20:39:52.113Z"
   },
   {
    "duration": 34,
    "start_time": "2024-04-23T20:39:52.125Z"
   },
   {
    "duration": 21,
    "start_time": "2024-04-23T20:39:52.160Z"
   },
   {
    "duration": 2,
    "start_time": "2024-04-23T20:39:52.401Z"
   },
   {
    "duration": 5,
    "start_time": "2024-04-23T20:39:52.839Z"
   },
   {
    "duration": 4,
    "start_time": "2024-04-23T20:39:53.651Z"
   },
   {
    "duration": 197,
    "start_time": "2024-04-23T20:39:58.487Z"
   },
   {
    "duration": 192,
    "start_time": "2024-04-23T20:40:01.540Z"
   },
   {
    "duration": 186,
    "start_time": "2024-04-23T20:40:02.081Z"
   },
   {
    "duration": 4,
    "start_time": "2024-04-23T20:48:57.466Z"
   },
   {
    "duration": 3615,
    "start_time": "2024-04-25T07:43:25.248Z"
   },
   {
    "duration": 3099,
    "start_time": "2024-04-25T07:43:28.865Z"
   },
   {
    "duration": 2916,
    "start_time": "2024-04-25T07:43:31.965Z"
   },
   {
    "duration": 2799,
    "start_time": "2024-04-25T07:43:34.883Z"
   },
   {
    "duration": 4,
    "start_time": "2024-04-25T07:43:37.684Z"
   },
   {
    "duration": 8,
    "start_time": "2024-04-25T07:43:37.689Z"
   },
   {
    "duration": 20,
    "start_time": "2024-04-25T07:43:37.699Z"
   },
   {
    "duration": 21,
    "start_time": "2024-04-25T07:43:37.720Z"
   },
   {
    "duration": 9,
    "start_time": "2024-04-25T07:43:37.743Z"
   },
   {
    "duration": 6,
    "start_time": "2024-04-25T07:43:37.754Z"
   },
   {
    "duration": 416,
    "start_time": "2024-04-25T07:43:37.762Z"
   },
   {
    "duration": 5,
    "start_time": "2024-04-25T07:43:39.660Z"
   },
   {
    "duration": 4,
    "start_time": "2024-04-25T07:43:44.253Z"
   },
   {
    "duration": 9,
    "start_time": "2024-04-25T07:43:44.652Z"
   },
   {
    "duration": 7,
    "start_time": "2024-04-25T07:43:44.832Z"
   },
   {
    "duration": 8,
    "start_time": "2024-04-25T07:43:45.012Z"
   },
   {
    "duration": 54,
    "start_time": "2024-04-25T07:43:46.563Z"
   },
   {
    "duration": 46,
    "start_time": "2024-04-25T07:43:47.092Z"
   },
   {
    "duration": 52,
    "start_time": "2024-04-25T07:43:47.260Z"
   },
   {
    "duration": 7,
    "start_time": "2024-04-25T07:43:47.621Z"
   },
   {
    "duration": 3,
    "start_time": "2024-04-25T07:43:47.787Z"
   },
   {
    "duration": 2274,
    "start_time": "2024-04-25T07:43:48.140Z"
   },
   {
    "duration": 313,
    "start_time": "2024-04-25T07:43:50.416Z"
   },
   {
    "duration": 87,
    "start_time": "2024-04-25T07:43:50.731Z"
   },
   {
    "duration": 120,
    "start_time": "2024-04-25T07:43:50.821Z"
   },
   {
    "duration": 1981,
    "start_time": "2024-04-25T07:43:50.943Z"
   },
   {
    "duration": 273,
    "start_time": "2024-04-25T07:43:53.015Z"
   },
   {
    "duration": 128,
    "start_time": "2024-04-25T07:43:53.289Z"
   },
   {
    "duration": 112,
    "start_time": "2024-04-25T07:43:53.420Z"
   },
   {
    "duration": 2182,
    "start_time": "2024-04-25T07:43:53.534Z"
   },
   {
    "duration": 317,
    "start_time": "2024-04-25T07:43:55.717Z"
   },
   {
    "duration": 85,
    "start_time": "2024-04-25T07:43:56.035Z"
   },
   {
    "duration": 125,
    "start_time": "2024-04-25T07:43:56.122Z"
   },
   {
    "duration": 3,
    "start_time": "2024-04-25T07:43:56.248Z"
   },
   {
    "duration": 7,
    "start_time": "2024-04-25T07:43:56.253Z"
   },
   {
    "duration": 5,
    "start_time": "2024-04-25T07:43:56.263Z"
   },
   {
    "duration": 5,
    "start_time": "2024-04-25T07:43:56.270Z"
   },
   {
    "duration": 5,
    "start_time": "2024-04-25T07:43:56.277Z"
   },
   {
    "duration": 3,
    "start_time": "2024-04-25T07:43:59.339Z"
   },
   {
    "duration": 11,
    "start_time": "2024-04-25T07:44:00.619Z"
   },
   {
    "duration": 12,
    "start_time": "2024-04-25T07:44:00.813Z"
   },
   {
    "duration": 12,
    "start_time": "2024-04-25T07:44:00.996Z"
   },
   {
    "duration": 2,
    "start_time": "2024-04-25T07:44:01.428Z"
   },
   {
    "duration": 4,
    "start_time": "2024-04-25T07:44:01.629Z"
   },
   {
    "duration": 4,
    "start_time": "2024-04-25T07:44:02.020Z"
   },
   {
    "duration": 7,
    "start_time": "2024-04-25T07:44:06.125Z"
   },
   {
    "duration": 837,
    "start_time": "2024-04-25T07:44:07.374Z"
   },
   {
    "duration": 4,
    "start_time": "2024-04-25T07:44:08.388Z"
   },
   {
    "duration": 800,
    "start_time": "2024-04-25T07:44:09.749Z"
   },
   {
    "duration": 831,
    "start_time": "2024-04-25T07:44:10.551Z"
   },
   {
    "duration": 3,
    "start_time": "2024-04-25T07:44:11.384Z"
   },
   {
    "duration": 5,
    "start_time": "2024-04-25T07:45:12.705Z"
   },
   {
    "duration": 13,
    "start_time": "2024-04-25T07:45:26.788Z"
   },
   {
    "duration": 14,
    "start_time": "2024-04-25T07:45:38.092Z"
   },
   {
    "duration": 3768,
    "start_time": "2024-04-26T19:46:36.724Z"
   },
   {
    "duration": 3204,
    "start_time": "2024-04-26T19:46:40.495Z"
   },
   {
    "duration": 2937,
    "start_time": "2024-04-26T19:46:43.701Z"
   },
   {
    "duration": 3016,
    "start_time": "2024-04-26T19:46:46.640Z"
   },
   {
    "duration": 5,
    "start_time": "2024-04-26T19:46:49.658Z"
   },
   {
    "duration": 38,
    "start_time": "2024-04-26T19:46:49.665Z"
   },
   {
    "duration": 15,
    "start_time": "2024-04-26T19:46:49.705Z"
   },
   {
    "duration": 44,
    "start_time": "2024-04-26T19:46:49.722Z"
   },
   {
    "duration": 19,
    "start_time": "2024-04-26T19:46:49.768Z"
   },
   {
    "duration": 7,
    "start_time": "2024-04-26T19:46:49.789Z"
   },
   {
    "duration": 432,
    "start_time": "2024-04-26T19:46:49.798Z"
   },
   {
    "duration": 4,
    "start_time": "2024-04-26T19:46:50.231Z"
   },
   {
    "duration": 4,
    "start_time": "2024-04-26T19:46:51.993Z"
   },
   {
    "duration": 12,
    "start_time": "2024-04-26T19:46:52.351Z"
   },
   {
    "duration": 10,
    "start_time": "2024-04-26T19:46:52.513Z"
   },
   {
    "duration": 7,
    "start_time": "2024-04-26T19:46:52.681Z"
   },
   {
    "duration": 58,
    "start_time": "2024-04-26T19:46:54.047Z"
   },
   {
    "duration": 49,
    "start_time": "2024-04-26T19:46:54.727Z"
   },
   {
    "duration": 54,
    "start_time": "2024-04-26T19:46:54.896Z"
   },
   {
    "duration": 10,
    "start_time": "2024-04-26T19:46:55.208Z"
   },
   {
    "duration": 4,
    "start_time": "2024-04-26T19:46:55.354Z"
   },
   {
    "duration": 2135,
    "start_time": "2024-04-26T19:46:55.681Z"
   },
   {
    "duration": 506,
    "start_time": "2024-04-26T19:46:57.818Z"
   },
   {
    "duration": 94,
    "start_time": "2024-04-26T19:46:58.326Z"
   },
   {
    "duration": 116,
    "start_time": "2024-04-26T19:46:58.423Z"
   },
   {
    "duration": 2674,
    "start_time": "2024-04-26T19:46:58.541Z"
   },
   {
    "duration": 308,
    "start_time": "2024-04-26T19:47:01.217Z"
   },
   {
    "duration": 16,
    "start_time": "2024-04-26T19:47:01.526Z"
   },
   {
    "duration": 129,
    "start_time": "2024-04-26T19:47:01.616Z"
   },
   {
    "duration": 2377,
    "start_time": "2024-04-26T19:47:01.746Z"
   },
   {
    "duration": 413,
    "start_time": "2024-04-26T19:47:04.127Z"
   },
   {
    "duration": 82,
    "start_time": "2024-04-26T19:47:04.541Z"
   },
   {
    "duration": 115,
    "start_time": "2024-04-26T19:47:04.626Z"
   },
   {
    "duration": 3,
    "start_time": "2024-04-26T19:47:04.743Z"
   },
   {
    "duration": 4,
    "start_time": "2024-04-26T19:47:04.748Z"
   },
   {
    "duration": 6,
    "start_time": "2024-04-26T19:47:04.754Z"
   },
   {
    "duration": 12,
    "start_time": "2024-04-26T19:47:04.762Z"
   },
   {
    "duration": 5,
    "start_time": "2024-04-26T19:47:04.815Z"
   },
   {
    "duration": 5,
    "start_time": "2024-04-26T19:47:04.822Z"
   },
   {
    "duration": 16,
    "start_time": "2024-04-26T19:47:04.829Z"
   },
   {
    "duration": 16,
    "start_time": "2024-04-26T19:47:04.846Z"
   },
   {
    "duration": 53,
    "start_time": "2024-04-26T19:47:04.865Z"
   },
   {
    "duration": 2,
    "start_time": "2024-04-26T19:47:05.198Z"
   },
   {
    "duration": 4,
    "start_time": "2024-04-26T19:47:05.368Z"
   },
   {
    "duration": 4,
    "start_time": "2024-04-26T19:47:05.695Z"
   },
   {
    "duration": 842,
    "start_time": "2024-04-26T19:47:06.510Z"
   },
   {
    "duration": 4,
    "start_time": "2024-04-26T19:47:07.354Z"
   },
   {
    "duration": 855,
    "start_time": "2024-04-26T19:47:07.593Z"
   },
   {
    "duration": 870,
    "start_time": "2024-04-26T19:47:08.450Z"
   },
   {
    "duration": 3,
    "start_time": "2024-04-26T19:47:09.321Z"
   },
   {
    "duration": 8,
    "start_time": "2024-04-26T19:50:11.069Z"
   }
  ],
  "kernelspec": {
   "display_name": "Python 3 (ipykernel)",
   "language": "python",
   "name": "python3"
  },
  "language_info": {
   "codemirror_mode": {
    "name": "ipython",
    "version": 3
   },
   "file_extension": ".py",
   "mimetype": "text/x-python",
   "name": "python",
   "nbconvert_exporter": "python",
   "pygments_lexer": "ipython3",
   "version": "3.9.18"
  },
  "toc": {
   "base_numbering": 1,
   "nav_menu": {},
   "number_sections": true,
   "sideBar": true,
   "skip_h1_title": true,
   "title_cell": "Table of Contents",
   "title_sidebar": "Contents",
   "toc_cell": false,
   "toc_position": {},
   "toc_section_display": true,
   "toc_window_display": false
  }
 },
 "nbformat": 4,
 "nbformat_minor": 4
}
