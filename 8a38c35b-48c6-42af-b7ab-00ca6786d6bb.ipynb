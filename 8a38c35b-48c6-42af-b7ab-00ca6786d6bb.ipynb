{
 "cells": [
  {
   "cell_type": "markdown",
   "metadata": {},
   "source": [
    "<div class=\"alert alert-info\">\n",
    "<font size=\"4\">🍕<b> Комментарий ревьюера V2</b></font>\n",
    "    <br /> \n",
    "    <font size=\"3\", color = \"black\">\n",
    "<br /> \n",
    "Приветствую ещё раз!\n",
    "\n",
    "Как и обещал, восстановил свои не только красные комментарии.\n",
    "\n",
    "Некоторые изменения к лучшему есть, тем не менее, ещё поработать нужно:\n",
    "\n",
    "+ Таки изменить метод расчёта прибыли в регионе\n",
    "+ Скорректировать бутстрапирование (в комментарии описал как)\n",
    "+ Поправить вычисление дов. интервала, добавить вычисление риска убытков\n",
    "\n",
    "На этом пока всё. Жду новую отправку!\n",
    "    </font>\n",
    "\n",
    "</div>"
   ]
  },
  {
   "cell_type": "markdown",
   "metadata": {},
   "source": [
    "<div class=\"alert alert-info\">\n",
    "<font size=\"4\"><b>Комментарий ревьюера</b></font>\n",
    "    <br /> \n",
    "    <font size=\"3\", color = \"black\">\n",
    "<br />\n",
    "    Привет, Андрей! Спасибо, что прислал задание :) <br>Меня зовут Никита Сон и я буду проверять твой проект. Предлагаю обращаться друг к другу на ты, как это принято в Практикуме, если ты не против. Но если хочешь на Вы - не буду возражать 🙂\n",
    "        \n",
    "Поехали 🚀\n",
    "\n",
    "**Важно**:<br>\n",
    "Сразу скажу, что по ходу проверки у меня отвалился сервер Практикума и комментарии не сохранились. Поэтому сейчас, пока не подошёл дедлайн проверки, я оставляю только красные (их всего 3 и твоя задача сейчас - поправить их), остальные напишу на следующей проверке. Не подумай, что у тебя ужасная работа, что только красное, просто случилось техническое недоразумение ((\n",
    "    <br />\n",
    "\n",
    "Мои комментарии обозначены пометкой <b>Комментарий ревьюера</b>. При внесении правок в проект, пожалуйста, не меняй и не удаляй их т.к. дальнейшая проверка будет происходить в том числе на основе того, исправлены замечания в комментариях или нет. Зато ты всегда можешь оставить свои комментарии для меня :)\n",
    "    </font>\n",
    "</div>\n",
    "\n",
    "<div class=\"alert alert-success\">\n",
    "<font size=\"4\"><b>✔️ Комментарий ревьюера</b></font>\n",
    "    <br /> \n",
    "    <font size=\"3\", color = \"black\">\n",
    "<br />\n",
    "В зелёных блоках будут позитивные комментарии\n",
    "<br />\n",
    "    </font>\n",
    "</div>\n",
    "\n",
    "<div class=\"alert alert-warning\">\n",
    "<font size=\"4\"><b>⚠️ Комментарий ревьюера</b></font>\n",
    "    <br /> \n",
    "    <font size=\"3\", color = \"black\">\n",
    "<br />\n",
    "В жёлтых - некритичные замечания\n",
    "    </font>\n",
    "</div>\n",
    "\n",
    "<div class=\"alert alert-danger\">\n",
    "<font size=\"4\"><b>❌ Комментарий ревьюера</b></font>\n",
    "    <br /> \n",
    "    <font size=\"3\", color = \"black\">\n",
    "<br /> \n",
    "В красных - важные замечания, которые надо обязательно устранить\n",
    "    </font>\n",
    "</div>\n",
    "\n",
    "<div class=\"alert alert-info\">\n",
    "<font size=\"4\">🍕<b> Комментарий ревьюера</b></font>\n",
    "    <br /> \n",
    "    <font size=\"3\", color = \"black\">\n",
    "<br /> \n",
    "В синих с пиццей - различные нейтральные сообщения, советы на будущее и прочее.\n",
    "    </font>\n",
    "</div>"
   ]
  },
  {
   "cell_type": "markdown",
   "metadata": {},
   "source": [
    "# Выбор локации для скважины"
   ]
  },
  {
   "cell_type": "markdown",
   "metadata": {},
   "source": [
    "Допустим, вы работаете в добывающей компании «ГлавРосГосНефть». Нужно решить, где бурить новую скважину.\n",
    "\n",
    "Вам предоставлены пробы нефти в трёх регионах: в каждом 10 000 месторождений, где измерили качество нефти и объём её запасов. Постройте модель машинного обучения, которая поможет определить регион, где добыча принесёт наибольшую прибыль. Проанализируйте возможную прибыль и риски техникой *Bootstrap.*\n",
    "\n",
    "Шаги для выбора локации:\n",
    "\n",
    "- В избранном регионе ищут месторождения, для каждого определяют значения признаков;\n",
    "- Строят модель и оценивают объём запасов;\n",
    "- Выбирают месторождения с самым высокими оценками значений. Количество месторождений зависит от бюджета компании и стоимости разработки одной скважины;\n",
    "- Прибыль равна суммарной прибыли отобранных месторождений."
   ]
  },
  {
   "cell_type": "markdown",
   "metadata": {},
   "source": [
    "## Технический блок"
   ]
  },
  {
   "cell_type": "markdown",
   "metadata": {},
   "source": [
    "#### Установка Библиотек"
   ]
  },
  {
   "cell_type": "code",
   "execution_count": null,
   "metadata": {},
   "outputs": [],
   "source": [
    " pip install -U seaborn"
   ]
  },
  {
   "cell_type": "code",
   "execution_count": null,
   "metadata": {},
   "outputs": [],
   "source": [
    " pip install -U scikit-learn"
   ]
  },
  {
   "cell_type": "code",
   "execution_count": null,
   "metadata": {},
   "outputs": [],
   "source": [
    " pip install -U plotly"
   ]
  },
  {
   "cell_type": "code",
   "execution_count": null,
   "metadata": {},
   "outputs": [],
   "source": [
    " pip install -U phik"
   ]
  },
  {
   "cell_type": "markdown",
   "metadata": {},
   "source": [
    "#### Импорт Библиотек"
   ]
  },
  {
   "cell_type": "code",
   "execution_count": null,
   "metadata": {},
   "outputs": [],
   "source": [
    "import pandas as pd\n",
    "import numpy as np\n",
    "import time\n",
    "from sklearn.model_selection import train_test_split\n",
    "from sklearn.compose import ColumnTransformer\n",
    "from sklearn.preprocessing import StandardScaler\n",
    "from sklearn.linear_model import LinearRegression, Lasso, Ridge\n",
    "from sklearn.model_selection import GridSearchCV\n",
    "from sklearn.metrics import r2_score, root_mean_squared_error\n",
    "from sklearn.pipeline import Pipeline\n",
    "import matplotlib.pyplot as plt\n",
    "import plotly.express as px\n",
    "import phik\n",
    "import seaborn as sns"
   ]
  },
  {
   "cell_type": "markdown",
   "metadata": {},
   "source": [
    "<div class=\"alert alert-danger\">\n",
    "<font size=\"4\"><b>❌ Комментарий ревьюера</b></font>\n",
    "    <br /> \n",
    "    <font size=\"3\", color = \"black\">\n",
    "<br />\n",
    "Упс, код упал"
   ]
  },
  {
   "cell_type": "markdown",
   "metadata": {},
   "source": [
    "<div class=\"alert alert-info\"  style=\"border-radius: 15px; box-shadow: 4px 4px 4px; border: 1px solid \">\n",
    "    \n",
    "<font size=\"5\"><b>Комментарий студента: </b></font>\n",
    "\n",
    "\n",
    "Да, конечно он упал, я отправлял другую версию тетрадки, где были ячейки с установкой остальных библиотек("
   ]
  },
  {
   "cell_type": "code",
   "execution_count": null,
   "metadata": {},
   "outputs": [],
   "source": [
    "RANDOM_STATE = 42\n",
    "state = np.random.RandomState(RANDOM_STATE)"
   ]
  },
  {
   "cell_type": "markdown",
   "metadata": {},
   "source": [
    "<div class=\"alert alert-success\">\n",
    "<font size=\"4\"><b>✔️ Комментарий ревьюера</b></font>\n",
    "    <br /> \n",
    "    <font size=\"3\", color = \"black\">\n",
    "<br />\n",
    "Задать сразу рандом стейт - отличный ход"
   ]
  },
  {
   "cell_type": "markdown",
   "metadata": {},
   "source": [
    "#### Функции"
   ]
  },
  {
   "cell_type": "code",
   "execution_count": null,
   "metadata": {},
   "outputs": [],
   "source": [
    "def research_data(df, cat_columns, num_columns):\n",
    "    '''\n",
    "    Функция для анализа данных\n",
    "    Args:\n",
    "        df: pd.DataFrame\n",
    "        cat_columns: Список названий колонок с категориальными признаками\n",
    "        num_columns: Список названий колонок с численными признаками\n",
    "    Returns:\n",
    "        \n",
    "    '''\n",
    "    cat_columns = cat_columns\n",
    "    num_columns = num_columns\n",
    "    print('\\nСлучайные 5 строк данных\\n')\n",
    "    display(df.sample(5))\n",
    "    print('\\n-----------------------------\\n')\n",
    "    print('\\nINFO\\n')\n",
    "    display(df.info())\n",
    "    print('\\n-----------------------------\\n')\n",
    "    print('\\nОписание данных\\n')\n",
    "    display(df.describe(percentiles=[.05, .25, .5, .75, .95]))\n",
    "    print('\\n-----------------------------\\n')\n",
    "    print('\\nДубликаты\\n')\n",
    "    display(df[df.duplicated()])\n",
    "    print('\\n-----------------------------\\n')\n",
    "    print('\\nПропущенные значения\\n')\n",
    "    for c in cat_columns:\n",
    "        if df[df[c].isna()].shape[0] > 0:\n",
    "            display(df[df[c].isna()])\n",
    "    for n in num_columns:\n",
    "        if df[df[n].isna()].shape[0] > 0:\n",
    "            display(df[df[n].isna()])\n",
    "    print('\\n-----------------------------\\n')\n",
    "    for i in cat_columns:\n",
    "        _ = px.bar(df[i].value_counts(), opacity=0.75,orientation='h', text_auto=True, title=i)\n",
    "        _.update_traces(marker_color='#667998')\n",
    "        _.show()\n",
    "    for i in num_columns:\n",
    "        _ = px.histogram(df[i], opacity=0.75, marginal=\"box\", title=i)\n",
    "        _.update_traces(marker_color='#667998')\n",
    "        _.show()\n",
    "    print('\\n-----------------------------\\n')\n",
    "    _ = sns.PairGrid(df)\n",
    "    _.map_lower(sns.scatterplot)\n",
    "    _.map_diag(sns.histplot)\n",
    "    _.add_legend()\n",
    "    display(_)\n",
    "    print('\\n-----------------------------\\n')\n",
    "    print('Матрица Корреляции')\n",
    "    fig = px.imshow(\n",
    "        df.phik_matrix(interval_cols=num_columns), \n",
    "        title='Матрица Корреляции', \n",
    "        color_continuous_scale='inferno', \n",
    "        width=600, \n",
    "        height=600, \n",
    "        text_auto=True)\n",
    "    fig.layout.coloraxis.showscale = False\n",
    "    fig.show()\n"
   ]
  },
  {
   "cell_type": "code",
   "execution_count": null,
   "metadata": {},
   "outputs": [],
   "source": [
    "def x_xsquare_compasion(data, int_feature, target_feature,):\n",
    "\n",
    "    '''\n",
    "    Функция сравнивает зависимости между одним вводным признаком \n",
    "    в первой степени и целевым признаком в первом случае и \n",
    "    между тем же вводным признаком во второй степени и \n",
    "    целевым признаком во втором случае\n",
    "    Args:\n",
    "        data: pd.DataFrame\n",
    "        int_feature: Имя колонки вводного признака\n",
    "        target_feature: Имя колонки целевого признака\n",
    "    Returns:\n",
    "        Графики с диаграммами рассеяния и линейной регрессии для каждой связи\n",
    "        Коэффициенты детерминации для каждой регрессии\n",
    "    '''\n",
    "    x = data[[int_feature]]\n",
    "    y = data[[target_feature]]\n",
    "    model = LinearRegression()\n",
    "    model.fit(x, y)\n",
    "    \n",
    "    x = data[int_feature]\n",
    "    y = data[target_feature]\n",
    "    x_range = np.linspace(x.min(), x.max(), num=len(x))\n",
    "    a = model.coef_[0]\n",
    "    b = model.intercept_\n",
    "    y_pred = a * x + b\n",
    "\n",
    "    fig, ax = plt.subplots(nrows= 2, ncols= 1, figsize=(11, 11))\n",
    "    \n",
    "    sns.scatterplot(x=x, y=y, alpha=0.5, ax=ax[0])\n",
    "    sns.lineplot(x=x_range, y=y_pred.sort_values(), color='r', ax=ax[0])\n",
    "    \n",
    "    x = data[[int_feature]] **2\n",
    "    y = data[[target_feature]]\n",
    "    model1 = LinearRegression()\n",
    "    model1.fit(x, y)\n",
    "    \n",
    "    x1 = data[int_feature] **2\n",
    "    y1 = data[target_feature]\n",
    "    x_range1 = np.linspace(x1.min(), x1.max(), num=len(x1))\n",
    "    a1 = model1.coef_[0]\n",
    "    b1 = model1.intercept_\n",
    "    y_pred1 = a1 * x1 + b1\n",
    "    \n",
    "    sns.scatterplot(x=x1, y=y1, alpha=0.5, ax=ax[1])\n",
    "    sns.lineplot(x=x_range1, y=y_pred1.sort_values(), color='r', ax=ax[1])\n",
    "\n",
    "    plt.show()\n",
    "    r2_1 = r2_score(y, y_pred.sort_values())\n",
    "    r2_2 = r2_score(y1, y_pred1.sort_values())\n",
    "    print(f'''\n",
    "    Коэффициент детерминации r2 при {int_feature} в первой степени = {r2_1}\n",
    "    Коэффициент детерминации r2 при {int_feature} во второй степени = {r2_2}\n",
    "    Разница между ними = {(r2_2 - r2_1)}\n",
    "    ''')"
   ]
  },
  {
   "cell_type": "code",
   "execution_count": null,
   "metadata": {},
   "outputs": [],
   "source": [
    "def show_coef(X_train, model_lr, positive=False):\n",
    "    '''\n",
    "    Функция для получения и визуализации коэффициентов обученной модели на графике\n",
    "    Args:\n",
    "        X_train: training sample\n",
    "        model_lr: linear regression model\n",
    "    Returns:\n",
    "        sns.barplot\n",
    "    '''\n",
    "    for feature_number, feature_name in enumerate(X_train.columns):\n",
    "        weight = model_lr.coef_[feature_number]\n",
    "        print(f\"{feature_name:<20}: {weight:+.6f}\") \n",
    "    \n",
    "    tmp_df = pd.Series(index=X_train.columns, data=model_lr.coef_).sort_values(ascending=False)\n",
    "    if positive:\n",
    "        sns.barplot(x=abs(tmp_df.values), y=tmp_df.index)\n",
    "    else:\n",
    "        sns.barplot(x=tmp_df.values, y=tmp_df.index)\n",
    "    plt.tight_layout\n",
    "    plt.show()"
   ]
  },
  {
   "cell_type": "markdown",
   "metadata": {},
   "source": [
    "#### Дополнительные настройки"
   ]
  },
  {
   "cell_type": "code",
   "execution_count": null,
   "metadata": {},
   "outputs": [],
   "source": [
    "sns.set_style(\"whitegrid\",\n",
    "              rc={'grid.color': '#a0a0a0', 'grid.linestyle': '--'})\n",
    "sns.set_palette(palette='deep', n_colors=5, desat=0.5)\n",
    "sns.set_color_codes(\"deep\")"
   ]
  },
  {
   "cell_type": "markdown",
   "metadata": {},
   "source": [
    "## Загрузка и подготовка данных"
   ]
  },
  {
   "cell_type": "markdown",
   "metadata": {},
   "source": [
    "Нам передали три датафрейма с данными из трех разных регионов."
   ]
  },
  {
   "cell_type": "code",
   "execution_count": null,
   "metadata": {},
   "outputs": [],
   "source": [
    "try:\n",
    "    geo_0 = pd.read_csv(\n",
    "        '/Users/andreyalekseev/Documents_local/Yandex.Disk.localized/Practicum/7. ML in buisness/Project/geo_data_0.csv')\n",
    "except:\n",
    "    geo_0 = pd.read_csv('/datasets/geo_data_0.csv')\n",
    "try:\n",
    "    geo_1 = pd.read_csv(\n",
    "        '/Users/andreyalekseev/Documents_local/Yandex.Disk.localized/Practicum/7. ML in buisness/Project/geo_data_1.csv')\n",
    "except:\n",
    "    geo_1 = pd.read_csv('/datasets/geo_data_1.csv')\n",
    "try:\n",
    "    geo_2 = pd.read_csv(\n",
    "        '/Users/andreyalekseev/Documents_local/Yandex.Disk.localized/Practicum/7. ML in buisness/Project/geo_data_2.csv')\n",
    "except:\n",
    "    geo_2 = pd.read_csv('/datasets/geo_data_2.csv')"
   ]
  },
  {
   "cell_type": "markdown",
   "metadata": {},
   "source": [
    "<div class=\"alert alert-success\">\n",
    "<font size=\"4\"><b>✔️ Комментарий ревьюера</b></font>\n",
    "    <br /> \n",
    "    <font size=\"3\", color = \"black\">\n",
    "<br />\n",
    "Безопасная загрузка данных через try except - тоже отличное решение"
   ]
  },
  {
   "cell_type": "markdown",
   "metadata": {},
   "source": [
    "#### Изучение данных `geo_0`"
   ]
  },
  {
   "cell_type": "code",
   "execution_count": null,
   "metadata": {},
   "outputs": [],
   "source": [
    "research_data(\n",
    "    geo_0, \n",
    "    cat_columns=[], \n",
    "    num_columns=['f0', 'f1', 'f2', 'product']\n",
    ")"
   ]
  },
  {
   "cell_type": "markdown",
   "metadata": {},
   "source": [
    "<div class=\"alert alert-success\">\n",
    "<font size=\"4\"><b>✔️ Комментарий ревьюера</b></font>\n",
    "    <br /> \n",
    "    <font size=\"3\", color = \"black\">\n",
    "<br />\n",
    "Я ревьюер простой: вижу гистограммы и боксплоты признаков - пишу зелёный комментарий."
   ]
  },
  {
   "cell_type": "markdown",
   "metadata": {},
   "source": [
    "В датасете geo_0:\n",
    "- 100 000 строк;\n",
    "- Нет пропущенных значений;\n",
    "- Нет дубликатов;\n",
    "- Признак `f0`:\n",
    "    - Значения от -1.408605 до 2.362331;\n",
    "    - Среднее 0.500419;\n",
    "    - Медиана 0.502360;\n",
    "    - Выбросы отсутствуют;\n",
    "    - Большая часть значений находятся в отрезке между 1-м и 3-м квартилем от -0.7 до 1.07;\n",
    "    - На гистограмме видны четыре \"гребня\" на отметках -1, 0, 1 и 2(есть некая закономерность по всплеску данных);\n",
    "    - Имеет сильную корреляцию с `id` и `f1`;\n",
    "    - Имеет слабую корреляцию с `product`;\n",
    "    - Не имеет корреляции с `f2`;\n",
    "    - На диаграмме рассеяния с признаком `f1` видны 2 \"подковы\";\n",
    "    - На диаграмме рассеяния с признаком `f2` равномерное распределение;\n",
    "    - На диаграмме рассеяния с признаком `product` видны ступеньки;\n",
    "- Признак `f1`:\n",
    "    - Значения от -0.848218 до 1.343769;\n",
    "    - Среднее 0.250143;\n",
    "    - Медиана 0.250252;\n",
    "    - Выбросы отсутствуют;\n",
    "    - Большая часть значений находятся в отрезке между 1-м и 3-м квартилем от -0.2 до 0.7;\n",
    "    - На гистограмме видны два \"гребня\" вне ящика на отметках -0.4 и 0.9;\n",
    "    - Имеет сильную корреляцию с `id` и `f0`;\n",
    "    - Имеет слабую корреляцию с `product`;\n",
    "    - Не имеет корреляции с `f2`;\n",
    "    - На диаграмме рассеяния с признаком `f0` видны 2 \"подковы\";\n",
    "    - На диаграмме рассеяния с признаком `f2` равномерное распределение;\n",
    "    - На диаграмме рассеяния с признаком `product` видны ступеньки;\n",
    "- Признак `f2`:\n",
    "    - Значения от -12.088328 до 16.003790;\n",
    "    - Среднее 2.502647;\n",
    "    - Медиана 2.515969;\n",
    "    - Присутствуют выбросы ниже -6.35 и выше 11.35;\n",
    "    - Большая часть значений находятся в отрезке между 1-м и 3-м квартилем от 0.2877 до 4.7;\n",
    "    - Не имеет корреляции с `id`, `f0` и `f1`;\n",
    "    - Имеет среднюю корреляцию с `product`;\n",
    "    - На диаграмме рассеяния с признакоми `f0` и `f1` равномерное распределение;\n",
    "    - На диаграмме рассеяния с признаком `product` просматривается линейная зависимость, но с большой дисперсией. Возможно там присутствует квадратичная зависимость. Проверим в следующей ячейке;\n",
    "- Целевой признак `product`:\n",
    "    - Значения от 0 до 185.364347;\n",
    "    - Среднее 92.5;\n",
    "    - Медиана 91.849972;\n",
    "    - Выбросы отсутствуют;\n",
    "    - Большая часть значений находятся в отрезке между 1-м и 3-м квартилем от 56.5 до 128.56;\n",
    "    - Данные разложены на кластеры(видно на гистограмме)\n",
    "    - Имеет сильную корреляцию с `id`;\n",
    "    - Имеет слабую корреляцию с `f0` и `f1`;\n",
    "    - Имеет среднюю корреляцию с `f2`;\n",
    "    - На диаграмме рассеяния с признаком `f0` и `f1` видны ступеньки;\n",
    "    - На диаграмме рассеяния с признаком `f2` просматривается линейная зависимость, но с большой дисперсией. Возможно там присутствует квадратичная зависимость. Проверим в следующей ячейке;\n"
   ]
  },
  {
   "cell_type": "code",
   "execution_count": null,
   "metadata": {},
   "outputs": [],
   "source": [
    "x_xsquare_compasion(geo_0, 'f2', 'product')"
   ]
  },
  {
   "cell_type": "markdown",
   "metadata": {},
   "source": [
    "Коэффициент детерминации r2 повысился! Квадратичная зависимость присутствует, введем новый признак `f2_square`"
   ]
  },
  {
   "cell_type": "code",
   "execution_count": null,
   "metadata": {},
   "outputs": [],
   "source": [
    "geo_0['f2_square'] = geo_0['f2']**2"
   ]
  },
  {
   "cell_type": "markdown",
   "metadata": {},
   "source": [
    "#### Изучение данных `geo_1`"
   ]
  },
  {
   "cell_type": "code",
   "execution_count": null,
   "metadata": {},
   "outputs": [],
   "source": [
    "research_data(geo_1, cat_columns=[], num_columns=['f0', 'f1', 'f2', 'product'])"
   ]
  },
  {
   "cell_type": "markdown",
   "metadata": {},
   "source": [
    "В датасете geo_1:\n",
    "- 100 000 строк;\n",
    "- Нет пропущенных значений;\n",
    "- Нет дубликатов;\n",
    "- Признак `f0`:\n",
    "    - Значения от -31.609576 до 29.421755;\n",
    "    - Среднее 1.141296;\n",
    "    - Медиана 1.153055;\n",
    "    - Есть один выброс на отметке -31.6;\n",
    "    - Большая часть значений находятся в отрезке между 1-м и 3-м квартилем от -6.3 до 8.6;\n",
    "    - На гистограмме видны два \"бугра\" на отметках 1-го и 3-го квартиля;\n",
    "    - Имеет среднюю корреляцию с `id`;\n",
    "    - Имеет слабую корреляцию с `f1`;\n",
    "    - Имеет высокую корреляцию с `product`;\n",
    "    - Не имеет корреляции с `f2`;\n",
    "    - На диаграмме рассеяния с признаком `f1` равномерное распределение;\n",
    "    - На диаграмме рассеяния с признаком `f2` и `product` 6 кластеров, похожих на категории;\n",
    "- Признак `f1`:\n",
    "    - Значения от -26.358598 до 18.734063;\n",
    "    - Среднее -4.796579;\n",
    "    - Медиана -4.813172;\n",
    "    - Выбросы ниже -18.67 и выше 9.05;\n",
    "    - Большая часть значений находятся в отрезке между 1-м и 3-м квартилем от -8.27 до -1.33;\n",
    "    - На гистограмме видно нормальное распределение;\n",
    "    - Имеет сильную корреляцию с `id`;\n",
    "    - Имеет слабую корреляцию с `f0` и `product`;\n",
    "    - Не имеет корреляции с `f2`;\n",
    "    - На диаграмме рассеяния с признаком `f0` отсутствует какая либо взаимосвязь;\n",
    "    - На диаграмме рассеяния с признаком `f2` и `product` 6 кластеров, похожих на категории;\n",
    "- Признак `f2`:\n",
    "    - Значения от -0.018144 до 5.019721;\n",
    "    - Среднее 2.494541;\n",
    "    - Медиана 2.011479;\n",
    "    - Выбросы отсутствуют;\n",
    "    - Большая часть значений находятся в отрезке между 1-м и 3-м квартилем от 1 до 4;\n",
    "    - На гистограмме 6 столбиков(как категории)\n",
    "    - Имеет сильную корреляцию с `id` и `product`;\n",
    "    - Не имеет корреляции с `f0` и `f1`\n",
    "    - На диаграмме рассеяния с признакоми `f0` и `f1` 6 кластеров, похожих на категории;\n",
    "    - На диаграмме рассеяния с признаком `product` есть линейная зависимость;\n",
    "- Целевой признак `product`:\n",
    "    - Значения от 0 до 137.945408;\n",
    "    - Среднее 68.825;\n",
    "    - Медиана 57.085625;\n",
    "    - Выбросы отсутствуют;\n",
    "    - Большая часть значений находятся в отрезке между 1-м и 3-м квартилем от 26.95 до 107.81;\n",
    "    - Данные разложены на кластеры(видно на гистограмме)\n",
    "    - Имеет сильную корреляцию с `f2`;\n",
    "    - Имеет слабую корреляцию с `f1`;\n",
    "    - Имеет среднюю корреляцию с `f0` и `id`;\n",
    "    - На диаграмме рассеяния с признаком `f0` и `f1` 6 кластеров, похожих на категории;\n",
    "    - На диаграмме рассеяния с признаком `f2` есть линейная зависимость;\n"
   ]
  },
  {
   "cell_type": "markdown",
   "metadata": {},
   "source": [
    "#### Изучение данных `geo_2`"
   ]
  },
  {
   "cell_type": "code",
   "execution_count": null,
   "metadata": {},
   "outputs": [],
   "source": [
    "research_data(geo_2, cat_columns=[], num_columns=['f0', 'f1', 'f2', 'product'])"
   ]
  },
  {
   "cell_type": "markdown",
   "metadata": {},
   "source": [
    "В датасете geo_2:\n",
    "- 100 000 строк;\n",
    "- Нет пропущенных значений;\n",
    "- Нет дубликатов;\n",
    "- Признак `f0`:\n",
    "    - Значения от -8.760004 до 7.238262;\n",
    "    - Среднее 0.002023;\n",
    "    - Медиана 0.009424;\n",
    "    - Выбросы ниже -4.64 и выше 4.64;\n",
    "    - Большая часть значений находятся в отрезке между 1-м и 3-м квартилем от -1.16 до 1.16;\n",
    "    - На гистограмме нормальное распределение;\n",
    "    - Имеет сильную корреляцию с `id`;\n",
    "    - Не имеет корреляции с `f1` и `f2`;\n",
    "    - Имеет слабую корреляцию с `product`;\n",
    "    - На диаграмме рассеяния с признаком `f1` и `f2` равномерное распределение;\n",
    "    - На диаграмме рассеяния с признаком  `product` 1 кластер с малой дисперсией до значения `product` ~25, дальше дисперсия больше;\n",
    "- Признак `f1`:\n",
    "    - Значения от -7.084020 до 16.739402;\n",
    "    - Среднее -0.002081;\n",
    "    - Медиана -0.009482;\n",
    "    - Выбросы ниже -4.68 и выше 4.67;\n",
    "    - Большая часть значений находятся в отрезке между 1-м и 3-м квартилем от -1.17 до -1.16;\n",
    "    - На гистограмме видно нормальное распределение;\n",
    "    - Имеет сильную корреляцию с `id`;\n",
    "    - Имеет слабую корреляцию с `product`;\n",
    "    - Не имеет корреляции с `f0` и `f2`;\n",
    "    - На диаграмме рассеяния с признаком `f0` и `f2` равномерное распределение;\n",
    "    - На диаграмме рассеяния с признаком `product` 1 кластер с малой дисперсией до значения `product` ~25, дальше дисперсия больше;\n",
    "- Признак `f2`:\n",
    "    - Значения от -11.970335 до 5.019721;\n",
    "    - Среднее 2.495128;\n",
    "    - Медиана 2.484236;\n",
    "    - Выбросы ниже -6.9 и выше 11.9;\n",
    "    - Большая часть значений находятся в отрезке между 1-м и 3-м квартилем от 0.13 до 4.86;\n",
    "    - На гистограмме видно нормальное распределение;\n",
    "    - Имеет сильную корреляцию с `id` и `product`;\n",
    "    - Не имеет корреляции с `f0` и `f1`;\n",
    "    - Имеет среднюю корреляцию с `product`;\n",
    "    - На диаграмме рассеяния с признакоми `f0` и `f1` равномерное распределение;\n",
    "    - На диаграмме рассеяния с признаком `product` просматривается линейная зависимость, но с большой дисперсией. Возможно там присутствует квадратичная зависимость. Проверим в следующей ячейке;\n",
    "- Целевой признак `product`:\n",
    "    - Значения от 0 до 190.029838;\n",
    "    - Среднее 95;\n",
    "    - Медиана 94.925613;\n",
    "    - Выбросы отсутствуют;\n",
    "    - Большая часть значений находятся в отрезке между 1-м и 3-м квартилем от 59.45 до 130.59;\n",
    "    - Данные разложены на кластеры(видно на гистограмме)\n",
    "    - Не имеет корреляции с `id`;\n",
    "    - Имеет слабую корреляцию с `f0` и `f1`;\n",
    "    - Имеет среднюю корреляцию с `f2`;\n",
    "    - На диаграмме рассеяния с признаком `f0` и `f1` 1 кластер с малой дисперсией до значения `product` ~25, дальше дисперсия больше;\n",
    "    - На диаграмме рассеяния с признаком `f2` просматривается линейная зависимость, но с большой дисперсией. Возможно там присутствует квадратичная зависимость. Проверим в следующей ячейке;\n"
   ]
  },
  {
   "cell_type": "code",
   "execution_count": null,
   "metadata": {},
   "outputs": [],
   "source": [
    "x_xsquare_compasion(geo_2, 'f2', 'product')"
   ]
  },
  {
   "cell_type": "markdown",
   "metadata": {},
   "source": [
    "Коэффициент детерминации r2 повысился! Квадратичная зависимость присутствует, введем новый признак `f2_square`"
   ]
  },
  {
   "cell_type": "code",
   "execution_count": null,
   "metadata": {},
   "outputs": [],
   "source": [
    "geo_2['f2_square'] = geo_2['f2']**2"
   ]
  },
  {
   "cell_type": "markdown",
   "metadata": {},
   "source": [
    "Так же для удобства работы с данными в каждом датафрейме колонку `id` сделаем индексом."
   ]
  },
  {
   "cell_type": "code",
   "execution_count": null,
   "metadata": {},
   "outputs": [],
   "source": [
    "geo_0 = geo_0.set_index('id')"
   ]
  },
  {
   "cell_type": "code",
   "execution_count": null,
   "metadata": {},
   "outputs": [],
   "source": [
    "geo_1 = geo_1.set_index('id')"
   ]
  },
  {
   "cell_type": "code",
   "execution_count": null,
   "metadata": {},
   "outputs": [],
   "source": [
    "geo_2 = geo_2.set_index('id')"
   ]
  },
  {
   "cell_type": "markdown",
   "metadata": {},
   "source": [
    "### Вывод"
   ]
  },
  {
   "cell_type": "markdown",
   "metadata": {},
   "source": [
    "- Мы загрузили переданные нам данные по трем регионам;\n",
    "- Изучили отдельно данные по каждому региону;\n",
    "- Данные синтетические, поэтому интерпретировать их не возможно. Известно только, что целевой признак - это запас в тыс баррелей;\n",
    "- В регионе `geo_0`:\n",
    "  - Максимальный запас сырья в скважине 185.364347 тыс. баррелей;\n",
    "  - Средний запас сырья в скважине 92.5 тыс. баррелей;\n",
    "- В регионе `geo_1`:\n",
    "  - Максимальный запас сырья в скважине 137.945408 тыс. баррелей;\n",
    "  - Средний запас сырья в скважине 68.825 тыс. баррелей;\n",
    "- В регионе `geo_2`:\n",
    "  - Максимальный запас сырья в скважине 190.029838 тыс. баррелей;\n",
    "  - Средний запас сырья в скважине 95 тыс. баррелей;\n",
    "- Регион `geo_2` кажется самым перспективным, посмотрим, что покажет наше исследование;\n",
    "- Взаимосвязь данных в каждом регионе разная, но в каждом выделяется прихнак `f2`. Между ним и целевым признаком есть линейная зависимость. В `geo_0` и `geo_2` квадратичная линейная зависимость. Поэтому мы добавили дополнительный признак `f2_square`;\n",
    "- В датафреймах индексами сделали `id`"
   ]
  },
  {
   "cell_type": "markdown",
   "metadata": {},
   "source": [
    "## Обучение и проверка модели"
   ]
  },
  {
   "cell_type": "markdown",
   "metadata": {},
   "source": [
    "Разобьем данные на обучающую и валидационную выборки в соотношении 75:25."
   ]
  },
  {
   "cell_type": "code",
   "execution_count": null,
   "metadata": {},
   "outputs": [],
   "source": [
    "X0_train, X0_test, y0_train, y0_test = train_test_split(\n",
    "    geo_0.drop('product', axis=1),\n",
    "    geo_0['product'],\n",
    "    test_size = 0.25, \n",
    "    random_state = RANDOM_STATE,\n",
    "    # random_state = 42,\n",
    "    # Хотел стратифицировать, но выдает ошибку, так и не понял почему\n",
    "    #stratify=geo_0['product']\n",
    ")"
   ]
  },
  {
   "cell_type": "markdown",
   "metadata": {},
   "source": [
    "<div class=\"alert alert-warning\">\n",
    "<font size=\"4\"><b>⚠️ Комментарий ревьюера</b></font>\n",
    "    <br /> \n",
    "    <font size=\"3\", color = \"black\">\n",
    "<br />\n",
    "А как ты себе представляешь стратификацию в задаче регрессии?\n",
    "\n",
    "И для того ли ты сохранял рандом стейт в глобальную константу, чтобы затем вписывать число, а не эту константу?"
   ]
  },
  {
   "cell_type": "markdown",
   "metadata": {},
   "source": [
    "<div class=\"alert alert-info\"  style=\"border-radius: 15px; box-shadow: 4px 4px 4px; border: 1px solid \">\n",
    "    \n",
    "<font size=\"5\"><b>Комментарий студента: </b></font>\n",
    "\n",
    "\n",
    "Спасибо, что увидел это! Про стратификацию понял потом, про константу тоже. "
   ]
  },
  {
   "cell_type": "code",
   "execution_count": null,
   "metadata": {},
   "outputs": [],
   "source": [
    "X1_train, X1_test, y1_train, y1_test = train_test_split(\n",
    "    geo_1.drop('product', axis=1),\n",
    "    geo_1['product'],\n",
    "    test_size = 0.25, \n",
    "    random_state = RANDOM_STATE,\n",
    "    # random_state = 42,\n",
    ")"
   ]
  },
  {
   "cell_type": "code",
   "execution_count": null,
   "metadata": {},
   "outputs": [],
   "source": [
    "X2_train, X2_test, y2_train, y2_test = train_test_split(\n",
    "    geo_2.drop('product', axis=1),\n",
    "    geo_2['product'],\n",
    "    test_size = 0.25, \n",
    "    random_state = RANDOM_STATE,\n",
    "    # random_state = 42,\n",
    ")"
   ]
  },
  {
   "cell_type": "markdown",
   "metadata": {},
   "source": [
    "Сделаем пайплайн в котором будем перебирать модели линейной регрессии без штрафов и со штрафами."
   ]
  },
  {
   "cell_type": "code",
   "execution_count": null,
   "metadata": {},
   "outputs": [],
   "source": [
    "pipeline = Pipeline([\n",
    "    ('preprocessor', StandardScaler()),\n",
    "    ('models', LinearRegression(n_jobs=-1))\n",
    "])\n",
    "pipeline"
   ]
  },
  {
   "cell_type": "code",
   "execution_count": null,
   "metadata": {},
   "outputs": [],
   "source": [
    "param_grid = [\n",
    "    # словарь для модели Lasso()\n",
    "    {\n",
    "        'models': [Lasso(random_state=RANDOM_STATE)] \n",
    "    },\n",
    "    \n",
    "    # словарь для модели Ridge() \n",
    "    {\n",
    "        'models': [Ridge(random_state=RANDOM_STATE)]  \n",
    "    }\n",
    "]"
   ]
  },
  {
   "cell_type": "markdown",
   "metadata": {},
   "source": [
    "Обучим модели и сделаем предсказания на валидационной выборке.\n",
    "\n",
    "Начнем с региона `geo_0`"
   ]
  },
  {
   "cell_type": "code",
   "execution_count": null,
   "metadata": {},
   "outputs": [],
   "source": [
    "start = time.time()\n",
    "\n",
    "grid_search0 = GridSearchCV(\n",
    "    pipeline, \n",
    "    param_grid, \n",
    "    cv=5,\n",
    "    scoring='neg_root_mean_squared_error',\n",
    "    n_jobs=-1\n",
    ")\n",
    "grid_search0.fit(X0_train, y0_train)\n",
    "\n",
    "print ('Метрика лучшей модели на тренировочной выборке:', grid_search0.best_score_)\n",
    "grid_search_time = time.time() - start\n",
    "print('Время поиска', grid_search_time)\n",
    "print('Лучшая модель:',grid_search0.best_estimator_.named_steps['models'])"
   ]
  },
  {
   "cell_type": "markdown",
   "metadata": {},
   "source": [
    "Учитывая, что среднее значение в этом регионе 92.5, RMSE равный 37.7 кажется очень большим! Посмотрим на коэффициенты модели."
   ]
  },
  {
   "cell_type": "code",
   "execution_count": null,
   "metadata": {},
   "outputs": [],
   "source": [
    "show_coef(X0_train, grid_search0.best_estimator_.named_steps['models'], positive=False)"
   ]
  },
  {
   "cell_type": "markdown",
   "metadata": {},
   "source": [
    "Самый сильный вес у признака `f2` а вот квадрат этого признака никак не влияет на предсказания модели."
   ]
  },
  {
   "cell_type": "code",
   "execution_count": null,
   "metadata": {},
   "outputs": [],
   "source": [
    "y0_test_pred = grid_search0.predict(X0_test)\n",
    "print(f'Средний запас предсказанного сырья: {y0_test_pred.mean()}')\n",
    "print(f'Метрика RMSE на тестовой выборке: {root_mean_squared_error(y0_test, y0_test_pred)}')\n",
    "print(f'Коэффициент детерминации R2: {r2_score(y0_test, y0_test_pred)}')"
   ]
  },
  {
   "cell_type": "markdown",
   "metadata": {},
   "source": [
    "- Средний запас предсказанного сырья оказался близок к среднему истинного значения;\n",
    "- Метрика RMSE на валидационной выборке так же плоха как и на обучающей;\n",
    "- Коэффициент детерминации R2 показывает, что модель дает правильные предсказания в 27% случаев, что очень мало."
   ]
  },
  {
   "cell_type": "code",
   "execution_count": null,
   "metadata": {},
   "outputs": [],
   "source": [
    "geo_0_test = X0_test.merge(y0_test, on='id')\n",
    "geo_0_test['y_pred'] = y0_test_pred\n",
    "geo_0_test"
   ]
  },
  {
   "cell_type": "markdown",
   "metadata": {},
   "source": [
    "Обучим модель и сделаем предсказания на валидационной выборке для региона `geo_1`"
   ]
  },
  {
   "cell_type": "code",
   "execution_count": null,
   "metadata": {},
   "outputs": [],
   "source": [
    "start = time.time()\n",
    "\n",
    "grid_search1 = GridSearchCV(\n",
    "    pipeline, \n",
    "    param_grid, \n",
    "    cv=5,\n",
    "    scoring='neg_root_mean_squared_error',\n",
    "    n_jobs=-1\n",
    ")\n",
    "grid_search1.fit(X1_train, y1_train)\n",
    "\n",
    "print ('Метрика лучшей модели на тренировочной выборке:', grid_search1.best_score_)\n",
    "grid_search_time = time.time() - start\n",
    "print('Время поиска', grid_search_time)\n",
    "print('Лучшая модель:',grid_search1.best_estimator_.named_steps['models'])"
   ]
  },
  {
   "cell_type": "markdown",
   "metadata": {},
   "source": [
    "Очень хорошая метрика на тренировочных данных. Посмотрим на коэффициенты модели."
   ]
  },
  {
   "cell_type": "code",
   "execution_count": null,
   "metadata": {},
   "outputs": [],
   "source": [
    "show_coef(X1_train, grid_search1.best_estimator_.named_steps['models'], positive=False)"
   ]
  },
  {
   "cell_type": "markdown",
   "metadata": {},
   "source": [
    "Очень большой вес у признака `f2`. Оно и не удивительно, там ярковыраженная линейная взаимосвязь с целевым признаком."
   ]
  },
  {
   "cell_type": "code",
   "execution_count": null,
   "metadata": {},
   "outputs": [],
   "source": [
    "y1_test_pred = grid_search1.predict(X1_test)\n",
    "print(f'Средний запас предсказанного сырья: {y1_test_pred.mean()}')\n",
    "print(f'Метрика RMSE на тестовой выборке: {root_mean_squared_error(y1_test, y1_test_pred)}')\n",
    "print(f'Коэффициент детерминации R2: {r2_score(y1_test, y1_test_pred)}')"
   ]
  },
  {
   "cell_type": "markdown",
   "metadata": {},
   "source": [
    "- Метрика на валидационной выборке такая же хорошая как и на обучающей;\n",
    "- Коэффициент детерминации почти идеальный - 99.9% верных предсказаний;\n",
    "- Среднее значение такое же как и истинное. Такое же низкое."
   ]
  },
  {
   "cell_type": "code",
   "execution_count": null,
   "metadata": {},
   "outputs": [],
   "source": [
    "geo_1_test = X1_test.merge(y1_test, on='id')\n",
    "geo_1_test['y_pred'] = y1_test_pred\n",
    "geo_1_test"
   ]
  },
  {
   "cell_type": "markdown",
   "metadata": {},
   "source": [
    "Обучим модель и сделаем предсказания на валидационной выборке для региона `geo_2`"
   ]
  },
  {
   "cell_type": "code",
   "execution_count": null,
   "metadata": {},
   "outputs": [],
   "source": [
    "start = time.time()\n",
    "\n",
    "grid_search2 = GridSearchCV(\n",
    "    pipeline, \n",
    "    param_grid, \n",
    "    cv=5,\n",
    "    scoring='neg_root_mean_squared_error',\n",
    "    n_jobs=-1\n",
    ")\n",
    "grid_search2.fit(X2_train, y2_train)\n",
    "\n",
    "print ('Метрика лучшей модели на тренировочной выборке:', grid_search2.best_score_)\n",
    "grid_search_time = time.time() - start\n",
    "print('Время поиска', grid_search_time)\n",
    "print('Лучшая модель:',grid_search2.best_estimator_.named_steps['models'])"
   ]
  },
  {
   "cell_type": "markdown",
   "metadata": {},
   "source": [
    "Самая худшая метрика на обучении."
   ]
  },
  {
   "cell_type": "code",
   "execution_count": null,
   "metadata": {},
   "outputs": [],
   "source": [
    "show_coef(X2_train, grid_search2.best_estimator_.named_steps['models'], positive=False)"
   ]
  },
  {
   "cell_type": "markdown",
   "metadata": {},
   "source": [
    "Единственный весомый признак у этой модели - это `f2`. А `f2_square` оказался так же не нужен. Как и остальные признаки в целом."
   ]
  },
  {
   "cell_type": "code",
   "execution_count": null,
   "metadata": {},
   "outputs": [],
   "source": [
    "y2_test_pred = grid_search2.predict(X2_test)\n",
    "print(f'Средний запас предсказанного сырья: {y2_test_pred.mean()}')\n",
    "print(f'Метрика RMSE на тестовой выборке: {root_mean_squared_error(y2_test, y2_test_pred)}')\n",
    "print(f'Кщэффициент детерминации R2: {r2_score(y2_test, y2_test_pred)}')"
   ]
  },
  {
   "cell_type": "markdown",
   "metadata": {},
   "source": [
    "<div class=\"alert alert-success\">\n",
    "<font size=\"4\"><b>✔️ Комментарий ревьюера</b></font>\n",
    "    <br /> \n",
    "    <font size=\"3\", color = \"black\">\n",
    "<br />    \n",
    "Получены адекватные модели\n",
    "<br />"
   ]
  },
  {
   "cell_type": "markdown",
   "metadata": {},
   "source": [
    "- В среднее значение попали, настоящее - 95;\n",
    "- Метрика RMSE велика на столько, что немного не хватает до стандартного отклонения, которое равно 45. Скорее всего на угад можно сделать такие же предсказания."
   ]
  },
  {
   "cell_type": "code",
   "execution_count": null,
   "metadata": {},
   "outputs": [],
   "source": [
    "geo_2_test = X2_test.merge(y2_test, on='id')\n",
    "geo_2_test['y_pred'] = y2_test_pred\n",
    "geo_2_test"
   ]
  },
  {
   "cell_type": "markdown",
   "metadata": {},
   "source": [
    "## Подготовка к расчёту прибыли"
   ]
  },
  {
   "cell_type": "markdown",
   "metadata": {},
   "source": [
    "Добавим переменные где будут ключевые значения для рассчетов:\n",
    "- `boreholes_quantity` итоговое количество скважин для разведки - 200 штук;\n",
    "- `budget` бюджет на разработку скважин 10 млрд. рублей;\n",
    "- `cost` стоимость 1 тыс баррелей - 450 тыс рублей;\n",
    "- `losses_risk` риск убытков 2.5%;\n",
    "- `budget_and_risk` бюджет с учетом рисков рассчитаем добавив 2.5% рисков из бюджета(потому что прибыль от скважин должна в итоге его превысить с учетом рисков)."
   ]
  },
  {
   "cell_type": "code",
   "execution_count": null,
   "metadata": {},
   "outputs": [],
   "source": [
    "BOREHOLES_QUANTITY = 200\n",
    "BUDGET = 10_000_000_000\n",
    "COST = 450_000\n",
    "LOSSES_RISK = 0.025\n",
    "budget_and_risk = BUDGET + BUDGET * LOSSES_RISK"
   ]
  },
  {
   "cell_type": "code",
   "execution_count": null,
   "metadata": {},
   "outputs": [],
   "source": [
    "# boreholes_quantity = 200\n",
    "# budget = 10000000000\n",
    "# cost = 450000\n",
    "# losses_risk = 0.025\n",
    "# budget_and_risk = budget + budget * losses_risk"
   ]
  },
  {
   "cell_type": "markdown",
   "metadata": {},
   "source": [
    "<div class=\"alert alert-info\">\n",
    "<font size=\"4\">🍕<b> Комментарий ревьюера</b></font>\n",
    "    <br /> \n",
    "    <font size=\"3\", color = \"black\">\n",
    "<br /> \n",
    "Стандарт PEP8 рекомендует константы именовать КАПСОМ. Кроме того, есть смысл использовать разделение разрядов, если число большое. Например:\n",
    "\n",
    "`BUDGET = 10_000_000_000`\n",
    "    </font>\n",
    "\n",
    "</div>"
   ]
  },
  {
   "cell_type": "markdown",
   "metadata": {},
   "source": [
    "<div class=\"alert alert-info\"  style=\"border-radius: 15px; box-shadow: 4px 4px 4px; border: 1px solid \">\n",
    "    \n",
    "<font size=\"5\"><b>Комментарий студента: </b></font>\n",
    "\n",
    "\n",
    "Принял. Спасибо!"
   ]
  },
  {
   "cell_type": "markdown",
   "metadata": {},
   "source": [
    "Рассчитаем сколько тыс баррелей надо в среднем с каждой скважины, что бы окупить разработку."
   ]
  },
  {
   "cell_type": "code",
   "execution_count": null,
   "metadata": {},
   "outputs": [],
   "source": [
    "# average_stock = budget_and_risk / cost / boreholes_quantity\n",
    "# average_stock\n",
    "\n",
    "average_stock = BUDGET / COST / BOREHOLES_QUANTITY\n",
    "average_stock"
   ]
  },
  {
   "cell_type": "markdown",
   "metadata": {},
   "source": [
    "<div class=\"alert alert-danger\">\n",
    "<font size=\"4\"><b>❌ Комментарий ревьюера</b></font>\n",
    "    <br /> \n",
    "    <font size=\"3\", color = \"black\">\n",
    "<br />\n",
    "Количество необходимой для безубыточности нефти не зависит от уровня рисков. Тут надо использовать просто `budget`"
   ]
  },
  {
   "cell_type": "markdown",
   "metadata": {},
   "source": [
    "<div class=\"alert alert-info\"  style=\"border-radius: 15px; box-shadow: 4px 4px 4px; border: 1px solid \">\n",
    "    \n",
    "<font size=\"5\"><b>Комментарий студента: </b></font>\n",
    "\n",
    "\n",
    "Ок, спасибо! Старый код закомментировал, новый написал ниже."
   ]
  },
  {
   "cell_type": "markdown",
   "metadata": {},
   "source": [
    "~~Почти 114 тыс баррелей надо получить в среднем с каждой скажины, что бы разработка окупилась.\n",
    "Сравним это значение со средними данными по регионам.~~\n",
    "\n",
    "111 тыс баррелей надо получить в среднем с каждой скажины, что бы разработка окупилась.\n",
    "Сравним это значение со средними данными по регионам."
   ]
  },
  {
   "cell_type": "code",
   "execution_count": null,
   "metadata": {},
   "outputs": [],
   "source": [
    "print(\n",
    "    f'''\n",
    "    Средний запас предсказанного сырья в регионе geo_0: {y0_test_pred.mean()}\n",
    "    Средний запас предсказанного сырья в регионе geo_1: {y1_test_pred.mean()}\n",
    "    Средний запас предсказанного сырья в регионе geo_2: {y2_test_pred.mean()}\n",
    "    '''\n",
    ")"
   ]
  },
  {
   "cell_type": "markdown",
   "metadata": {},
   "source": [
    "В каждом регионе среднее значение меньше нужного. Но надо не забывать, что скажин там много и в каком нибудь мы должны найти 200 скважин, где будет нужный нам запас сырья."
   ]
  },
  {
   "cell_type": "markdown",
   "metadata": {},
   "source": [
    "<div class=\"alert alert-warning\">\n",
    "<font size=\"4\"><b>⚠️ Комментарий ревьюера</b></font>\n",
    "    <br /> \n",
    "    <font size=\"3\", color = \"black\">\n",
    "<br />\n",
    "А вот тут ты как бы прав, но как бы и не до конца. Каждый регион в среднем убыточен <b>с точки зрения модели</b>. А модель иногда может и ошибаться. А вот таргеты валидационной выборки - это истина в последней инстанции. Поэтому и сравнивать надо не с предсказанным, а с истинным средним запасом. Бизнес же интересует прибыль, а прибыль вычисляется по таргетам. Предсказания бизнесу интересны исключительно постольку, поскольку могут ли они увеличить прибыль.\n",
    "\n",
    "Ну и когда выведешь средние истинные запасы, вот тебе контрольный вопрос на засыпку: лишь в одном регионе RMSE низкая, а среднее предсказание очень близко среднему истинному запасу во всех. Как так? Получается, что RMSE может быть высокой, а модель всё равно качественной? Интересно почитать твои мысли на этот счёт."
   ]
  },
  {
   "cell_type": "code",
   "execution_count": null,
   "metadata": {},
   "outputs": [],
   "source": [
    "print(\n",
    "    f'''\n",
    "    Средний запас истинного сырья в регионе geo_0: {y0_test.mean()}\n",
    "    Средний запас истинного сырья в регионе geo_1: {y1_test.mean()}\n",
    "    Средний запас истинного сырья в регионе geo_2: {y2_test.mean()}\n",
    "    '''\n",
    ")"
   ]
  },
  {
   "cell_type": "markdown",
   "metadata": {},
   "source": [
    "<div class=\"alert alert-info\"  style=\"border-radius: 15px; box-shadow: 4px 4px 4px; border: 1px solid \">\n",
    "    \n",
    "<font size=\"5\"><b>Комментарий студента: </b></font>\n",
    "\n",
    "\n",
    "Среднее значение у таргета и предсказаний на валидационной выборке почти равны не смотря на RMSE, потому что это линейная регрессия и у признаков как и у таргета присутствует нормальное распределение. Чем больше экспериментов тем больше среднее стремится к \"идеальному\" среднему. Конечно может быть смещение колокола по оси х, но при условии наличия выбросов, которые перетянут в положительную или отрицательную значение среднего, но у нас с этим все в порядке вроде. \n",
    "\n",
    "В общет так своими словами понимаю, почему несмотря на корень среднеквадратичной ошибки у нас предсказанные средние почти равны истинным."
   ]
  },
  {
   "cell_type": "markdown",
   "metadata": {},
   "source": [
    "### Вывод"
   ]
  },
  {
   "cell_type": "markdown",
   "metadata": {},
   "source": [
    "Мы рассчитали, сколько в среднем нужно получить сырья со скважины с условиями установленных бюджета, количества скважини рисками.\n",
    "\n",
    "Вычисленное значение оказалось выше среднего значения по регионам, но очевидно, что скважин там много и в полне вероятно, что из них можно выбрать 200 скважин подходящих нам по объему сырья."
   ]
  },
  {
   "cell_type": "markdown",
   "metadata": {},
   "source": [
    "## Расчёт прибыли и рисков "
   ]
  },
  {
   "cell_type": "markdown",
   "metadata": {},
   "source": [
    "Напишем функцию для расчета прибыли."
   ]
  },
  {
   "cell_type": "code",
   "execution_count": null,
   "metadata": {},
   "outputs": [],
   "source": [
    "def profit_calculation(product_volume, cost, losses_risk):\n",
    "    profit = product_volume * cost\n",
    "    profit -= profit * losses_risk\n",
    "    return round(profit)"
   ]
  },
  {
   "cell_type": "markdown",
   "metadata": {},
   "source": [
    "<div class=\"alert alert-danger\">\n",
    "<font size=\"4\"><b>❌ Комментарий ревьюера</b></font>\n",
    "    <br /> \n",
    "    <font size=\"3\", color = \"black\">\n",
    "<br />\n",
    "Тут самая критически важная ошибка: ты неверно вычисляешь прибыль. Описанный алгоритм в ТЗ:\n",
    "\n",
    "+ Берём топ скважин по предсказанным запасам\n",
    "+ Считаем прибыль по реальным запасам\n",
    "\n",
    "У тебя же реальные запасы вообще не участвуют в расчётах. Приведи, пожалуйста, в соответствие с ТЗ расчёт прибыли."
   ]
  },
  {
   "cell_type": "markdown",
   "metadata": {},
   "source": [
    "<div class=\"alert alert-info\"  style=\"border-radius: 15px; box-shadow: 4px 4px 4px; border: 1px solid \">\n",
    "    \n",
    "<font size=\"5\"><b>Комментарий студента: </b></font>\n",
    "\n",
    "\n",
    "Вот текст ТЗ.. Не вижу там таких строк(\n",
    "\n",
    "4. Напишите функцию для расчёта прибыли по выбранным скважинам и предсказаниям модели:\n",
    " 1. Выберите скважины с максимальными значениями предсказаний. \n",
    " 2. Просуммируйте целевое значение объёма сырья, соответствующее этим предсказаниям.\n",
    " 3. Рассчитайте прибыль для полученного объёма сырья.\n",
    "5. Посчитайте риски и прибыль для каждого региона:\n",
    " 1. Примените технику Bootstrap с 1000 выборок, чтобы найти распределение прибыли.\n",
    " 2. Найдите среднюю прибыль, 95%-й доверительный интервал и риск убытков. Убыток — это отрицательная прибыль.\n",
    " 3. Напишите выводы: предложите регион для разработки скважин и обоснуйте выбор.\n",
    "\n",
    "\n",
    "Я исправил код и сумму посчитал по реальным запасам. В остальном не очень понимаю, что нужно исправить. Напиши пожалуйста или укажи на ТЗ. Если есть другое ТЗ - напиши его пожалуйста"
   ]
  },
  {
   "cell_type": "markdown",
   "metadata": {},
   "source": [
    "<div class=\"alert alert-danger\">\n",
    "<font size=\"4\"><b>❌ Комментарий ревьюера V2</b></font>\n",
    "    <br /> \n",
    "    <font size=\"3\", color = \"black\">\n",
    "<br />\n",
    "\n",
    "> Просуммируйте целевое значение объёма сырья, соответствующее этим предсказаниям.\n",
    "\n",
    "Ну так а что такое по твоему `целевое значение объёма сырья`? Это и есть истинные запасы. То, что я написал тебе - это то же самое, что ты скопировал из ТЗ, только описанное короче.\n",
    "\n",
    "Давай для лучшего понимания представим ситуацию: к тебе подходит представитель заказчика, спрашивает \"какие 200 скважин ваша модель рекомендует для разработки?\", ты прогнал данные через модель, сказал: \"вот по этим 200 скважинам модель прогнозирует прибыль 1.5 миллиарда\". Они ушли добывать, спустя месяц пишут: \"мы разработали эти 200 скважин, прибыль оказалась ниже вашего прогноза, 1.2 миллиарда, но всё равно огромное спасибо, без вас мы бы были в убытках\".\n",
    "\n",
    "Вот именно это имитирует расчёт прибыли в проекте: модель выбирает топ-200 скважин по предсказаниям, но прибыль мы считаем не по ним, а **по тому, что на самом деле оказалось в этих скважинах**. У тебя же `целевое значение объёма сырья` не участвует сейчас в расчёте вообще. Модель предсказала, что в скважине куча нефти, а в ней оказалось 2 капли? Пофиг, считаем, что модель не ошиблась, и у нас куча денег )\n",
    "\n",
    "Вообще это в целом надо принять как факт: в расчёте любой метрики, будь то метрика из машинного обучения или финансовая от заказчика, участвуют как предсказание, так и верные ответы. Ты никаких выводов не можешь делать только по предсказаниям, потому что модель - не идеальна, она иногда ошибается.\n",
    "\n",
    "Надеюсь, удалось подробнее мысль развернуть.\n",
    "\n",
    "Ну и собственно тк целевое значение у тебя в расчёте не участвует, то и картина у тебя получилась красивой: прибыль везде и всегда. Реальность чуть более сурова."
   ]
  },
  {
   "cell_type": "markdown",
   "metadata": {},
   "source": [
    "Выберем скважины с максимальными значениями предсказаний. "
   ]
  },
  {
   "cell_type": "code",
   "execution_count": null,
   "metadata": {},
   "outputs": [],
   "source": [
    "geo_0_top = geo_0_test.sort_values(by='y_pred', ascending=False)[:200]"
   ]
  },
  {
   "cell_type": "code",
   "execution_count": null,
   "metadata": {},
   "outputs": [],
   "source": [
    "geo_1_top = geo_1_test.sort_values(by='y_pred', ascending=False)[:200]"
   ]
  },
  {
   "cell_type": "code",
   "execution_count": null,
   "metadata": {},
   "outputs": [],
   "source": [
    "geo_2_top = geo_2_test.sort_values(by='y_pred', ascending=False)[:200]"
   ]
  },
  {
   "cell_type": "markdown",
   "metadata": {},
   "source": [
    "Просуммируем целевое значение объёма сырья, соответствующее этим предсказаниям."
   ]
  },
  {
   "cell_type": "code",
   "execution_count": null,
   "metadata": {},
   "outputs": [],
   "source": [
    "# Old Cell\n",
    "# geo_0_top_sum = round(geo_0_top['y_pred'].sum(), 2)\n",
    "\n",
    "# geo_1_top_sum = round(geo_1_top['y_pred'].sum(), 2)\n",
    "\n",
    "# geo_2_top_sum = round(geo_2_top['y_pred'].sum(), 2)"
   ]
  },
  {
   "cell_type": "code",
   "execution_count": null,
   "metadata": {},
   "outputs": [],
   "source": [
    "geo_0_top_sum = round(geo_0_top['product'].sum(), 2)\n",
    "\n",
    "geo_1_top_sum = round(geo_1_top['product'].sum(), 2)\n",
    "\n",
    "geo_2_top_sum = round(geo_2_top['product'].sum(), 2)"
   ]
  },
  {
   "cell_type": "markdown",
   "metadata": {},
   "source": [
    "Рассчитаем прибыль для полученного объёма сырья."
   ]
  },
  {
   "cell_type": "code",
   "execution_count": null,
   "metadata": {},
   "outputs": [],
   "source": [
    "geo_0_profit = profit_calculation(geo_0_top_sum, COST, LOSSES_RISK)\n",
    "print(f'Прибыль для полученного объема сырья в регионе geo_0: {geo_0_profit}')\n",
    "\n",
    "geo_1_profit = profit_calculation(geo_1_top_sum, COST, LOSSES_RISK)\n",
    "print(f'Прибыль для полученного объема сырья в регионе geo_1: {geo_1_profit}')\n",
    "\n",
    "geo_2_profit = profit_calculation(geo_2_top_sum, COST, LOSSES_RISK)\n",
    "print(f'Прибыль для полученного объема сырья в регионе geo_2: {geo_2_profit}')"
   ]
  },
  {
   "cell_type": "markdown",
   "metadata": {},
   "source": [
    "Выбрав 200 лучших скважин в каждом регионе мы рассчитали прибыль от них и она оказалась более 10 млрд рублей. Большей по прибыли оказался регион `geo_0`"
   ]
  },
  {
   "cell_type": "markdown",
   "metadata": {},
   "source": [
    "## Расчет рисков и прибыли для каждого региона:"
   ]
  },
  {
   "cell_type": "markdown",
   "metadata": {},
   "source": [
    "<div class=\"alert alert-info\"  style=\"border-radius: 15px; box-shadow: 4px 4px 4px; border: 1px solid \">\n",
    "    \n",
    "<font size=\"5\"><b>Комментарий студента: </b></font>\n",
    "\n",
    "\n",
    "Привет. С бутстрепом не очень уверен. Сделал распределение, в нем нашел среднее. Распределение с учетом риска 2.5%. Правильно ли? Есть сомнение. Жду комментариев, которые помогут довести это дело до конца. Спасибо заранее)\n",
    "\n",
    "Вывод напишу конечно, но позже, как разберусь с бутстрепом."
   ]
  },
  {
   "cell_type": "markdown",
   "metadata": {},
   "source": [
    "С помощью бутстрепа мы нашли распределение прибыли."
   ]
  },
  {
   "cell_type": "code",
   "execution_count": null,
   "metadata": {},
   "outputs": [],
   "source": [
    "subsample = geo_0_test.sample(500, replace=True, random_state=state)\n",
    "subsample = subsample.sort_values(by='y_pred', ascending=False)[:200]['product']\n",
    "subsample"
   ]
  },
  {
   "cell_type": "code",
   "execution_count": null,
   "metadata": {},
   "outputs": [],
   "source": [
    "# geo_0_top_500 = geo_0_test.sort_values(by='y_pred', ascending=False)[:500]\n",
    "\n",
    "values = []\n",
    "\n",
    "for i in range(1000):\n",
    "    # subsample = geo_0_top_500['y_pred'].sample(200, replace=True, random_state=state)\n",
    "\n",
    "    subsample = geo_0_test.sample(500, replace=True, random_state=state)\n",
    "    subsample = subsample.sort_values(by='y_pred', ascending=False)[:200]['product']\n",
    "    \n",
    "    values.append(profit_calculation(subsample.sum(), COST, LOSSES_RISK))\n",
    "\n",
    "values = pd.Series(values) \n",
    "    \n",
    "# lower = values.quantile(0.0125) \n",
    "# upper = values.quantile(0.9875)\n",
    "lower = values.quantile(0.025) \n",
    "upper = values.quantile(0.975)\n",
    "mean = (lower + upper) / 2\n",
    "geo_0_risk = BUDGET - lower\n",
    "\n",
    "print(\n",
    "    f'''\n",
    "    Минимальная средняя прибыль которая может быть получена с 200 точек выбранных из 500 с учетом рисков: {lower}\n",
    "    Максимальная средняя прибыль которая может быть получена с 200 точек выбранных из 500 с учетом рисков: {upper}\n",
    "    Средняя прибыль которая может быть получена с 200 точек выбранных из 500 с учетом рисков: {mean}\n",
    "    Максимальные возможные риски потерь в этом регионе: {geo_0_risk}\n",
    "    '''\n",
    ")"
   ]
  },
  {
   "cell_type": "markdown",
   "metadata": {},
   "source": [
    "<div class=\"alert alert-danger\">\n",
    "<font size=\"4\"><b>❌ Комментарий ревьюера V2</b></font>\n",
    "    <br /> \n",
    "    <font size=\"3\", color = \"black\">\n",
    "<br /> \n",
    "Опять же, посмотри ТЗ внимательнее. Оно явно описывает, что мы сначала генерируем сэмпл размером 500, а из этих 500 отбираем 200 лучших по предсказанию модели скважин. Ты же сделал с точностью да наоборот: сначала отбор 500 лучших по запасам, а потом из них сэмпл размером 200.\n",
    "\n",
    "Также ТЗ просит явно оценивать риск убытков в регионе, чего я у тебя сейчас не вижу."
   ]
  },
  {
   "cell_type": "code",
   "execution_count": null,
   "metadata": {},
   "outputs": [],
   "source": [
    "# КОД РЕВЬЮЕРА\n",
    "0.9875 - 0.0125"
   ]
  },
  {
   "cell_type": "markdown",
   "metadata": {},
   "source": [
    "<div class=\"alert alert-danger\">\n",
    "<font size=\"4\"><b>❌ Комментарий ревьюера V2</b></font>\n",
    "    <br /> \n",
    "    <font size=\"3\", color = \"black\">\n",
    "<br /> \n",
    "Я точно помню, что писал этот комментарий уже после того, как комментарии не сохранились, возможно опять какой-то баг подпортил жизнь, но я всегда готов повториться: ты вычислил интервал 97.5%, а ТЗ просит интервал 95%"
   ]
  },
  {
   "cell_type": "markdown",
   "metadata": {},
   "source": [
    "<div class=\"alert alert-info\"  style=\"border-radius: 15px; box-shadow: 4px 4px 4px; border: 1px solid \">\n",
    "    \n",
    "<font size=\"5\"><b>Комментарий студента: </b></font>\n",
    "\n",
    "\n",
    "Сделал сэмпл из 500 и по ним отбор 200 лучших, потом взял истинные значения этих 200 и по ним вычислил доверительный интервал и среднее этого доверительного интервала. \n",
    "\n",
    "В формуле же у меня уже был рассчет с учетом рисков? или это не правильно? \n",
    "\n",
    "В формуле я взял сумму объема сырья, умножил на стоимость и вычел из этого риск 2.5%"
   ]
  },
  {
   "cell_type": "code",
   "execution_count": null,
   "metadata": {},
   "outputs": [],
   "source": [
    "# geo_1_top_500 = geo_1_test.sort_values(by='y_pred', ascending=False)[:500]\n",
    "\n",
    "values = []\n",
    "\n",
    "for i in range(1000):\n",
    "    # subsample = geo_1_top_500['y_pred'].sample(200, replace=True, random_state=state)\n",
    "    subsample = geo_1_test.sample(500, replace=True, random_state=state)\n",
    "    subsample = subsample.sort_values(by='y_pred', ascending=False)[:200]['product']\n",
    "    \n",
    "    values.append(profit_calculation(subsample.sum(), COST, LOSSES_RISK))\n",
    "\n",
    "values = pd.Series(values) \n",
    "    \n",
    "# lower = values.quantile(0.0125) \n",
    "# upper = values.quantile(0.9875)\n",
    "lower = values.quantile(0.025) \n",
    "upper = values.quantile(0.975)\n",
    "mean = (lower + upper) / 2\n",
    "geo_1_risk = BUDGET - lower\n",
    "\n",
    "print(\n",
    "    f'''\n",
    "    Минимальная средняя прибыль которая может быть получена с 200 точек выбранных из 500 с учетом рисков: {lower}\n",
    "    Максимальная средняя прибыль которая может быть получена с 200 точек выбранных из 500 с учетом рисков: {upper}\n",
    "    Средняя прибыль которая может быть получена с 200 точек выбранных из 500 с учетом рисков: {mean}\n",
    "    Максимальные возможные риски потерь в этом регионе: {geo_1_risk}\n",
    "    '''\n",
    ")"
   ]
  },
  {
   "cell_type": "code",
   "execution_count": null,
   "metadata": {},
   "outputs": [],
   "source": [
    "# geo_2_top_500 = geo_2_test.sort_values(by='y_pred', ascending=False)[:500]\n",
    "\n",
    "values = []\n",
    "\n",
    "for i in range(1000):\n",
    "    # subsample = geo_2_top_500['y_pred'].sample(200, replace=True, random_state=state)\n",
    "    subsample = geo_2_test.sample(500, replace=True, random_state=state)\n",
    "    subsample = subsample.sort_values(by='y_pred', ascending=False)[:200]['product']\n",
    "    \n",
    "    values.append(profit_calculation(subsample.sum(), COST, LOSSES_RISK))\n",
    "\n",
    "values = pd.Series(values) \n",
    "    \n",
    "# lower = values.quantile(0.0125) \n",
    "# upper = values.quantile(0.9875)\n",
    "lower = values.quantile(0.025) \n",
    "upper = values.quantile(0.975)\n",
    "mean = (lower + upper) / 2\n",
    "geo_2_risk = BUDGET - lower\n",
    "\n",
    "print(\n",
    "    f'''\n",
    "    Минимальная средняя прибыль которая может быть получена с 200 точек выбранных из 500 с учетом рисков: {lower}\n",
    "    Максимальная средняя прибыль которая может быть получена с 200 точек выбранных из 500 с учетом рисков: {upper}\n",
    "    Средняя прибыль которая может быть получена с 200 точек выбранных из 500 с учетом рисков: {mean}\n",
    "    Максимальные возможные риски потерь в этом регионе: {geo_2_risk}\n",
    "    '''\n",
    ")"
   ]
  },
  {
   "cell_type": "code",
   "execution_count": null,
   "metadata": {},
   "outputs": [],
   "source": [
    "print(f'''\n",
    "    Максимальные возможные риски потерь в регионе geo_0: {round(geo_0_risk, 2)} рублей\n",
    "    Максимальные возможные риски потерь в регионе geo_1: {round(geo_1_risk, 2)} рублей\n",
    "    Максимальные возможные риски потерь в регионе geo_2: {round(geo_2_risk, 2)} рублей\n",
    "    Минимальные максимальные риски: {round(np.array([geo_0_risk, geo_1_risk, geo_2_risk]).min())}\n",
    "''')"
   ]
  },
  {
   "cell_type": "markdown",
   "metadata": {},
   "source": [
    "Вычислив максимальные возможные риски в трех регионах, с минимальным показателем оказался регион `geo_1` В нем максимальные риски равны почти 202 млн. рублей"
   ]
  },
  {
   "cell_type": "markdown",
   "metadata": {},
   "source": [
    "## Чек-лист готовности проекта"
   ]
  },
  {
   "cell_type": "markdown",
   "metadata": {},
   "source": [
    "Поставьте 'x' в выполненных пунктах. Далее нажмите Shift+Enter."
   ]
  },
  {
   "cell_type": "markdown",
   "metadata": {},
   "source": [
    "- [x]  Jupyter Notebook открыт\n",
    "- [ ]  Весь код выполняется без ошибок\n",
    "- [ ]  Ячейки с кодом расположены в порядке исполнения\n",
    "- [ ]  Выполнен шаг 1: данные подготовлены\n",
    "- [ ]  Выполнен шаг 2: модели обучены и проверены\n",
    "    - [ ]  Данные корректно разбиты на обучающую и валидационную выборки\n",
    "    - [ ]  Модели обучены, предсказания сделаны\n",
    "    - [ ]  Предсказания и правильные ответы на валидационной выборке сохранены\n",
    "    - [ ]  На экране напечатаны результаты\n",
    "    - [ ]  Сделаны выводы\n",
    "- [ ]  Выполнен шаг 3: проведена подготовка к расчёту прибыли\n",
    "    - [ ]  Для всех ключевых значений созданы константы Python\n",
    "    - [ ]  Посчитано минимальное среднее количество продукта в месторождениях региона, достаточное для разработки\n",
    "    - [ ]  По предыдущему пункту сделаны выводы\n",
    "    - [ ]  Написана функция расчёта прибыли\n",
    "- [ ]  Выполнен шаг 4: посчитаны риски и прибыль\n",
    "    - [ ]  Проведена процедура *Bootstrap*\n",
    "    - [ ]  Все параметры бутстрепа соответствуют условию\n",
    "    - [ ]  Найдены все нужные величины\n",
    "    - [ ]  Предложен регион для разработки месторождения\n",
    "    - [ ]  Выбор региона обоснован"
   ]
  },
  {
   "cell_type": "code",
   "execution_count": null,
   "metadata": {},
   "outputs": [],
   "source": []
  }
 ],
 "metadata": {
  "ExecuteTimeLog": [
   {
    "duration": 1172,
    "start_time": "2024-04-21T21:48:22.188Z"
   },
   {
    "duration": 0,
    "start_time": "2024-04-21T21:48:23.364Z"
   },
   {
    "duration": 0,
    "start_time": "2024-04-21T21:48:23.365Z"
   },
   {
    "duration": 0,
    "start_time": "2024-04-21T21:48:23.366Z"
   },
   {
    "duration": 0,
    "start_time": "2024-04-21T21:48:23.368Z"
   },
   {
    "duration": 0,
    "start_time": "2024-04-21T21:48:23.369Z"
   },
   {
    "duration": 0,
    "start_time": "2024-04-21T21:48:23.370Z"
   },
   {
    "duration": 0,
    "start_time": "2024-04-21T21:48:23.371Z"
   },
   {
    "duration": 0,
    "start_time": "2024-04-21T21:48:23.372Z"
   },
   {
    "duration": 0,
    "start_time": "2024-04-21T21:48:23.374Z"
   },
   {
    "duration": 0,
    "start_time": "2024-04-21T21:48:23.393Z"
   },
   {
    "duration": 0,
    "start_time": "2024-04-21T21:48:23.394Z"
   },
   {
    "duration": 0,
    "start_time": "2024-04-21T21:48:23.395Z"
   },
   {
    "duration": 0,
    "start_time": "2024-04-21T21:48:23.396Z"
   },
   {
    "duration": 0,
    "start_time": "2024-04-21T21:48:23.397Z"
   },
   {
    "duration": 0,
    "start_time": "2024-04-21T21:48:23.398Z"
   },
   {
    "duration": 0,
    "start_time": "2024-04-21T21:48:23.399Z"
   },
   {
    "duration": 0,
    "start_time": "2024-04-21T21:48:23.400Z"
   },
   {
    "duration": 0,
    "start_time": "2024-04-21T21:48:23.401Z"
   },
   {
    "duration": 0,
    "start_time": "2024-04-21T21:48:23.402Z"
   },
   {
    "duration": 0,
    "start_time": "2024-04-21T21:48:23.403Z"
   },
   {
    "duration": 0,
    "start_time": "2024-04-21T21:48:23.405Z"
   },
   {
    "duration": 0,
    "start_time": "2024-04-21T21:48:23.406Z"
   },
   {
    "duration": 0,
    "start_time": "2024-04-21T21:48:23.407Z"
   },
   {
    "duration": 0,
    "start_time": "2024-04-21T21:48:23.409Z"
   },
   {
    "duration": 0,
    "start_time": "2024-04-21T21:48:23.410Z"
   },
   {
    "duration": 0,
    "start_time": "2024-04-21T21:48:23.411Z"
   },
   {
    "duration": 0,
    "start_time": "2024-04-21T21:48:23.412Z"
   },
   {
    "duration": 0,
    "start_time": "2024-04-21T21:48:23.414Z"
   },
   {
    "duration": 0,
    "start_time": "2024-04-21T21:48:23.415Z"
   },
   {
    "duration": 0,
    "start_time": "2024-04-21T21:48:23.417Z"
   },
   {
    "duration": 0,
    "start_time": "2024-04-21T21:48:23.418Z"
   },
   {
    "duration": 0,
    "start_time": "2024-04-21T21:48:23.420Z"
   },
   {
    "duration": 0,
    "start_time": "2024-04-21T21:48:23.421Z"
   },
   {
    "duration": 0,
    "start_time": "2024-04-21T21:48:23.422Z"
   },
   {
    "duration": 0,
    "start_time": "2024-04-21T21:48:23.424Z"
   },
   {
    "duration": 1,
    "start_time": "2024-04-21T21:48:23.425Z"
   },
   {
    "duration": 0,
    "start_time": "2024-04-21T21:48:23.427Z"
   },
   {
    "duration": 0,
    "start_time": "2024-04-21T21:48:23.429Z"
   },
   {
    "duration": 0,
    "start_time": "2024-04-21T21:48:23.494Z"
   },
   {
    "duration": 0,
    "start_time": "2024-04-21T21:48:23.495Z"
   },
   {
    "duration": 0,
    "start_time": "2024-04-21T21:48:23.496Z"
   },
   {
    "duration": 0,
    "start_time": "2024-04-21T21:48:23.497Z"
   },
   {
    "duration": 0,
    "start_time": "2024-04-21T21:48:23.498Z"
   },
   {
    "duration": 0,
    "start_time": "2024-04-21T21:48:23.499Z"
   },
   {
    "duration": 0,
    "start_time": "2024-04-21T21:48:23.500Z"
   },
   {
    "duration": 0,
    "start_time": "2024-04-21T21:48:23.501Z"
   },
   {
    "duration": 0,
    "start_time": "2024-04-21T21:48:23.502Z"
   },
   {
    "duration": 0,
    "start_time": "2024-04-21T21:48:23.503Z"
   },
   {
    "duration": 0,
    "start_time": "2024-04-21T21:48:23.505Z"
   },
   {
    "duration": 0,
    "start_time": "2024-04-21T21:48:23.506Z"
   },
   {
    "duration": 0,
    "start_time": "2024-04-21T21:48:23.507Z"
   },
   {
    "duration": 9218,
    "start_time": "2024-04-21T21:49:58.747Z"
   },
   {
    "duration": 10226,
    "start_time": "2024-04-22T21:24:49.818Z"
   },
   {
    "duration": 1916,
    "start_time": "2024-04-22T21:25:00.046Z"
   },
   {
    "duration": 0,
    "start_time": "2024-04-22T21:25:01.965Z"
   },
   {
    "duration": 0,
    "start_time": "2024-04-22T21:25:01.966Z"
   },
   {
    "duration": 0,
    "start_time": "2024-04-22T21:25:01.967Z"
   },
   {
    "duration": 0,
    "start_time": "2024-04-22T21:25:01.968Z"
   },
   {
    "duration": 0,
    "start_time": "2024-04-22T21:25:01.969Z"
   },
   {
    "duration": 0,
    "start_time": "2024-04-22T21:25:01.970Z"
   },
   {
    "duration": 0,
    "start_time": "2024-04-22T21:25:01.971Z"
   },
   {
    "duration": 0,
    "start_time": "2024-04-22T21:25:01.972Z"
   },
   {
    "duration": 0,
    "start_time": "2024-04-22T21:25:01.973Z"
   },
   {
    "duration": 0,
    "start_time": "2024-04-22T21:25:01.974Z"
   },
   {
    "duration": 0,
    "start_time": "2024-04-22T21:25:01.975Z"
   },
   {
    "duration": 0,
    "start_time": "2024-04-22T21:25:01.976Z"
   },
   {
    "duration": 0,
    "start_time": "2024-04-22T21:25:01.977Z"
   },
   {
    "duration": 0,
    "start_time": "2024-04-22T21:25:01.977Z"
   },
   {
    "duration": 0,
    "start_time": "2024-04-22T21:25:01.978Z"
   },
   {
    "duration": 0,
    "start_time": "2024-04-22T21:25:01.979Z"
   },
   {
    "duration": 0,
    "start_time": "2024-04-22T21:25:01.980Z"
   },
   {
    "duration": 0,
    "start_time": "2024-04-22T21:25:01.981Z"
   },
   {
    "duration": 0,
    "start_time": "2024-04-22T21:25:01.982Z"
   },
   {
    "duration": 0,
    "start_time": "2024-04-22T21:25:01.983Z"
   },
   {
    "duration": 0,
    "start_time": "2024-04-22T21:25:01.984Z"
   },
   {
    "duration": 0,
    "start_time": "2024-04-22T21:25:01.985Z"
   },
   {
    "duration": 0,
    "start_time": "2024-04-22T21:25:01.987Z"
   },
   {
    "duration": 0,
    "start_time": "2024-04-22T21:25:01.988Z"
   },
   {
    "duration": 0,
    "start_time": "2024-04-22T21:25:01.989Z"
   },
   {
    "duration": 0,
    "start_time": "2024-04-22T21:25:01.990Z"
   },
   {
    "duration": 0,
    "start_time": "2024-04-22T21:25:01.991Z"
   },
   {
    "duration": 0,
    "start_time": "2024-04-22T21:25:01.992Z"
   },
   {
    "duration": 0,
    "start_time": "2024-04-22T21:25:01.993Z"
   },
   {
    "duration": 0,
    "start_time": "2024-04-22T21:25:01.994Z"
   },
   {
    "duration": 0,
    "start_time": "2024-04-22T21:25:01.994Z"
   },
   {
    "duration": 0,
    "start_time": "2024-04-22T21:25:01.995Z"
   },
   {
    "duration": 0,
    "start_time": "2024-04-22T21:25:01.996Z"
   },
   {
    "duration": 0,
    "start_time": "2024-04-22T21:25:01.997Z"
   },
   {
    "duration": 0,
    "start_time": "2024-04-22T21:25:01.998Z"
   },
   {
    "duration": 0,
    "start_time": "2024-04-22T21:25:01.998Z"
   },
   {
    "duration": 0,
    "start_time": "2024-04-22T21:25:01.999Z"
   },
   {
    "duration": 0,
    "start_time": "2024-04-22T21:25:02.000Z"
   },
   {
    "duration": 0,
    "start_time": "2024-04-22T21:25:02.001Z"
   },
   {
    "duration": 0,
    "start_time": "2024-04-22T21:25:02.002Z"
   },
   {
    "duration": 0,
    "start_time": "2024-04-22T21:25:02.003Z"
   },
   {
    "duration": 0,
    "start_time": "2024-04-22T21:25:02.004Z"
   },
   {
    "duration": 1,
    "start_time": "2024-04-22T21:25:02.060Z"
   },
   {
    "duration": 0,
    "start_time": "2024-04-22T21:25:02.063Z"
   },
   {
    "duration": 0,
    "start_time": "2024-04-22T21:25:02.064Z"
   },
   {
    "duration": 0,
    "start_time": "2024-04-22T21:25:02.066Z"
   },
   {
    "duration": 0,
    "start_time": "2024-04-22T21:25:02.067Z"
   },
   {
    "duration": 0,
    "start_time": "2024-04-22T21:25:02.068Z"
   },
   {
    "duration": 0,
    "start_time": "2024-04-22T21:25:02.069Z"
   },
   {
    "duration": 0,
    "start_time": "2024-04-22T21:25:02.069Z"
   },
   {
    "duration": 0,
    "start_time": "2024-04-22T21:25:02.070Z"
   },
   {
    "duration": 12215,
    "start_time": "2024-04-23T07:45:01.888Z"
   },
   {
    "duration": 1504,
    "start_time": "2024-04-23T07:45:14.107Z"
   },
   {
    "duration": 0,
    "start_time": "2024-04-23T07:45:15.614Z"
   },
   {
    "duration": 0,
    "start_time": "2024-04-23T07:45:15.615Z"
   },
   {
    "duration": 0,
    "start_time": "2024-04-23T07:45:15.617Z"
   },
   {
    "duration": 0,
    "start_time": "2024-04-23T07:45:15.618Z"
   },
   {
    "duration": 0,
    "start_time": "2024-04-23T07:45:15.619Z"
   },
   {
    "duration": 0,
    "start_time": "2024-04-23T07:45:15.620Z"
   },
   {
    "duration": 0,
    "start_time": "2024-04-23T07:45:15.621Z"
   },
   {
    "duration": 0,
    "start_time": "2024-04-23T07:45:15.623Z"
   },
   {
    "duration": 0,
    "start_time": "2024-04-23T07:45:15.624Z"
   },
   {
    "duration": 0,
    "start_time": "2024-04-23T07:45:15.625Z"
   },
   {
    "duration": 0,
    "start_time": "2024-04-23T07:45:15.644Z"
   },
   {
    "duration": 0,
    "start_time": "2024-04-23T07:45:15.646Z"
   },
   {
    "duration": 0,
    "start_time": "2024-04-23T07:45:15.647Z"
   },
   {
    "duration": 1,
    "start_time": "2024-04-23T07:45:15.648Z"
   },
   {
    "duration": 0,
    "start_time": "2024-04-23T07:45:15.650Z"
   },
   {
    "duration": 0,
    "start_time": "2024-04-23T07:45:15.651Z"
   },
   {
    "duration": 0,
    "start_time": "2024-04-23T07:45:15.652Z"
   },
   {
    "duration": 0,
    "start_time": "2024-04-23T07:45:15.653Z"
   },
   {
    "duration": 0,
    "start_time": "2024-04-23T07:45:15.655Z"
   },
   {
    "duration": 0,
    "start_time": "2024-04-23T07:45:15.656Z"
   },
   {
    "duration": 0,
    "start_time": "2024-04-23T07:45:15.657Z"
   },
   {
    "duration": 0,
    "start_time": "2024-04-23T07:45:15.658Z"
   },
   {
    "duration": 0,
    "start_time": "2024-04-23T07:45:15.660Z"
   },
   {
    "duration": 0,
    "start_time": "2024-04-23T07:45:15.662Z"
   },
   {
    "duration": 0,
    "start_time": "2024-04-23T07:45:15.663Z"
   },
   {
    "duration": 0,
    "start_time": "2024-04-23T07:45:15.664Z"
   },
   {
    "duration": 0,
    "start_time": "2024-04-23T07:45:15.665Z"
   },
   {
    "duration": 0,
    "start_time": "2024-04-23T07:45:15.666Z"
   },
   {
    "duration": 0,
    "start_time": "2024-04-23T07:45:15.668Z"
   },
   {
    "duration": 0,
    "start_time": "2024-04-23T07:45:15.669Z"
   },
   {
    "duration": 0,
    "start_time": "2024-04-23T07:45:15.670Z"
   },
   {
    "duration": 0,
    "start_time": "2024-04-23T07:45:15.671Z"
   },
   {
    "duration": 0,
    "start_time": "2024-04-23T07:45:15.672Z"
   },
   {
    "duration": 0,
    "start_time": "2024-04-23T07:45:15.674Z"
   },
   {
    "duration": 0,
    "start_time": "2024-04-23T07:45:15.675Z"
   },
   {
    "duration": 0,
    "start_time": "2024-04-23T07:45:15.676Z"
   },
   {
    "duration": 0,
    "start_time": "2024-04-23T07:45:15.677Z"
   },
   {
    "duration": 0,
    "start_time": "2024-04-23T07:45:15.679Z"
   },
   {
    "duration": 0,
    "start_time": "2024-04-23T07:45:15.680Z"
   },
   {
    "duration": 0,
    "start_time": "2024-04-23T07:45:15.681Z"
   },
   {
    "duration": 0,
    "start_time": "2024-04-23T07:45:15.682Z"
   },
   {
    "duration": 0,
    "start_time": "2024-04-23T07:45:15.683Z"
   },
   {
    "duration": 0,
    "start_time": "2024-04-23T07:45:15.684Z"
   },
   {
    "duration": 0,
    "start_time": "2024-04-23T07:45:15.685Z"
   },
   {
    "duration": 0,
    "start_time": "2024-04-23T07:45:15.686Z"
   },
   {
    "duration": 0,
    "start_time": "2024-04-23T07:45:15.687Z"
   },
   {
    "duration": 0,
    "start_time": "2024-04-23T07:45:15.688Z"
   },
   {
    "duration": 0,
    "start_time": "2024-04-23T07:45:15.750Z"
   },
   {
    "duration": 0,
    "start_time": "2024-04-23T07:45:15.751Z"
   },
   {
    "duration": 0,
    "start_time": "2024-04-23T07:45:15.752Z"
   },
   {
    "duration": 0,
    "start_time": "2024-04-23T07:45:15.753Z"
   },
   {
    "duration": 3196,
    "start_time": "2024-04-23T07:46:21.879Z"
   },
   {
    "duration": 1305,
    "start_time": "2024-04-23T07:46:25.077Z"
   },
   {
    "duration": 0,
    "start_time": "2024-04-23T07:46:26.385Z"
   },
   {
    "duration": 0,
    "start_time": "2024-04-23T07:46:26.386Z"
   },
   {
    "duration": 0,
    "start_time": "2024-04-23T07:46:26.387Z"
   },
   {
    "duration": 0,
    "start_time": "2024-04-23T07:46:26.388Z"
   },
   {
    "duration": 0,
    "start_time": "2024-04-23T07:46:26.389Z"
   },
   {
    "duration": 0,
    "start_time": "2024-04-23T07:46:26.390Z"
   },
   {
    "duration": 0,
    "start_time": "2024-04-23T07:46:26.391Z"
   },
   {
    "duration": 0,
    "start_time": "2024-04-23T07:46:26.392Z"
   },
   {
    "duration": 0,
    "start_time": "2024-04-23T07:46:26.393Z"
   },
   {
    "duration": 0,
    "start_time": "2024-04-23T07:46:26.394Z"
   },
   {
    "duration": 0,
    "start_time": "2024-04-23T07:46:26.396Z"
   },
   {
    "duration": 0,
    "start_time": "2024-04-23T07:46:26.397Z"
   },
   {
    "duration": 0,
    "start_time": "2024-04-23T07:46:26.398Z"
   },
   {
    "duration": 0,
    "start_time": "2024-04-23T07:46:26.399Z"
   },
   {
    "duration": 0,
    "start_time": "2024-04-23T07:46:26.401Z"
   },
   {
    "duration": 0,
    "start_time": "2024-04-23T07:46:26.402Z"
   },
   {
    "duration": 0,
    "start_time": "2024-04-23T07:46:26.404Z"
   },
   {
    "duration": 0,
    "start_time": "2024-04-23T07:46:26.405Z"
   },
   {
    "duration": 0,
    "start_time": "2024-04-23T07:46:26.406Z"
   },
   {
    "duration": 0,
    "start_time": "2024-04-23T07:46:26.407Z"
   },
   {
    "duration": 0,
    "start_time": "2024-04-23T07:46:26.446Z"
   },
   {
    "duration": 0,
    "start_time": "2024-04-23T07:46:26.447Z"
   },
   {
    "duration": 0,
    "start_time": "2024-04-23T07:46:26.449Z"
   },
   {
    "duration": 0,
    "start_time": "2024-04-23T07:46:26.451Z"
   },
   {
    "duration": 0,
    "start_time": "2024-04-23T07:46:26.451Z"
   },
   {
    "duration": 0,
    "start_time": "2024-04-23T07:46:26.452Z"
   },
   {
    "duration": 0,
    "start_time": "2024-04-23T07:46:26.453Z"
   },
   {
    "duration": 0,
    "start_time": "2024-04-23T07:46:26.454Z"
   },
   {
    "duration": 0,
    "start_time": "2024-04-23T07:46:26.454Z"
   },
   {
    "duration": 0,
    "start_time": "2024-04-23T07:46:26.457Z"
   },
   {
    "duration": 0,
    "start_time": "2024-04-23T07:46:26.458Z"
   },
   {
    "duration": 0,
    "start_time": "2024-04-23T07:46:26.459Z"
   },
   {
    "duration": 0,
    "start_time": "2024-04-23T07:46:26.461Z"
   },
   {
    "duration": 0,
    "start_time": "2024-04-23T07:46:26.462Z"
   },
   {
    "duration": 0,
    "start_time": "2024-04-23T07:46:26.464Z"
   },
   {
    "duration": 0,
    "start_time": "2024-04-23T07:46:26.473Z"
   },
   {
    "duration": 0,
    "start_time": "2024-04-23T07:46:26.477Z"
   },
   {
    "duration": 0,
    "start_time": "2024-04-23T07:46:26.478Z"
   },
   {
    "duration": 0,
    "start_time": "2024-04-23T07:46:26.479Z"
   },
   {
    "duration": 0,
    "start_time": "2024-04-23T07:46:26.480Z"
   },
   {
    "duration": 0,
    "start_time": "2024-04-23T07:46:26.481Z"
   },
   {
    "duration": 0,
    "start_time": "2024-04-23T07:46:26.483Z"
   },
   {
    "duration": 0,
    "start_time": "2024-04-23T07:46:26.484Z"
   },
   {
    "duration": 0,
    "start_time": "2024-04-23T07:46:26.484Z"
   },
   {
    "duration": 0,
    "start_time": "2024-04-23T07:46:26.486Z"
   },
   {
    "duration": 0,
    "start_time": "2024-04-23T07:46:26.486Z"
   },
   {
    "duration": 0,
    "start_time": "2024-04-23T07:46:26.487Z"
   },
   {
    "duration": 0,
    "start_time": "2024-04-23T07:46:26.488Z"
   },
   {
    "duration": 0,
    "start_time": "2024-04-23T07:46:26.489Z"
   },
   {
    "duration": 0,
    "start_time": "2024-04-23T07:46:26.554Z"
   },
   {
    "duration": 0,
    "start_time": "2024-04-23T07:46:26.555Z"
   },
   {
    "duration": 3,
    "start_time": "2024-04-23T09:44:43.623Z"
   },
   {
    "duration": 9923,
    "start_time": "2024-04-23T20:31:41.479Z"
   },
   {
    "duration": 6491,
    "start_time": "2024-04-23T20:31:51.405Z"
   },
   {
    "duration": 20433,
    "start_time": "2024-04-23T20:31:57.898Z"
   },
   {
    "duration": 3300,
    "start_time": "2024-04-23T20:32:18.333Z"
   },
   {
    "duration": 1778,
    "start_time": "2024-04-23T20:33:21.107Z"
   },
   {
    "duration": 3,
    "start_time": "2024-04-23T20:33:28.630Z"
   },
   {
    "duration": 9,
    "start_time": "2024-04-23T20:33:57.677Z"
   },
   {
    "duration": 7,
    "start_time": "2024-04-23T20:34:06.937Z"
   },
   {
    "duration": 4,
    "start_time": "2024-04-23T20:34:07.567Z"
   },
   {
    "duration": 4,
    "start_time": "2024-04-23T20:34:08.604Z"
   },
   {
    "duration": 1696,
    "start_time": "2024-04-23T20:34:11.263Z"
   },
   {
    "duration": 1550,
    "start_time": "2024-04-23T20:37:09.842Z"
   },
   {
    "duration": 3,
    "start_time": "2024-04-23T20:37:13.410Z"
   },
   {
    "duration": 8,
    "start_time": "2024-04-23T20:37:15.750Z"
   },
   {
    "duration": 8,
    "start_time": "2024-04-23T20:37:16.147Z"
   },
   {
    "duration": 4,
    "start_time": "2024-04-23T20:37:17.446Z"
   },
   {
    "duration": 6,
    "start_time": "2024-04-23T20:37:18.453Z"
   },
   {
    "duration": 412,
    "start_time": "2024-04-23T20:37:20.467Z"
   },
   {
    "duration": 6,
    "start_time": "2024-04-23T20:37:25.209Z"
   },
   {
    "duration": 3,
    "start_time": "2024-04-23T20:37:32.462Z"
   },
   {
    "duration": 9,
    "start_time": "2024-04-23T20:37:34.445Z"
   },
   {
    "duration": 9,
    "start_time": "2024-04-23T20:37:34.817Z"
   },
   {
    "duration": 9,
    "start_time": "2024-04-23T20:37:35.271Z"
   },
   {
    "duration": 49,
    "start_time": "2024-04-23T20:37:41.399Z"
   },
   {
    "duration": 39,
    "start_time": "2024-04-23T20:37:41.971Z"
   },
   {
    "duration": 49,
    "start_time": "2024-04-23T20:37:42.461Z"
   },
   {
    "duration": 11,
    "start_time": "2024-04-23T20:38:30.633Z"
   },
   {
    "duration": 3,
    "start_time": "2024-04-23T20:38:31.511Z"
   },
   {
    "duration": 1935,
    "start_time": "2024-04-23T20:38:36.189Z"
   },
   {
    "duration": 322,
    "start_time": "2024-04-23T20:38:50.963Z"
   },
   {
    "duration": 95,
    "start_time": "2024-04-23T20:38:54.321Z"
   },
   {
    "duration": 34,
    "start_time": "2024-04-23T20:38:55.636Z"
   },
   {
    "duration": 2095,
    "start_time": "2024-04-23T20:38:57.121Z"
   },
   {
    "duration": 272,
    "start_time": "2024-04-23T20:39:00.521Z"
   },
   {
    "duration": 83,
    "start_time": "2024-04-23T20:39:01.433Z"
   },
   {
    "duration": 30,
    "start_time": "2024-04-23T20:39:02.136Z"
   },
   {
    "duration": 2315,
    "start_time": "2024-04-23T20:39:03.301Z"
   },
   {
    "duration": 334,
    "start_time": "2024-04-23T20:39:06.408Z"
   },
   {
    "duration": 19,
    "start_time": "2024-04-23T20:39:07.796Z"
   },
   {
    "duration": 34,
    "start_time": "2024-04-23T20:39:08.944Z"
   },
   {
    "duration": 2,
    "start_time": "2024-04-23T20:39:10.972Z"
   },
   {
    "duration": 4,
    "start_time": "2024-04-23T20:39:11.769Z"
   },
   {
    "duration": 4,
    "start_time": "2024-04-23T20:39:19.446Z"
   },
   {
    "duration": 3,
    "start_time": "2024-04-23T20:39:26.823Z"
   },
   {
    "duration": 11,
    "start_time": "2024-04-23T20:39:52.113Z"
   },
   {
    "duration": 34,
    "start_time": "2024-04-23T20:39:52.125Z"
   },
   {
    "duration": 21,
    "start_time": "2024-04-23T20:39:52.160Z"
   },
   {
    "duration": 2,
    "start_time": "2024-04-23T20:39:52.401Z"
   },
   {
    "duration": 5,
    "start_time": "2024-04-23T20:39:52.839Z"
   },
   {
    "duration": 4,
    "start_time": "2024-04-23T20:39:53.651Z"
   },
   {
    "duration": 197,
    "start_time": "2024-04-23T20:39:58.487Z"
   },
   {
    "duration": 192,
    "start_time": "2024-04-23T20:40:01.540Z"
   },
   {
    "duration": 186,
    "start_time": "2024-04-23T20:40:02.081Z"
   },
   {
    "duration": 4,
    "start_time": "2024-04-23T20:48:57.466Z"
   }
  ],
  "kernelspec": {
   "display_name": "Python 3 (ipykernel)",
   "language": "python",
   "name": "python3"
  },
  "language_info": {
   "codemirror_mode": {
    "name": "ipython",
    "version": 3
   },
   "file_extension": ".py",
   "mimetype": "text/x-python",
   "name": "python",
   "nbconvert_exporter": "python",
   "pygments_lexer": "ipython3",
   "version": "3.9.18"
  },
  "toc": {
   "base_numbering": 1,
   "nav_menu": {},
   "number_sections": true,
   "sideBar": true,
   "skip_h1_title": true,
   "title_cell": "Table of Contents",
   "title_sidebar": "Contents",
   "toc_cell": false,
   "toc_position": {},
   "toc_section_display": true,
   "toc_window_display": false
  }
 },
 "nbformat": 4,
 "nbformat_minor": 4
}
